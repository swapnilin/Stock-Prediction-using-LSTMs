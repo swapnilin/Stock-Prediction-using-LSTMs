{
 "cells": [
  {
   "cell_type": "markdown",
   "metadata": {},
   "source": [
    "## Amazon Stock Price Prediction"
   ]
  },
  {
   "cell_type": "markdown",
   "metadata": {
    "colab_type": "text",
    "id": "_jMBTKtPWTP4"
   },
   "source": [
    "Data Source: Yahoo Finance using `yfinance`module\n",
    "\n",
    "**Index**\n",
    "\n",
    "1. Data Extraction\n",
    "\n",
    "2. Formatting data for time series\n",
    "\n",
    "3. Feature engineering\n",
    "\n",
    "4. ARIMA model\n",
    "\n",
    "6. LSTM model with one feature\n",
    "\n",
    "7. LSTM model with multiple features\n",
    "\n",
    "\n",
    "\n"
   ]
  },
  {
   "cell_type": "code",
   "execution_count": 135,
   "metadata": {},
   "outputs": [],
   "source": [
    "# For first time users. Install yfinance for yahoo finance api\n",
    "#pip install yfinance\n",
    "\n",
    "#pip install xgboost\n",
    "\n",
    "#pip install keras\n",
    "#pip install tensorflow"
   ]
  },
  {
   "cell_type": "code",
   "execution_count": 1,
   "metadata": {},
   "outputs": [],
   "source": []
  },
  {
   "cell_type": "code",
   "execution_count": 56,
   "metadata": {
    "colab": {},
    "colab_type": "code",
    "id": "Z-n42rXkBY4x"
   },
   "outputs": [],
   "source": [
    "#import math\n",
    "#import time\n",
    "import datetime\n",
    "\n",
    "import pandas as pd\n",
    "import numpy as np\n",
    "import seaborn as sns\n",
    "\n",
    "# import yahoo finance and other libraries\n",
    "import yfinance as yf\n",
    "\n",
    "#for plotting\n",
    "import matplotlib.pyplot as plt\n",
    "%matplotlib inline\n",
    "\n",
    "#import any one scalar for normalizing data for LSTMs\n",
    "from sklearn.preprocessing import MinMaxScaler\n",
    "#from sklearn.preprocessing import StandardScaler\n",
    "\n",
    "#evaluation metric\n",
    "from sklearn.metrics import mean_squared_error, mean_absolute_error\n",
    "\n",
    "#for feature selection\n",
    "import xgboost as xgb\n",
    "\n",
    "#to ignore warnings\n",
    "import warnings\n",
    "warnings.filterwarnings(\"ignore\")\n"
   ]
  },
  {
   "cell_type": "code",
   "execution_count": 2,
   "metadata": {},
   "outputs": [
    {
     "data": {
      "text/html": [
       "<div>\n",
       "<style scoped>\n",
       "    .dataframe tbody tr th:only-of-type {\n",
       "        vertical-align: middle;\n",
       "    }\n",
       "\n",
       "    .dataframe tbody tr th {\n",
       "        vertical-align: top;\n",
       "    }\n",
       "\n",
       "    .dataframe thead th {\n",
       "        text-align: right;\n",
       "    }\n",
       "</style>\n",
       "<table border=\"1\" class=\"dataframe\">\n",
       "  <thead>\n",
       "    <tr style=\"text-align: right;\">\n",
       "      <th></th>\n",
       "      <th>Date</th>\n",
       "      <th>Open</th>\n",
       "      <th>High</th>\n",
       "      <th>Low</th>\n",
       "      <th>Close</th>\n",
       "    </tr>\n",
       "  </thead>\n",
       "  <tbody>\n",
       "    <tr>\n",
       "      <th>0</th>\n",
       "      <td>2012-01-03</td>\n",
       "      <td>8.7945</td>\n",
       "      <td>8.9740</td>\n",
       "      <td>8.7775</td>\n",
       "      <td>8.9515</td>\n",
       "    </tr>\n",
       "    <tr>\n",
       "      <th>1</th>\n",
       "      <td>2012-01-04</td>\n",
       "      <td>8.9605</td>\n",
       "      <td>9.0250</td>\n",
       "      <td>8.8035</td>\n",
       "      <td>8.8755</td>\n",
       "    </tr>\n",
       "    <tr>\n",
       "      <th>2</th>\n",
       "      <td>2012-01-05</td>\n",
       "      <td>8.7970</td>\n",
       "      <td>8.9125</td>\n",
       "      <td>8.7025</td>\n",
       "      <td>8.8805</td>\n",
       "    </tr>\n",
       "    <tr>\n",
       "      <th>3</th>\n",
       "      <td>2012-01-06</td>\n",
       "      <td>8.9035</td>\n",
       "      <td>9.2325</td>\n",
       "      <td>8.8750</td>\n",
       "      <td>9.1305</td>\n",
       "    </tr>\n",
       "    <tr>\n",
       "      <th>4</th>\n",
       "      <td>2012-01-09</td>\n",
       "      <td>9.1380</td>\n",
       "      <td>9.2185</td>\n",
       "      <td>8.8500</td>\n",
       "      <td>8.9280</td>\n",
       "    </tr>\n",
       "  </tbody>\n",
       "</table>\n",
       "</div>"
      ],
      "text/plain": [
       "         Date    Open    High     Low   Close\n",
       "0  2012-01-03  8.7945  8.9740  8.7775  8.9515\n",
       "1  2012-01-04  8.9605  9.0250  8.8035  8.8755\n",
       "2  2012-01-05  8.7970  8.9125  8.7025  8.8805\n",
       "3  2012-01-06  8.9035  9.2325  8.8750  9.1305\n",
       "4  2012-01-09  9.1380  9.2185  8.8500  8.9280"
      ]
     },
     "execution_count": 2,
     "metadata": {},
     "output_type": "execute_result"
    }
   ],
   "source": [
    "# Fetch Amaznon AMZN stock data and arrange\n",
    "ticker = yf.Ticker('AMZN')\n",
    "df = ticker.history(start='2012-01-01', end='2022-01-01')\n",
    "df = df.reset_index()\n",
    "df['Date'] = pd.to_datetime(df['Date']).dt.date\n",
    "df = df.iloc[:,0:5]\n",
    "df.head()"
   ]
  },
  {
   "cell_type": "code",
   "execution_count": 45,
   "metadata": {},
   "outputs": [
    {
     "data": {
      "text/html": [
       "<div>\n",
       "<style scoped>\n",
       "    .dataframe tbody tr th:only-of-type {\n",
       "        vertical-align: middle;\n",
       "    }\n",
       "\n",
       "    .dataframe tbody tr th {\n",
       "        vertical-align: top;\n",
       "    }\n",
       "\n",
       "    .dataframe thead th {\n",
       "        text-align: right;\n",
       "    }\n",
       "</style>\n",
       "<table border=\"1\" class=\"dataframe\">\n",
       "  <thead>\n",
       "    <tr style=\"text-align: right;\">\n",
       "      <th></th>\n",
       "      <th>Firm</th>\n",
       "      <th>To Grade</th>\n",
       "      <th>From Grade</th>\n",
       "      <th>Action</th>\n",
       "    </tr>\n",
       "    <tr>\n",
       "      <th>Date</th>\n",
       "      <th></th>\n",
       "      <th></th>\n",
       "      <th></th>\n",
       "      <th></th>\n",
       "    </tr>\n",
       "  </thead>\n",
       "  <tbody>\n",
       "    <tr>\n",
       "      <th>2011-12-29 12:47:00</th>\n",
       "      <td>PiperJaffray</td>\n",
       "      <td></td>\n",
       "      <td></td>\n",
       "      <td>main</td>\n",
       "    </tr>\n",
       "    <tr>\n",
       "      <th>2012-02-15 07:33:00</th>\n",
       "      <td>PiperJaffray</td>\n",
       "      <td>Overweight</td>\n",
       "      <td></td>\n",
       "      <td>main</td>\n",
       "    </tr>\n",
       "    <tr>\n",
       "      <th>2012-02-16 06:17:00</th>\n",
       "      <td>Morgan Stanley</td>\n",
       "      <td>Equal-Weight</td>\n",
       "      <td></td>\n",
       "      <td>down</td>\n",
       "    </tr>\n",
       "    <tr>\n",
       "      <th>2012-04-02 06:06:00</th>\n",
       "      <td>Bank oferica</td>\n",
       "      <td>Neutral</td>\n",
       "      <td></td>\n",
       "      <td>down</td>\n",
       "    </tr>\n",
       "    <tr>\n",
       "      <th>2012-04-27 06:21:00</th>\n",
       "      <td>Bank oferica</td>\n",
       "      <td>Buy</td>\n",
       "      <td></td>\n",
       "      <td>up</td>\n",
       "    </tr>\n",
       "    <tr>\n",
       "      <th>...</th>\n",
       "      <td>...</td>\n",
       "      <td>...</td>\n",
       "      <td>...</td>\n",
       "      <td>...</td>\n",
       "    </tr>\n",
       "    <tr>\n",
       "      <th>2022-11-02 17:23:28</th>\n",
       "      <td>Tigress Financial</td>\n",
       "      <td>Buy</td>\n",
       "      <td></td>\n",
       "      <td>main</td>\n",
       "    </tr>\n",
       "    <tr>\n",
       "      <th>2022-11-14 11:58:40</th>\n",
       "      <td>Rosenblatt</td>\n",
       "      <td>Neutral</td>\n",
       "      <td></td>\n",
       "      <td>main</td>\n",
       "    </tr>\n",
       "    <tr>\n",
       "      <th>2022-11-15 12:46:44</th>\n",
       "      <td>MoffettNathanson</td>\n",
       "      <td>Outperform</td>\n",
       "      <td></td>\n",
       "      <td>init</td>\n",
       "    </tr>\n",
       "    <tr>\n",
       "      <th>2022-11-22 11:14:29</th>\n",
       "      <td>Piper Sandler</td>\n",
       "      <td>Overweight</td>\n",
       "      <td></td>\n",
       "      <td>main</td>\n",
       "    </tr>\n",
       "    <tr>\n",
       "      <th>2022-12-01 14:44:53</th>\n",
       "      <td>Cowen &amp; Co.</td>\n",
       "      <td>Outperform</td>\n",
       "      <td></td>\n",
       "      <td>main</td>\n",
       "    </tr>\n",
       "  </tbody>\n",
       "</table>\n",
       "<p>567 rows × 4 columns</p>\n",
       "</div>"
      ],
      "text/plain": [
       "                                  Firm      To Grade From Grade Action\n",
       "Date                                                                  \n",
       "2011-12-29 12:47:00       PiperJaffray                            main\n",
       "2012-02-15 07:33:00       PiperJaffray    Overweight              main\n",
       "2012-02-16 06:17:00     Morgan Stanley  Equal-Weight              down\n",
       "2012-04-02 06:06:00       Bank oferica       Neutral              down\n",
       "2012-04-27 06:21:00       Bank oferica           Buy                up\n",
       "...                                ...           ...        ...    ...\n",
       "2022-11-02 17:23:28  Tigress Financial           Buy              main\n",
       "2022-11-14 11:58:40         Rosenblatt       Neutral              main\n",
       "2022-11-15 12:46:44   MoffettNathanson    Outperform              init\n",
       "2022-11-22 11:14:29      Piper Sandler    Overweight              main\n",
       "2022-12-01 14:44:53        Cowen & Co.    Outperform              main\n",
       "\n",
       "[567 rows x 4 columns]"
      ]
     },
     "execution_count": 45,
     "metadata": {},
     "output_type": "execute_result"
    }
   ],
   "source": [
    "#some useful commands can be found here: https://analyticsindiamag.com/hands-on-guide-to-using-yfinance-api-in-python/\n",
    "ticker.recommendations"
   ]
  },
  {
   "cell_type": "code",
   "execution_count": 3,
   "metadata": {
    "scrolled": true
   },
   "outputs": [
    {
     "data": {
      "text/html": [
       "<div>\n",
       "<style scoped>\n",
       "    .dataframe tbody tr th:only-of-type {\n",
       "        vertical-align: middle;\n",
       "    }\n",
       "\n",
       "    .dataframe tbody tr th {\n",
       "        vertical-align: top;\n",
       "    }\n",
       "\n",
       "    .dataframe thead th {\n",
       "        text-align: right;\n",
       "    }\n",
       "</style>\n",
       "<table border=\"1\" class=\"dataframe\">\n",
       "  <thead>\n",
       "    <tr style=\"text-align: right;\">\n",
       "      <th></th>\n",
       "      <th>Date</th>\n",
       "      <th>Close</th>\n",
       "    </tr>\n",
       "  </thead>\n",
       "  <tbody>\n",
       "    <tr>\n",
       "      <th>0</th>\n",
       "      <td>2012-01-03</td>\n",
       "      <td>8.9515</td>\n",
       "    </tr>\n",
       "    <tr>\n",
       "      <th>1</th>\n",
       "      <td>2012-01-04</td>\n",
       "      <td>8.8755</td>\n",
       "    </tr>\n",
       "  </tbody>\n",
       "</table>\n",
       "</div>"
      ],
      "text/plain": [
       "         Date   Close\n",
       "0  2012-01-03  8.9515\n",
       "1  2012-01-04  8.8755"
      ]
     },
     "execution_count": 3,
     "metadata": {},
     "output_type": "execute_result"
    }
   ],
   "source": [
    "# for ARIMA we will only use one variable 'close'\n",
    "adf = df.iloc[:,[0,4]]\n",
    "adf.head(2)"
   ]
  },
  {
   "cell_type": "code",
   "execution_count": 57,
   "metadata": {
    "colab": {
     "base_uri": "https://localhost:8080/",
     "height": 34
    },
    "colab_type": "code",
    "executionInfo": {
     "elapsed": 1158,
     "status": "ok",
     "timestamp": 1565975597982,
     "user": {
      "displayName": "Nupur Deshpande",
      "photoUrl": "",
      "userId": "13787757531456301957"
     },
     "user_tz": 240
    },
    "id": "6a3PaysYHx2i",
    "outputId": "98fdf40f-7abc-4051-bda9-3619bba54020"
   },
   "outputs": [
    {
     "name": "stdout",
     "output_type": "stream",
     "text": [
      "There are 2517 number of records in the dataset.\n"
     ]
    }
   ],
   "source": [
    "print('There are {} number of records in the dataset.'.format(df.shape[0]))"
   ]
  },
  {
   "cell_type": "code",
   "execution_count": 4,
   "metadata": {},
   "outputs": [
    {
     "data": {
      "text/plain": [
       "Date     datetime64[ns]\n",
       "Close           float64\n",
       "dtype: object"
      ]
     },
     "execution_count": 4,
     "metadata": {},
     "output_type": "execute_result"
    }
   ],
   "source": [
    "adf['Date']= pd.to_datetime(adf['Date'])\n",
    "adf.dtypes"
   ]
  },
  {
   "cell_type": "code",
   "execution_count": 59,
   "metadata": {},
   "outputs": [
    {
     "name": "stdout",
     "output_type": "stream",
     "text": [
      "<class 'pandas.core.frame.DataFrame'>\n",
      "RangeIndex: 2517 entries, 0 to 2516\n",
      "Data columns (total 2 columns):\n",
      " #   Column  Non-Null Count  Dtype         \n",
      "---  ------  --------------  -----         \n",
      " 0   Date    2517 non-null   datetime64[ns]\n",
      " 1   Close   2517 non-null   float64       \n",
      "dtypes: datetime64[ns](1), float64(1)\n",
      "memory usage: 39.5 KB\n"
     ]
    }
   ],
   "source": [
    "adf.info()"
   ]
  },
  {
   "cell_type": "code",
   "execution_count": 5,
   "metadata": {
    "colab": {
     "base_uri": "https://localhost:8080/",
     "height": 480
    },
    "colab_type": "code",
    "executionInfo": {
     "elapsed": 1794,
     "status": "ok",
     "timestamp": 1565975600441,
     "user": {
      "displayName": "Nupur Deshpande",
      "photoUrl": "",
      "userId": "13787757531456301957"
     },
     "user_tz": 240
    },
    "id": "jDVWPQqQIPSg",
    "outputId": "d50a57eb-6b13-41eb-a094-cc22d789f02e"
   },
   "outputs": [
    {
     "data": {
      "image/png": "[encoded data removed]",
      "text/plain": [
       "<Figure size 1400x500 with 1 Axes>"
      ]
     },
     "metadata": {
      "needs_background": "light"
     },
     "output_type": "display_data"
    }
   ],
   "source": [
    "plt.figure(figsize=(14, 5), dpi=100)\n",
    "plt.plot(adf['Date'], adf['Close'], label='Amazon stock price')\n",
    "plt.vlines(datetime.date(2019,1,3), 0,100, linestyles='--', colors='gray', label='Train/Test split (70:30)')\n",
    "plt.xlabel('Date')\n",
    "plt.ylabel('Price in USD')\n",
    "plt.title('Figure 1: Amazon stock price chart')\n",
    "plt.legend()\n",
    "plt.show()"
   ]
  },
  {
   "cell_type": "markdown",
   "metadata": {
    "colab_type": "text",
    "id": "JUrq9syJy4FM"
   },
   "source": [
    "# **Feature Engineering**\n",
    "\n",
    "Let us create more technical indicators to help the model to learn more."
   ]
  },
  {
   "cell_type": "markdown",
   "metadata": {
    "colab_type": "text",
    "id": "XfaBgjfrzPJm"
   },
   "source": [
    "**1.   EMA:** An exponential moving average (EMA) is a type of moving average (MA) that places a greater weight and significance on the most recent data points.\n",
    "<br/><br/>\n",
    "*Formula and definition:* https://www.investopedia.com/terms/e/ema.asp\n",
    "\n",
    "\n",
    "**2. Moving average ( 7 day and 21 day):** Moving averages are calculated to identify the trend direction of a stock or to determine its support and resistance levels. It is a trend-following or lagging, indicator because it is based on past prices.\n",
    "<br/><br/>\n",
    "*Formula and definition:* https://www.investopedia.com/terms/m/movingaverage.asp\n",
    "\n",
    "**3. Momentum:** Momentum is the rate of acceleration of a security's price—that is, the speed at which the price is changing.\n",
    "<br/><br/>\n",
    "*Formula and definition:* https://www.investopedia.com/terms/m/marketmomentum.asp\n",
    "\n"
   ]
  },
  {
   "cell_type": "code",
   "execution_count": 6,
   "metadata": {
    "colab": {},
    "colab_type": "code",
    "id": "Pq8-28ZxITgE"
   },
   "outputs": [],
   "source": [
    "#function to generate feature technical indicators\n",
    "\n",
    "def technical_indicators(data): \n",
    "    \n",
    "    \n",
    "    # Create 7 and 21 days Moving Average\n",
    "    data['MA7'] = data['Close'].rolling(window = 7).mean()\n",
    "    data['MA21'] = data['Close'].rolling(window = 21).mean()\n",
    "    \n",
    "    #Create MACD\n",
    "    data['12EMA'] = data['Close'].ewm(span=12).mean()\n",
    "    data['26EMA'] = data['Close'].ewm(span=26).mean()\n",
    "    data['MACD'] = (data['12EMA']-data['26EMA'])\n",
    "    \n",
    "    #Create Exponential moving average\n",
    "    data['EMA'] = data['Close'].ewm(com=0.5).mean()\n",
    "    \n",
    "    #Create Momentum\n",
    "    data['MOMENTUM'] = (data['Close']/100)-1\n",
    "    \n",
    "    return data"
   ]
  },
  {
   "cell_type": "code",
   "execution_count": 7,
   "metadata": {
    "colab": {},
    "colab_type": "code",
    "id": "vLLcWPw0Ij5w"
   },
   "outputs": [
    {
     "data": {
      "text/html": [
       "<div>\n",
       "<style scoped>\n",
       "    .dataframe tbody tr th:only-of-type {\n",
       "        vertical-align: middle;\n",
       "    }\n",
       "\n",
       "    .dataframe tbody tr th {\n",
       "        vertical-align: top;\n",
       "    }\n",
       "\n",
       "    .dataframe thead th {\n",
       "        text-align: right;\n",
       "    }\n",
       "</style>\n",
       "<table border=\"1\" class=\"dataframe\">\n",
       "  <thead>\n",
       "    <tr style=\"text-align: right;\">\n",
       "      <th></th>\n",
       "      <th>Date</th>\n",
       "      <th>Open</th>\n",
       "      <th>High</th>\n",
       "      <th>Low</th>\n",
       "      <th>Close</th>\n",
       "      <th>MA7</th>\n",
       "      <th>MA21</th>\n",
       "      <th>12EMA</th>\n",
       "      <th>26EMA</th>\n",
       "      <th>MACD</th>\n",
       "      <th>EMA</th>\n",
       "      <th>MOMENTUM</th>\n",
       "    </tr>\n",
       "  </thead>\n",
       "  <tbody>\n",
       "    <tr>\n",
       "      <th>0</th>\n",
       "      <td>2012-01-03</td>\n",
       "      <td>8.7945</td>\n",
       "      <td>8.9740</td>\n",
       "      <td>8.7775</td>\n",
       "      <td>8.9515</td>\n",
       "      <td>NaN</td>\n",
       "      <td>NaN</td>\n",
       "      <td>8.951500</td>\n",
       "      <td>8.951500</td>\n",
       "      <td>0.000000</td>\n",
       "      <td>8.951500</td>\n",
       "      <td>-0.910485</td>\n",
       "    </tr>\n",
       "    <tr>\n",
       "      <th>1</th>\n",
       "      <td>2012-01-04</td>\n",
       "      <td>8.9605</td>\n",
       "      <td>9.0250</td>\n",
       "      <td>8.8035</td>\n",
       "      <td>8.8755</td>\n",
       "      <td>NaN</td>\n",
       "      <td>NaN</td>\n",
       "      <td>8.910333</td>\n",
       "      <td>8.912038</td>\n",
       "      <td>-0.001705</td>\n",
       "      <td>8.894500</td>\n",
       "      <td>-0.911245</td>\n",
       "    </tr>\n",
       "    <tr>\n",
       "      <th>2</th>\n",
       "      <td>2012-01-05</td>\n",
       "      <td>8.7970</td>\n",
       "      <td>8.9125</td>\n",
       "      <td>8.7025</td>\n",
       "      <td>8.8805</td>\n",
       "      <td>NaN</td>\n",
       "      <td>NaN</td>\n",
       "      <td>8.898689</td>\n",
       "      <td>8.900707</td>\n",
       "      <td>-0.002018</td>\n",
       "      <td>8.884808</td>\n",
       "      <td>-0.911195</td>\n",
       "    </tr>\n",
       "    <tr>\n",
       "      <th>3</th>\n",
       "      <td>2012-01-06</td>\n",
       "      <td>8.9035</td>\n",
       "      <td>9.2325</td>\n",
       "      <td>8.8750</td>\n",
       "      <td>9.1305</td>\n",
       "      <td>NaN</td>\n",
       "      <td>NaN</td>\n",
       "      <td>8.971863</td>\n",
       "      <td>8.964947</td>\n",
       "      <td>0.006916</td>\n",
       "      <td>9.050650</td>\n",
       "      <td>-0.908695</td>\n",
       "    </tr>\n",
       "    <tr>\n",
       "      <th>4</th>\n",
       "      <td>2012-01-09</td>\n",
       "      <td>9.1380</td>\n",
       "      <td>9.2185</td>\n",
       "      <td>8.8500</td>\n",
       "      <td>8.9280</td>\n",
       "      <td>NaN</td>\n",
       "      <td>NaN</td>\n",
       "      <td>8.959946</td>\n",
       "      <td>8.956379</td>\n",
       "      <td>0.003567</td>\n",
       "      <td>8.968546</td>\n",
       "      <td>-0.910720</td>\n",
       "    </tr>\n",
       "  </tbody>\n",
       "</table>\n",
       "</div>"
      ],
      "text/plain": [
       "         Date    Open    High     Low   Close  MA7  MA21     12EMA     26EMA  \\\n",
       "0  2012-01-03  8.7945  8.9740  8.7775  8.9515  NaN   NaN  8.951500  8.951500   \n",
       "1  2012-01-04  8.9605  9.0250  8.8035  8.8755  NaN   NaN  8.910333  8.912038   \n",
       "2  2012-01-05  8.7970  8.9125  8.7025  8.8805  NaN   NaN  8.898689  8.900707   \n",
       "3  2012-01-06  8.9035  9.2325  8.8750  9.1305  NaN   NaN  8.971863  8.964947   \n",
       "4  2012-01-09  9.1380  9.2185  8.8500  8.9280  NaN   NaN  8.959946  8.956379   \n",
       "\n",
       "       MACD       EMA  MOMENTUM  \n",
       "0  0.000000  8.951500 -0.910485  \n",
       "1 -0.001705  8.894500 -0.911245  \n",
       "2 -0.002018  8.884808 -0.911195  \n",
       "3  0.006916  9.050650 -0.908695  \n",
       "4  0.003567  8.968546 -0.910720  "
      ]
     },
     "execution_count": 7,
     "metadata": {},
     "output_type": "execute_result"
    }
   ],
   "source": [
    "#create new dataframe\n",
    "tdf = technical_indicators(df)\n",
    "tdf.head()"
   ]
  },
  {
   "cell_type": "markdown",
   "metadata": {
    "colab_type": "text",
    "id": "awn3X9zu_sQy"
   },
   "source": [
    "# **ARIMA - Auto Regressive Integrated Moving Average** \n",
    "ARIMA predictions as a feature:"
   ]
  },
  {
   "cell_type": "markdown",
   "metadata": {
    "colab_type": "text",
    "id": "FyNX3BWLKQ5W"
   },
   "source": [
    "ARIMA is specified by theree order parameters (p,d,q)\n",
    "\n",
    "\n",
    "**AR (p) Autoregression:** An auto regressive (AR(p)) component refers to the use of past values in the regression equation for the time series.\n",
    "<br/><br/>\n",
    "\n",
    "\n",
    "**I (d) Integration:** uses differencing of observations (subtracting an observation with an obseervation from the previous step) in order to make the time series stationary.\n",
    "<br/><br/>\n",
    "\n",
    "\n",
    "**MA (q) Moving Average:** A moving average component depicts the error of the model as a combination of previous error terms. The order q represents the number of terms to be included in the model.\n",
    "\n",
    "\n",
    "**p: The number of lag observations included in the model, also called the lag order.**\n",
    "**d: The number of times that the raw observations are differenced, also called the degree of differencing.**\n",
    "**q: The size of the moving average window, also called the order of moving average.**\n",
    "\n",
    "Learn how to calculate p,d,q here https://github.com/swapnilin/TS/blob/main/T2-Monthly-Forecasting-using-ARIMA.ipynb\n",
    "\n",
    " \n",
    "**First, we will fit an ARIMA(5,1,0) model. This sets the lag value to 5 for autoregression, uses a difference order of 1 to make the time series stationary, and uses a moving average model of 0.**\n"
   ]
  },
  {
   "cell_type": "code",
   "execution_count": 8,
   "metadata": {},
   "outputs": [],
   "source": [
    "dfa = df[['Date','Close']]"
   ]
  },
  {
   "cell_type": "code",
   "execution_count": 9,
   "metadata": {
    "colab": {
     "base_uri": "https://localhost:8080/",
     "height": 487
    },
    "colab_type": "code",
    "executionInfo": {
     "elapsed": 1217,
     "status": "ok",
     "timestamp": 1565975638248,
     "user": {
      "displayName": "Nupur Deshpande",
      "photoUrl": "",
      "userId": "13787757531456301957"
     },
     "user_tz": 240
    },
    "id": "y-pnaN4iKUNV",
    "outputId": "669909b9-31a7-421d-d26f-cc014b2d6a00"
   },
   "outputs": [
    {
     "name": "stdout",
     "output_type": "stream",
     "text": [
      "                               SARIMAX Results                                \n",
      "==============================================================================\n",
      "Dep. Variable:                  Close   No. Observations:                 2517\n",
      "Model:                 ARIMA(5, 1, 0)   Log Likelihood               -4597.837\n",
      "Date:                Thu, 08 Dec 2022   AIC                           9207.674\n",
      "Time:                        15:49:43   BIC                           9242.657\n",
      "Sample:                             0   HQIC                          9220.370\n",
      "                               - 2517                                         \n",
      "Covariance Type:                  opg                                         \n",
      "==============================================================================\n",
      "                 coef    std err          z      P>|z|      [0.025      0.975]\n",
      "------------------------------------------------------------------------------\n",
      "ar.L1         -0.0261      0.011     -2.474      0.013      -0.047      -0.005\n",
      "ar.L2         -0.0064      0.010     -0.614      0.539      -0.027       0.014\n",
      "ar.L3         -0.0756      0.009     -8.019      0.000      -0.094      -0.057\n",
      "ar.L4          0.0097      0.012      0.838      0.402      -0.013       0.033\n",
      "ar.L5         -0.0140      0.011     -1.263      0.206      -0.036       0.008\n",
      "sigma2         2.2637      0.025     90.995      0.000       2.215       2.312\n",
      "===================================================================================\n",
      "Ljung-Box (L1) (Q):                   0.02   Jarque-Bera (JB):             13734.21\n",
      "Prob(Q):                              0.90   Prob(JB):                         0.00\n",
      "Heteroskedasticity (H):              67.70   Skew:                            -0.08\n",
      "Prob(H) (two-sided):                  0.00   Kurtosis:                        14.44\n",
      "===================================================================================\n",
      "\n",
      "Warnings:\n",
      "[1] Covariance matrix calculated using the outer product of gradients (complex-step).\n"
     ]
    }
   ],
   "source": [
    "from statsmodels.tsa.arima.model import ARIMA\n",
    "from pandas import DataFrame\n",
    "from pandas import datetime\n",
    "\n",
    "series = dfa['Close']\n",
    "model = ARIMA(series, order=(5, 1, 0))\n",
    "model_fit = model.fit()\n",
    "print(model_fit.summary())\n"
   ]
  },
  {
   "cell_type": "markdown",
   "metadata": {
    "colab_type": "text",
    "id": "fsUppGk6HY6m"
   },
   "source": [
    " **SUMMARY OF THE ARIMA MODEL**\n",
    " \n",
    "**A good starting point for the AR parameter of the model may be 5 which we did**\n",
    "\n",
    "**From the summary of the ARIMA we can see that most P-values are greater than 0.05.The model should be great!**\n",
    "\n",
    "**The difference between AIC and BIC is low so this indicates this is a good model**\n"
   ]
  },
  {
   "cell_type": "markdown",
   "metadata": {},
   "source": [
    "### Plot auto correlation plot"
   ]
  },
  {
   "cell_type": "code",
   "execution_count": 10,
   "metadata": {
    "colab": {
     "base_uri": "https://localhost:8080/",
     "height": 300
    },
    "colab_type": "code",
    "executionInfo": {
     "elapsed": 1275,
     "status": "ok",
     "timestamp": 1565975641493,
     "user": {
      "displayName": "Nupur Deshpande",
      "photoUrl": "",
      "userId": "13787757531456301957"
     },
     "user_tz": 240
    },
    "id": "NuucJ1WqKMkR",
    "outputId": "5ed69ecb-7fba-4dc5-b5e5-8e92c0941832",
    "scrolled": true
   },
   "outputs": [
    {
     "data": {
      "image/png": "[encoded data removed]",
      "text/plain": [
       "<Figure size 432x288 with 1 Axes>"
      ]
     },
     "metadata": {
      "needs_background": "light"
     },
     "output_type": "display_data"
    },
    {
     "data": {
      "text/plain": [
       "<Figure size 800x560 with 0 Axes>"
      ]
     },
     "metadata": {},
     "output_type": "display_data"
    }
   ],
   "source": [
    "from pandas.plotting import autocorrelation_plot\n",
    "autocorrelation_plot(series)\n",
    "plt.title('Figure 2: Auto-correlation Plot')\n",
    "plt.figure(figsize=(10, 7), dpi=80)\n",
    "plt.show()\n"
   ]
  },
  {
   "cell_type": "markdown",
   "metadata": {},
   "source": [
    "**We can see in figure 2, there is a positive correlation with the first 0 to 800 lags**\n"
   ]
  },
  {
   "cell_type": "markdown",
   "metadata": {},
   "source": [
    "    "
   ]
  },
  {
   "cell_type": "markdown",
   "metadata": {},
   "source": [
    "## Prepare and Train Data with ARIMA"
   ]
  },
  {
   "cell_type": "code",
   "execution_count": 11,
   "metadata": {
    "colab": {},
    "colab_type": "code",
    "id": "Okfv_vp_KabM"
   },
   "outputs": [],
   "source": [
    "series = dfa['Close']\n",
    "X = series.values\n",
    "size = int(len(X) * 0.70)\n",
    "train, test = X[0:size], X[size:len(X)]\n",
    "history = [x for x in train]\n",
    "predictions = list()\n",
    "\n",
    "for i in range(len(test)):\n",
    "    model = ARIMA(history, order=(5,1,0))\n",
    "    model_fit = model.fit()\n",
    "    output = model_fit.forecast()\n",
    "    yhat = output[0]\n",
    "    predictions.append(yhat)\n",
    "    new = test[i]\n",
    "    history.append(new)\n",
    "\n",
    "tdf['ARIMA'] = pd.DataFrame(predictions)"
   ]
  },
  {
   "cell_type": "code",
   "execution_count": 12,
   "metadata": {
    "colab": {
     "base_uri": "https://localhost:8080/",
     "height": 34
    },
    "colab_type": "code",
    "executionInfo": {
     "elapsed": 178731,
     "status": "ok",
     "timestamp": 1565975822299,
     "user": {
      "displayName": "Nupur Deshpande",
      "photoUrl": "",
      "userId": "13787757531456301957"
     },
     "user_tz": 240
    },
    "id": "DC3et1Z8KhL3",
    "outputId": "adada03b-a58b-4ecb-ddd2-4d2014835ea1"
   },
   "outputs": [
    {
     "name": "stdout",
     "output_type": "stream",
     "text": [
      "Test MSE: 6.103\n"
     ]
    }
   ],
   "source": [
    "error = mean_squared_error(test, predictions)\n",
    "print('Test MSE: %.3f' % error)"
   ]
  },
  {
   "cell_type": "code",
   "execution_count": 13,
   "metadata": {},
   "outputs": [
    {
     "data": {
      "text/plain": [
       "(756, 1761)"
      ]
     },
     "execution_count": 13,
     "metadata": {},
     "output_type": "execute_result"
    }
   ],
   "source": [
    "len(predictions), len(train)"
   ]
  },
  {
   "cell_type": "code",
   "execution_count": 60,
   "metadata": {
    "colab": {
     "base_uri": "https://localhost:8080/",
     "height": 555
    },
    "colab_type": "code",
    "executionInfo": {
     "elapsed": 179049,
     "status": "ok",
     "timestamp": 1565975823495,
     "user": {
      "displayName": "Nupur Deshpande",
      "photoUrl": "",
      "userId": "13787757531456301957"
     },
     "user_tz": 240
    },
    "id": "q00FzNdSLuPB",
    "outputId": "64ccde13-b3bf-4863-934b-de0a2cdd79a4"
   },
   "outputs": [
    {
     "data": {
      "image/png": "[encoded data removed]",
      "text/plain": [
       "<Figure size 1200x600 with 1 Axes>"
      ]
     },
     "metadata": {
      "needs_background": "light"
     },
     "output_type": "display_data"
    }
   ],
   "source": [
    "# Plot the predicted (from ARIMA) and real prices\n",
    "\n",
    "plt.figure(figsize=(12, 6), dpi=100)\n",
    "plt.plot(test, color='Blue', label='Actual')\n",
    "plt.plot(predictions, color='Orange', label='Predicted')\n",
    "plt.xlabel('Days')\n",
    "plt.ylabel('USD')\n",
    "plt.title('Figure 5: ARIMA model on Test Set')\n",
    "plt.legend()\n",
    "plt.show()"
   ]
  },
  {
   "cell_type": "markdown",
   "metadata": {
    "colab_type": "text",
    "id": "SD9T8ykVHqvJ"
   },
   "source": [
    "**As we can see from Figure 5 ARIMA gives a very good approximation of the real stock price. We will use the predicted price through ARIMA as an input feature into the LSTM.**\n",
    "\n",
    "**Note: ARIMA values are only available for the size of test set, rest will show as NaN**"
   ]
  },
  {
   "cell_type": "code",
   "execution_count": 72,
   "metadata": {
    "colab": {
     "base_uri": "https://localhost:8080/",
     "height": 34
    },
    "colab_type": "code",
    "executionInfo": {
     "elapsed": 174800,
     "status": "ok",
     "timestamp": 1565975823500,
     "user": {
      "displayName": "Nupur Deshpande",
      "photoUrl": "",
      "userId": "13787757531456301957"
     },
     "user_tz": 240
    },
    "id": "lUk-WoQNL2mX",
    "outputId": "f4fd88bf-0369-46c7-ce38-4862139882ab"
   },
   "outputs": [
    {
     "data": {
      "text/html": [
       "<div>\n",
       "<style scoped>\n",
       "    .dataframe tbody tr th:only-of-type {\n",
       "        vertical-align: middle;\n",
       "    }\n",
       "\n",
       "    .dataframe tbody tr th {\n",
       "        vertical-align: top;\n",
       "    }\n",
       "\n",
       "    .dataframe thead th {\n",
       "        text-align: right;\n",
       "    }\n",
       "</style>\n",
       "<table border=\"1\" class=\"dataframe\">\n",
       "  <thead>\n",
       "    <tr style=\"text-align: right;\">\n",
       "      <th></th>\n",
       "      <th>Date</th>\n",
       "      <th>Open</th>\n",
       "      <th>High</th>\n",
       "      <th>Low</th>\n",
       "      <th>Close</th>\n",
       "      <th>MA7</th>\n",
       "      <th>MA21</th>\n",
       "      <th>12EMA</th>\n",
       "      <th>26EMA</th>\n",
       "      <th>MACD</th>\n",
       "      <th>EMA</th>\n",
       "      <th>MOMENTUM</th>\n",
       "      <th>ARIMA</th>\n",
       "    </tr>\n",
       "  </thead>\n",
       "  <tbody>\n",
       "    <tr>\n",
       "      <th>0</th>\n",
       "      <td>2012-01-03</td>\n",
       "      <td>8.794500</td>\n",
       "      <td>8.974000</td>\n",
       "      <td>8.777500</td>\n",
       "      <td>8.951500</td>\n",
       "      <td>NaN</td>\n",
       "      <td>NaN</td>\n",
       "      <td>8.951500</td>\n",
       "      <td>8.951500</td>\n",
       "      <td>0.000000</td>\n",
       "      <td>8.951500</td>\n",
       "      <td>-0.910485</td>\n",
       "      <td>77.313624</td>\n",
       "    </tr>\n",
       "    <tr>\n",
       "      <th>1</th>\n",
       "      <td>2012-01-04</td>\n",
       "      <td>8.960500</td>\n",
       "      <td>9.025000</td>\n",
       "      <td>8.803500</td>\n",
       "      <td>8.875500</td>\n",
       "      <td>NaN</td>\n",
       "      <td>NaN</td>\n",
       "      <td>8.910333</td>\n",
       "      <td>8.912038</td>\n",
       "      <td>-0.001705</td>\n",
       "      <td>8.894500</td>\n",
       "      <td>-0.911245</td>\n",
       "      <td>74.981736</td>\n",
       "    </tr>\n",
       "    <tr>\n",
       "      <th>2</th>\n",
       "      <td>2012-01-05</td>\n",
       "      <td>8.797000</td>\n",
       "      <td>8.912500</td>\n",
       "      <td>8.702500</td>\n",
       "      <td>8.880500</td>\n",
       "      <td>NaN</td>\n",
       "      <td>NaN</td>\n",
       "      <td>8.898689</td>\n",
       "      <td>8.900707</td>\n",
       "      <td>-0.002018</td>\n",
       "      <td>8.884808</td>\n",
       "      <td>-0.911195</td>\n",
       "      <td>78.591700</td>\n",
       "    </tr>\n",
       "    <tr>\n",
       "      <th>3</th>\n",
       "      <td>2012-01-06</td>\n",
       "      <td>8.903500</td>\n",
       "      <td>9.232500</td>\n",
       "      <td>8.875000</td>\n",
       "      <td>9.130500</td>\n",
       "      <td>NaN</td>\n",
       "      <td>NaN</td>\n",
       "      <td>8.971863</td>\n",
       "      <td>8.964947</td>\n",
       "      <td>0.006916</td>\n",
       "      <td>9.050650</td>\n",
       "      <td>-0.908695</td>\n",
       "      <td>81.473986</td>\n",
       "    </tr>\n",
       "    <tr>\n",
       "      <th>4</th>\n",
       "      <td>2012-01-09</td>\n",
       "      <td>9.138000</td>\n",
       "      <td>9.218500</td>\n",
       "      <td>8.850000</td>\n",
       "      <td>8.928000</td>\n",
       "      <td>NaN</td>\n",
       "      <td>NaN</td>\n",
       "      <td>8.959946</td>\n",
       "      <td>8.956379</td>\n",
       "      <td>0.003567</td>\n",
       "      <td>8.968546</td>\n",
       "      <td>-0.910720</td>\n",
       "      <td>82.875644</td>\n",
       "    </tr>\n",
       "    <tr>\n",
       "      <th>...</th>\n",
       "      <td>...</td>\n",
       "      <td>...</td>\n",
       "      <td>...</td>\n",
       "      <td>...</td>\n",
       "      <td>...</td>\n",
       "      <td>...</td>\n",
       "      <td>...</td>\n",
       "      <td>...</td>\n",
       "      <td>...</td>\n",
       "      <td>...</td>\n",
       "      <td>...</td>\n",
       "      <td>...</td>\n",
       "      <td>...</td>\n",
       "    </tr>\n",
       "    <tr>\n",
       "      <th>2512</th>\n",
       "      <td>2021-12-27</td>\n",
       "      <td>171.037003</td>\n",
       "      <td>172.942993</td>\n",
       "      <td>169.215500</td>\n",
       "      <td>169.669495</td>\n",
       "      <td>169.737071</td>\n",
       "      <td>172.019573</td>\n",
       "      <td>170.872064</td>\n",
       "      <td>172.005465</td>\n",
       "      <td>-1.133401</td>\n",
       "      <td>170.080147</td>\n",
       "      <td>0.696695</td>\n",
       "      <td>NaN</td>\n",
       "    </tr>\n",
       "    <tr>\n",
       "      <th>2513</th>\n",
       "      <td>2021-12-28</td>\n",
       "      <td>170.182495</td>\n",
       "      <td>172.175995</td>\n",
       "      <td>169.135498</td>\n",
       "      <td>170.660995</td>\n",
       "      <td>169.992785</td>\n",
       "      <td>171.802097</td>\n",
       "      <td>170.839592</td>\n",
       "      <td>171.905875</td>\n",
       "      <td>-1.066283</td>\n",
       "      <td>170.467379</td>\n",
       "      <td>0.706610</td>\n",
       "      <td>NaN</td>\n",
       "    </tr>\n",
       "    <tr>\n",
       "      <th>2514</th>\n",
       "      <td>2021-12-29</td>\n",
       "      <td>170.839996</td>\n",
       "      <td>171.212006</td>\n",
       "      <td>168.600494</td>\n",
       "      <td>169.201004</td>\n",
       "      <td>169.876142</td>\n",
       "      <td>171.379359</td>\n",
       "      <td>170.587501</td>\n",
       "      <td>171.705514</td>\n",
       "      <td>-1.118013</td>\n",
       "      <td>169.623129</td>\n",
       "      <td>0.692010</td>\n",
       "      <td>NaN</td>\n",
       "    </tr>\n",
       "    <tr>\n",
       "      <th>2515</th>\n",
       "      <td>2021-12-30</td>\n",
       "      <td>169.699997</td>\n",
       "      <td>170.888000</td>\n",
       "      <td>168.524002</td>\n",
       "      <td>168.644501</td>\n",
       "      <td>170.099786</td>\n",
       "      <td>171.059883</td>\n",
       "      <td>170.288578</td>\n",
       "      <td>171.478772</td>\n",
       "      <td>-1.190194</td>\n",
       "      <td>168.970710</td>\n",
       "      <td>0.686445</td>\n",
       "      <td>NaN</td>\n",
       "    </tr>\n",
       "    <tr>\n",
       "      <th>2516</th>\n",
       "      <td>2021-12-31</td>\n",
       "      <td>168.955994</td>\n",
       "      <td>169.350006</td>\n",
       "      <td>166.558502</td>\n",
       "      <td>166.716995</td>\n",
       "      <td>169.571213</td>\n",
       "      <td>170.799454</td>\n",
       "      <td>169.739104</td>\n",
       "      <td>171.126048</td>\n",
       "      <td>-1.386944</td>\n",
       "      <td>167.468234</td>\n",
       "      <td>0.667170</td>\n",
       "      <td>NaN</td>\n",
       "    </tr>\n",
       "  </tbody>\n",
       "</table>\n",
       "<p>2517 rows × 13 columns</p>\n",
       "</div>"
      ],
      "text/plain": [
       "            Date        Open        High         Low       Close         MA7  \\\n",
       "0     2012-01-03    8.794500    8.974000    8.777500    8.951500         NaN   \n",
       "1     2012-01-04    8.960500    9.025000    8.803500    8.875500         NaN   \n",
       "2     2012-01-05    8.797000    8.912500    8.702500    8.880500         NaN   \n",
       "3     2012-01-06    8.903500    9.232500    8.875000    9.130500         NaN   \n",
       "4     2012-01-09    9.138000    9.218500    8.850000    8.928000         NaN   \n",
       "...          ...         ...         ...         ...         ...         ...   \n",
       "2512  2021-12-27  171.037003  172.942993  169.215500  169.669495  169.737071   \n",
       "2513  2021-12-28  170.182495  172.175995  169.135498  170.660995  169.992785   \n",
       "2514  2021-12-29  170.839996  171.212006  168.600494  169.201004  169.876142   \n",
       "2515  2021-12-30  169.699997  170.888000  168.524002  168.644501  170.099786   \n",
       "2516  2021-12-31  168.955994  169.350006  166.558502  166.716995  169.571213   \n",
       "\n",
       "            MA21       12EMA       26EMA      MACD         EMA  MOMENTUM  \\\n",
       "0            NaN    8.951500    8.951500  0.000000    8.951500 -0.910485   \n",
       "1            NaN    8.910333    8.912038 -0.001705    8.894500 -0.911245   \n",
       "2            NaN    8.898689    8.900707 -0.002018    8.884808 -0.911195   \n",
       "3            NaN    8.971863    8.964947  0.006916    9.050650 -0.908695   \n",
       "4            NaN    8.959946    8.956379  0.003567    8.968546 -0.910720   \n",
       "...          ...         ...         ...       ...         ...       ...   \n",
       "2512  172.019573  170.872064  172.005465 -1.133401  170.080147  0.696695   \n",
       "2513  171.802097  170.839592  171.905875 -1.066283  170.467379  0.706610   \n",
       "2514  171.379359  170.587501  171.705514 -1.118013  169.623129  0.692010   \n",
       "2515  171.059883  170.288578  171.478772 -1.190194  168.970710  0.686445   \n",
       "2516  170.799454  169.739104  171.126048 -1.386944  167.468234  0.667170   \n",
       "\n",
       "          ARIMA  \n",
       "0     77.313624  \n",
       "1     74.981736  \n",
       "2     78.591700  \n",
       "3     81.473986  \n",
       "4     82.875644  \n",
       "...         ...  \n",
       "2512        NaN  \n",
       "2513        NaN  \n",
       "2514        NaN  \n",
       "2515        NaN  \n",
       "2516        NaN  \n",
       "\n",
       "[2517 rows x 13 columns]"
      ]
     },
     "execution_count": 72,
     "metadata": {},
     "output_type": "execute_result"
    }
   ],
   "source": [
    "tdf"
   ]
  },
  {
   "cell_type": "markdown",
   "metadata": {},
   "source": [
    "    "
   ]
  },
  {
   "cell_type": "markdown",
   "metadata": {
    "colab_type": "text",
    "id": "WcgZYHjdJCI1"
   },
   "source": [
    "# **Feature Importance using XGBoost**"
   ]
  },
  {
   "cell_type": "markdown",
   "metadata": {
    "colab_type": "text",
    "id": "xB0kgHi1L-Hy"
   },
   "source": [
    "**Having so many features we have to consider whether all of them are really indicative of the direction AMZN stock will take. There are many ways to test feature importance, we will use XGBoost, because it gives one of the best results in both classification and regression problems.**"
   ]
  },
  {
   "cell_type": "code",
   "execution_count": 15,
   "metadata": {
    "colab": {},
    "colab_type": "code",
    "id": "0DntZYGaL6ct"
   },
   "outputs": [],
   "source": [
    "def features(data):\n",
    "    data = data.copy()\n",
    "    y = data['Close']\n",
    "    X = df.drop(['Date','Close'], axis=1)\n",
    "    \n",
    "    train_samples = int(X.shape[0] * 0.70)\n",
    " \n",
    "    X_train = X.iloc[:train_samples]\n",
    "    X_test = X.iloc[train_samples:]\n",
    "\n",
    "    y_train = y.iloc[:train_samples]\n",
    "    y_test = y.iloc[train_samples:]\n",
    "    \n",
    "    return (X_train, y_train), (X_test, y_test)"
   ]
  },
  {
   "cell_type": "code",
   "execution_count": 16,
   "metadata": {
    "colab": {},
    "colab_type": "code",
    "id": "JbO2whZDMCnB"
   },
   "outputs": [],
   "source": [
    "# Get training and test data\n",
    "(X_train_FI, y_train_FI), (X_test_FI, y_test_FI) = features(df)"
   ]
  },
  {
   "cell_type": "code",
   "execution_count": 17,
   "metadata": {
    "colab": {},
    "colab_type": "code",
    "id": "6713TYO_MG5q"
   },
   "outputs": [],
   "source": [
    "# find these hyper-parameters using grid search CV\n",
    "regressor = xgb.XGBRegressor(gamma=0.0,n_estimators=150,base_score=0.7,colsample_bytree=1,learning_rate=0.05)"
   ]
  },
  {
   "cell_type": "code",
   "execution_count": 18,
   "metadata": {
    "colab": {
     "base_uri": "https://localhost:8080/",
     "height": 34
    },
    "colab_type": "code",
    "executionInfo": {
     "elapsed": 166965,
     "status": "ok",
     "timestamp": 1565975823971,
     "user": {
      "displayName": "Nupur Deshpande",
      "photoUrl": "",
      "userId": "13787757531456301957"
     },
     "user_tz": 240
    },
    "id": "1L80xmtDMJT3",
    "outputId": "8800f2e6-5a04-4e94-abc2-f98935932fe6"
   },
   "outputs": [],
   "source": [
    "#fit the model\n",
    "xgbModel = regressor.fit(X_train_FI,y_train_FI,\n",
    "                         eval_set = [(X_train_FI, y_train_FI), (X_test_FI, y_test_FI)],\n",
    "                         verbose=False)"
   ]
  },
  {
   "cell_type": "code",
   "execution_count": 19,
   "metadata": {
    "colab": {},
    "colab_type": "code",
    "id": "IJrFL2AnMMBy"
   },
   "outputs": [],
   "source": [
    "eval_result = regressor.evals_result()"
   ]
  },
  {
   "cell_type": "code",
   "execution_count": 20,
   "metadata": {
    "colab": {},
    "colab_type": "code",
    "id": "c-TjzmQqMRBW"
   },
   "outputs": [],
   "source": [
    "training_rounds = range(len(eval_result['validation_0']['rmse']))"
   ]
  },
  {
   "cell_type": "code",
   "execution_count": 21,
   "metadata": {
    "colab": {
     "base_uri": "https://localhost:8080/",
     "height": 295
    },
    "colab_type": "code",
    "executionInfo": {
     "elapsed": 163908,
     "status": "ok",
     "timestamp": 1565975823979,
     "user": {
      "displayName": "Nupur Deshpande",
      "photoUrl": "",
      "userId": "13787757531456301957"
     },
     "user_tz": 240
    },
    "id": "SohU7-lPMTou",
    "outputId": "9ecf131e-c215-45d6-b9d7-9786d85200a7"
   },
   "outputs": [
    {
     "data": {
      "image/png": "[encoded data removed]",
      "text/plain": [
       "<Figure size 432x288 with 1 Axes>"
      ]
     },
     "metadata": {
      "needs_background": "light"
     },
     "output_type": "display_data"
    }
   ],
   "source": [
    "plt.scatter(x=training_rounds,y=eval_result['validation_0']['rmse'],label='Training Error')\n",
    "plt.scatter(x=training_rounds,y=eval_result['validation_1']['rmse'],label='Validation Error')\n",
    "plt.xlabel('Iterations')\n",
    "plt.ylabel('RMSE')\n",
    "plt.title('Training Vs Validation Error')\n",
    "plt.legend()\n",
    "plt.show()"
   ]
  },
  {
   "cell_type": "markdown",
   "metadata": {
    "colab_type": "text",
    "id": "kYixeciceYEg"
   },
   "source": [
    "**The difference between validation and training error shows an underfit model. However, the way training and testing data is split, this is expected.**"
   ]
  },
  {
   "cell_type": "code",
   "execution_count": 22,
   "metadata": {
    "colab": {
     "base_uri": "https://localhost:8080/",
     "height": 548
    },
    "colab_type": "code",
    "executionInfo": {
     "elapsed": 161964,
     "status": "ok",
     "timestamp": 1565975823980,
     "user": {
      "displayName": "Nupur Deshpande",
      "photoUrl": "",
      "userId": "13787757531456301957"
     },
     "user_tz": 240
    },
    "id": "U6LISsSkMWat",
    "outputId": "bbea72ef-5f13-40df-baab-647ad72a9df1"
   },
   "outputs": [
    {
     "data": {
      "image/png": "[encoded data removed]",
      "text/plain": [
       "<Figure size 576x576 with 1 Axes>"
      ]
     },
     "metadata": {
      "needs_background": "light"
     },
     "output_type": "display_data"
    }
   ],
   "source": [
    "fig = plt.figure(figsize=(8,8))\n",
    "plt.xticks(rotation='vertical')\n",
    "plt.bar([i for i in range(len(xgbModel.feature_importances_))], xgbModel.feature_importances_.tolist(), tick_label=X_test_FI.columns)\n",
    "plt.title('Figure 3: Feature Importance Chart.')\n",
    "plt.show()"
   ]
  },
  {
   "cell_type": "markdown",
   "metadata": {
    "colab_type": "text",
    "id": "y3kdzMlIN8bV"
   },
   "source": [
    "**MA7, EMA, and Momentum are among the important technical indicators** Features like Open, high, and low are bound to be close to Closing prices.\n"
   ]
  },
  {
   "cell_type": "markdown",
   "metadata": {},
   "source": [
    "    "
   ]
  },
  {
   "cell_type": "markdown",
   "metadata": {
    "colab_type": "text",
    "id": "xKqOo5rfNM6_"
   },
   "source": [
    "# **LSTM**"
   ]
  },
  {
   "cell_type": "markdown",
   "metadata": {
    "colab_type": "text",
    "id": "9vlHf2osb7LE"
   },
   "source": [
    "**LSTM is great at predicting stock market data. We are going to try to predict the closing prices, first using 1 feature Open(It has highest correlation to closing price) and then using multiple features**\n",
    "\n",
    "**An LSTM Network has its origin in a RNN. But it can solve the memory loss by changing the neuron architecture.**\n",
    "\n",
    "**The new neuron has 3 gates, each with a different goal. The gates are:**\n",
    "\n",
    "**1.Input Gate**\n",
    "\n",
    "**2.Output Gate**\n",
    "\n",
    "**3.Forget Gate**\n",
    "\n",
    "**An LSTM Neuron receives input from its previous state:**\n",
    "\n",
    "How it works: You input the data one timestep at a time to the LSTM cell. And each timestep the cell not only recieves the new input, but it recieves the last timestep's output and what is called the cell state, a vector that carries information about what happened in the past. Within the cell you have trained gates (basically small neural nets) that decide, based on the three inputs, what to forget from the past cell state, what to remember (or add) to the new state, and what to output this timestep\n",
    "\n",
    "![alt text](https://colah.github.io/posts/2015-08-Understanding-LSTMs/img/RNN-unrolled.png)\n",
    "\n"
   ]
  },
  {
   "cell_type": "markdown",
   "metadata": {},
   "source": [
    "\n",
    "**Steps for LSTM**\n",
    "\n",
    "**1. Clean up the data**\n",
    "\n",
    "**2. Create a train, validate, and test set**\n",
    "\n",
    "**3. Normalize data** \n",
    "\n",
    "**4. Create feature and label set**\n",
    "\n",
    "**6. Train, validate data and check with test set**\n",
    "\n",
    "**7. Make predictions**\n",
    "\n",
    "**8. Based on this prediction find if the feature extraction method of LSTM works**\n",
    "\n"
   ]
  },
  {
   "cell_type": "code",
   "execution_count": 23,
   "metadata": {
    "colab": {
     "base_uri": "https://localhost:8080/",
     "height": 274
    },
    "colab_type": "code",
    "executionInfo": {
     "elapsed": 133887,
     "status": "ok",
     "timestamp": 1565975823983,
     "user": {
      "displayName": "Nupur Deshpande",
      "photoUrl": "",
      "userId": "13787757531456301957"
     },
     "user_tz": 240
    },
    "id": "S6ylerVkNzKh",
    "outputId": "38d3d7d2-4fb6-49b4-98fd-380a1953f44c"
   },
   "outputs": [
    {
     "data": {
      "text/html": [
       "<div>\n",
       "<style scoped>\n",
       "    .dataframe tbody tr th:only-of-type {\n",
       "        vertical-align: middle;\n",
       "    }\n",
       "\n",
       "    .dataframe tbody tr th {\n",
       "        vertical-align: top;\n",
       "    }\n",
       "\n",
       "    .dataframe thead th {\n",
       "        text-align: right;\n",
       "    }\n",
       "</style>\n",
       "<table border=\"1\" class=\"dataframe\">\n",
       "  <thead>\n",
       "    <tr style=\"text-align: right;\">\n",
       "      <th></th>\n",
       "      <th>Open</th>\n",
       "      <th>High</th>\n",
       "      <th>Low</th>\n",
       "      <th>Close</th>\n",
       "      <th>12EMA</th>\n",
       "      <th>26EMA</th>\n",
       "      <th>MACD</th>\n",
       "      <th>EMA</th>\n",
       "      <th>MOMENTUM</th>\n",
       "      <th>ARIMA</th>\n",
       "    </tr>\n",
       "  </thead>\n",
       "  <tbody>\n",
       "    <tr>\n",
       "      <th>0</th>\n",
       "      <td>8.7945</td>\n",
       "      <td>8.9740</td>\n",
       "      <td>8.7775</td>\n",
       "      <td>8.9515</td>\n",
       "      <td>8.951500</td>\n",
       "      <td>8.951500</td>\n",
       "      <td>0.000000</td>\n",
       "      <td>8.951500</td>\n",
       "      <td>-0.910485</td>\n",
       "      <td>77.313624</td>\n",
       "    </tr>\n",
       "    <tr>\n",
       "      <th>1</th>\n",
       "      <td>8.9605</td>\n",
       "      <td>9.0250</td>\n",
       "      <td>8.8035</td>\n",
       "      <td>8.8755</td>\n",
       "      <td>8.910333</td>\n",
       "      <td>8.912038</td>\n",
       "      <td>-0.001705</td>\n",
       "      <td>8.894500</td>\n",
       "      <td>-0.911245</td>\n",
       "      <td>74.981736</td>\n",
       "    </tr>\n",
       "    <tr>\n",
       "      <th>2</th>\n",
       "      <td>8.7970</td>\n",
       "      <td>8.9125</td>\n",
       "      <td>8.7025</td>\n",
       "      <td>8.8805</td>\n",
       "      <td>8.898689</td>\n",
       "      <td>8.900707</td>\n",
       "      <td>-0.002018</td>\n",
       "      <td>8.884808</td>\n",
       "      <td>-0.911195</td>\n",
       "      <td>78.591700</td>\n",
       "    </tr>\n",
       "    <tr>\n",
       "      <th>3</th>\n",
       "      <td>8.9035</td>\n",
       "      <td>9.2325</td>\n",
       "      <td>8.8750</td>\n",
       "      <td>9.1305</td>\n",
       "      <td>8.971863</td>\n",
       "      <td>8.964947</td>\n",
       "      <td>0.006916</td>\n",
       "      <td>9.050650</td>\n",
       "      <td>-0.908695</td>\n",
       "      <td>81.473986</td>\n",
       "    </tr>\n",
       "    <tr>\n",
       "      <th>4</th>\n",
       "      <td>9.1380</td>\n",
       "      <td>9.2185</td>\n",
       "      <td>8.8500</td>\n",
       "      <td>8.9280</td>\n",
       "      <td>8.959946</td>\n",
       "      <td>8.956379</td>\n",
       "      <td>0.003567</td>\n",
       "      <td>8.968546</td>\n",
       "      <td>-0.910720</td>\n",
       "      <td>82.875644</td>\n",
       "    </tr>\n",
       "    <tr>\n",
       "      <th>5</th>\n",
       "      <td>9.0550</td>\n",
       "      <td>9.1200</td>\n",
       "      <td>8.8550</td>\n",
       "      <td>8.9670</td>\n",
       "      <td>8.961660</td>\n",
       "      <td>8.958506</td>\n",
       "      <td>0.003154</td>\n",
       "      <td>8.967514</td>\n",
       "      <td>-0.910330</td>\n",
       "      <td>82.722979</td>\n",
       "    </tr>\n",
       "    <tr>\n",
       "      <th>6</th>\n",
       "      <td>8.9820</td>\n",
       "      <td>9.0385</td>\n",
       "      <td>8.9095</td>\n",
       "      <td>8.9450</td>\n",
       "      <td>8.957942</td>\n",
       "      <td>8.956104</td>\n",
       "      <td>0.001838</td>\n",
       "      <td>8.952498</td>\n",
       "      <td>-0.910550</td>\n",
       "      <td>82.921498</td>\n",
       "    </tr>\n",
       "  </tbody>\n",
       "</table>\n",
       "</div>"
      ],
      "text/plain": [
       "     Open    High     Low   Close     12EMA     26EMA      MACD       EMA  \\\n",
       "0  8.7945  8.9740  8.7775  8.9515  8.951500  8.951500  0.000000  8.951500   \n",
       "1  8.9605  9.0250  8.8035  8.8755  8.910333  8.912038 -0.001705  8.894500   \n",
       "2  8.7970  8.9125  8.7025  8.8805  8.898689  8.900707 -0.002018  8.884808   \n",
       "3  8.9035  9.2325  8.8750  9.1305  8.971863  8.964947  0.006916  9.050650   \n",
       "4  9.1380  9.2185  8.8500  8.9280  8.959946  8.956379  0.003567  8.968546   \n",
       "5  9.0550  9.1200  8.8550  8.9670  8.961660  8.958506  0.003154  8.967514   \n",
       "6  8.9820  9.0385  8.9095  8.9450  8.957942  8.956104  0.001838  8.952498   \n",
       "\n",
       "   MOMENTUM      ARIMA  \n",
       "0 -0.910485  77.313624  \n",
       "1 -0.911245  74.981736  \n",
       "2 -0.911195  78.591700  \n",
       "3 -0.908695  81.473986  \n",
       "4 -0.910720  82.875644  \n",
       "5 -0.910330  82.722979  \n",
       "6 -0.910550  82.921498  "
      ]
     },
     "execution_count": 23,
     "metadata": {},
     "output_type": "execute_result"
    }
   ],
   "source": [
    "# Let us drop MA7 and MA21 since it has a lot of NaN's\n",
    "lstm_df = df.drop(columns=['Date','MA7','MA21'])\n",
    "lstm_df.head(7)"
   ]
  },
  {
   "cell_type": "code",
   "execution_count": 24,
   "metadata": {
    "colab": {
     "base_uri": "https://localhost:8080/",
     "height": 34
    },
    "colab_type": "code",
    "executionInfo": {
     "elapsed": 1205,
     "status": "ok",
     "timestamp": 1565976388705,
     "user": {
      "displayName": "Nupur Deshpande",
      "photoUrl": "",
      "userId": "13787757531456301957"
     },
     "user_tz": 240
    },
    "id": "LN2zR8p2NR58",
    "outputId": "700d8bd3-5a4f-464c-9b1a-2a1137d249a8"
   },
   "outputs": [
    {
     "data": {
      "text/plain": [
       "(2517, 10)"
      ]
     },
     "execution_count": 24,
     "metadata": {},
     "output_type": "execute_result"
    }
   ],
   "source": [
    "#shape of the dataset\n",
    "lstm_df.shape"
   ]
  },
  {
   "cell_type": "code",
   "execution_count": 25,
   "metadata": {
    "colab": {
     "base_uri": "https://localhost:8080/",
     "height": 34
    },
    "colab_type": "code",
    "executionInfo": {
     "elapsed": 2128,
     "status": "ok",
     "timestamp": 1565976391569,
     "user": {
      "displayName": "Nupur Deshpande",
      "photoUrl": "",
      "userId": "13787757531456301957"
     },
     "user_tz": 240
    },
    "id": "4jspfamWQaXs",
    "outputId": "c30950a4-0831-49d4-9d96-a8f93722c584"
   },
   "outputs": [],
   "source": [
    "#import keras layers\n",
    "from keras.models import Sequential\n",
    "from keras.layers import Dense, LSTM, Dropout, Flatten"
   ]
  },
  {
   "cell_type": "markdown",
   "metadata": {
    "colab_type": "text",
    "id": "9Xw3oUy5ghHW"
   },
   "source": [
    "**Split dataset into train,test and validate sets**"
   ]
  },
  {
   "cell_type": "code",
   "execution_count": 26,
   "metadata": {
    "colab": {},
    "colab_type": "code",
    "id": "ZoEiTOswgpvE"
   },
   "outputs": [],
   "source": [
    "#creating test, train and validate trains\n",
    "train, validate, test = np.split(lstm_df, [int(.6*len(lstm_df)), int(.8*len(lstm_df))])"
   ]
  },
  {
   "cell_type": "code",
   "execution_count": 27,
   "metadata": {},
   "outputs": [
    {
     "data": {
      "text/plain": [
       "((1510, 10), (503, 10), (504, 10))"
      ]
     },
     "execution_count": 27,
     "metadata": {},
     "output_type": "execute_result"
    }
   ],
   "source": [
    "train.shape, validate.shape, test.shape"
   ]
  },
  {
   "cell_type": "markdown",
   "metadata": {},
   "source": [
    "    "
   ]
  },
  {
   "cell_type": "markdown",
   "metadata": {},
   "source": [
    "### Model with only one variable 'Open'"
   ]
  },
  {
   "cell_type": "code",
   "execution_count": 28,
   "metadata": {
    "colab": {},
    "colab_type": "code",
    "id": "S9J6B42cRFYy"
   },
   "outputs": [],
   "source": [
    "# create arrays\n",
    "opentrain = train.iloc[:, 0:1].values\n",
    "openval= validate.iloc[:,0:1].values\n",
    "opentest = test.iloc[:,0:1].values"
   ]
  },
  {
   "cell_type": "markdown",
   "metadata": {
    "colab_type": "text",
    "id": "4RQDiGIMt1Wj"
   },
   "source": [
    "**Normalization**\n",
    "The data is not normalized and the range for each column varies. Normalizing data helps the algorithm in converging i.e. to find local/ global minimum efficiently. I will use MinMaxScaler from Sci-kit Learn. "
   ]
  },
  {
   "cell_type": "code",
   "execution_count": 29,
   "metadata": {
    "colab": {},
    "colab_type": "code",
    "id": "1Dik4lFzRJL-"
   },
   "outputs": [],
   "source": [
    "#normalise using min-max scalar\n",
    "scaler = MinMaxScaler(feature_range = (0, 1))\n",
    "sopentrain = scaler.fit_transform(opentrain)\n",
    "sopenval = scaler.fit_transform(openval)\n",
    "sopentest = scaler.fit_transform(opentest)"
   ]
  },
  {
   "cell_type": "markdown",
   "metadata": {},
   "source": [
    "We cannot fit the model like we normally do using ARIMA. We need to transform our data into something that looks like X and Y values.\n",
    "This way it can be trained on a sequence rather than individual datapoints. \n",
    "Let us convert into n number of columns for X where we feed sequence of numbers then the final column as Y where we provide the next number in the sequence as output.\n",
    "So let us convert an array (open-training) of values into a dataset matrix."
   ]
  },
  {
   "cell_type": "code",
   "execution_count": 30,
   "metadata": {},
   "outputs": [],
   "source": [
    "# use a simple for loop\n",
    "\n",
    "def to_table(data, seq_size):\n",
    "    x = []\n",
    "    y = []\n",
    "\n",
    "    for i in range(len(data)-seq_size):\n",
    "        window = data[i:(i+seq_size), 0]\n",
    "        x.append(window)\n",
    "        y.append(data[i+seq_size, 0])\n",
    "        \n",
    "    return pd.DataFrame(x), pd.DataFrame(y)"
   ]
  },
  {
   "cell_type": "code",
   "execution_count": 31,
   "metadata": {},
   "outputs": [],
   "source": [
    "# Re-arrange train data\n",
    "traindata = to_table(sopentrain, seq_size=3)\n",
    "valdata = to_table(sopenval, seq_size=3)\n",
    "testdata = to_table(sopentest, seq_size=3)\n"
   ]
  },
  {
   "cell_type": "code",
   "execution_count": 32,
   "metadata": {},
   "outputs": [
    {
     "data": {
      "text/plain": [
       "(             0         1         2\n",
       " 0     0.002017  0.005237  0.002066\n",
       " 1     0.005237  0.002066  0.004132\n",
       " 2     0.002066  0.004132  0.008680\n",
       " 3     0.004132  0.008680  0.007070\n",
       " 4     0.008680  0.007070  0.005654\n",
       " ...        ...       ...       ...\n",
       " 1502  0.986053  0.971893  0.968188\n",
       " 1503  0.971893  0.968188  0.964580\n",
       " 1504  0.968188  0.964580  0.975782\n",
       " 1505  0.964580  0.975782  0.984599\n",
       " 1506  0.975782  0.984599  0.978149\n",
       " \n",
       " [1507 rows x 3 columns],\n",
       "              0\n",
       " 0     0.004132\n",
       " 1     0.008680\n",
       " 2     0.007070\n",
       " 3     0.005654\n",
       " 4     0.005441\n",
       " ...        ...\n",
       " 1502  0.964580\n",
       " 1503  0.975782\n",
       " 1504  0.984599\n",
       " 1505  0.978149\n",
       " 1506  0.968111\n",
       " \n",
       " [1507 rows x 1 columns])"
      ]
     },
     "execution_count": 32,
     "metadata": {},
     "output_type": "execute_result"
    }
   ],
   "source": [
    "# the open data column has now been arranged in 4 columns, first 3 are the independant variables and the 4th is the dependant variable\n",
    "traindata"
   ]
  },
  {
   "cell_type": "code",
   "execution_count": 33,
   "metadata": {},
   "outputs": [],
   "source": [
    "# seperate independant and dependant variables and typecast it to array type since it is a requirement for LSTM in keras\n",
    "x_train = np.array(traindata[0])\n",
    "y_train=np.array(traindata[1])\n",
    "x_val = np.array(valdata[0])\n",
    "y_val = np.array(valdata[1])\n",
    "x_test = np.array(testdata[0])\n",
    "y_test = np.array(testdata[1])"
   ]
  },
  {
   "cell_type": "code",
   "execution_count": 35,
   "metadata": {},
   "outputs": [
    {
     "data": {
      "text/plain": [
       "((1507, 3), (1507, 1))"
      ]
     },
     "execution_count": 35,
     "metadata": {},
     "output_type": "execute_result"
    }
   ],
   "source": [
    "x_train.shape, y_train.shape"
   ]
  },
  {
   "cell_type": "markdown",
   "metadata": {
    "colab_type": "text",
    "id": "en50MEmiuIxV"
   },
   "source": [
    "**Convert feature set and label set into arrays and shape feature set into a 3D input that LSTM network demands**"
   ]
  },
  {
   "cell_type": "code",
   "execution_count": 36,
   "metadata": {},
   "outputs": [],
   "source": [
    "# reshape from [samples, timesteps] into [samples, timesteps, features]\n",
    "train_x = np.reshape(x_train, (x_train.shape[0],x_train.shape[1], 1)) #[samples, timesteps, features]\n",
    "val_x = np.reshape(x_val, (x_val.shape[0],x_val.shape[1], 1)) #[samples, timesteps, features]"
   ]
  },
  {
   "cell_type": "code",
   "execution_count": 49,
   "metadata": {},
   "outputs": [
    {
     "name": "stdout",
     "output_type": "stream",
     "text": [
      "Model: \"sequential_1\"\n",
      "_________________________________________________________________\n",
      " Layer (type)                Output Shape              Param #   \n",
      "=================================================================\n",
      " lstm_1 (LSTM)               (None, 3, 15)             1020      \n",
      "                                                                 \n",
      " flatten (Flatten)           (None, 45)                0         \n",
      "                                                                 \n",
      " dense_1 (Dense)             (None, 1)                 46        \n",
      "                                                                 \n",
      "=================================================================\n",
      "Total params: 1,066\n",
      "Trainable params: 1,066\n",
      "Non-trainable params: 0\n",
      "_________________________________________________________________\n",
      "None\n",
      "Epoch 1/100\n",
      "48/48 [==============================] - 1s 6ms/step - loss: 0.1180 - mean_absolute_error: 0.2516 - val_loss: 0.1987 - val_mean_absolute_error: 0.4187\n",
      "Epoch 2/100\n",
      "48/48 [==============================] - 0s 2ms/step - loss: 0.0392 - mean_absolute_error: 0.1390 - val_loss: 0.0233 - val_mean_absolute_error: 0.1372\n",
      "Epoch 3/100\n",
      "48/48 [==============================] - 0s 2ms/step - loss: 0.0047 - mean_absolute_error: 0.0579 - val_loss: 0.0026 - val_mean_absolute_error: 0.0393\n",
      "Epoch 4/100\n",
      "48/48 [==============================] - 0s 3ms/step - loss: 3.2136e-04 - mean_absolute_error: 0.0137 - val_loss: 0.0025 - val_mean_absolute_error: 0.0372\n",
      "Epoch 5/100\n",
      "48/48 [==============================] - 0s 2ms/step - loss: 1.9038e-04 - mean_absolute_error: 0.0101 - val_loss: 0.0024 - val_mean_absolute_error: 0.0367\n",
      "Epoch 6/100\n",
      "48/48 [==============================] - 0s 3ms/step - loss: 1.7110e-04 - mean_absolute_error: 0.0093 - val_loss: 0.0024 - val_mean_absolute_error: 0.0367\n",
      "Epoch 7/100\n",
      "48/48 [==============================] - 0s 2ms/step - loss: 1.5938e-04 - mean_absolute_error: 0.0087 - val_loss: 0.0024 - val_mean_absolute_error: 0.0366\n",
      "Epoch 8/100\n",
      "48/48 [==============================] - 0s 3ms/step - loss: 1.5349e-04 - mean_absolute_error: 0.0084 - val_loss: 0.0024 - val_mean_absolute_error: 0.0367\n",
      "Epoch 9/100\n",
      "48/48 [==============================] - 0s 3ms/step - loss: 1.4876e-04 - mean_absolute_error: 0.0082 - val_loss: 0.0024 - val_mean_absolute_error: 0.0364\n",
      "Epoch 10/100\n",
      "48/48 [==============================] - 0s 2ms/step - loss: 1.4668e-04 - mean_absolute_error: 0.0080 - val_loss: 0.0024 - val_mean_absolute_error: 0.0365\n",
      "Epoch 11/100\n",
      "48/48 [==============================] - 0s 3ms/step - loss: 1.4490e-04 - mean_absolute_error: 0.0080 - val_loss: 0.0024 - val_mean_absolute_error: 0.0365\n",
      "Epoch 12/100\n",
      "48/48 [==============================] - 0s 3ms/step - loss: 1.4327e-04 - mean_absolute_error: 0.0079 - val_loss: 0.0024 - val_mean_absolute_error: 0.0364\n",
      "Epoch 13/100\n",
      "48/48 [==============================] - 0s 2ms/step - loss: 1.4445e-04 - mean_absolute_error: 0.0079 - val_loss: 0.0024 - val_mean_absolute_error: 0.0365\n",
      "Epoch 14/100\n",
      "48/48 [==============================] - 0s 3ms/step - loss: 1.4656e-04 - mean_absolute_error: 0.0081 - val_loss: 0.0024 - val_mean_absolute_error: 0.0364\n",
      "Epoch 15/100\n",
      "48/48 [==============================] - 0s 3ms/step - loss: 1.4267e-04 - mean_absolute_error: 0.0079 - val_loss: 0.0024 - val_mean_absolute_error: 0.0365\n",
      "Epoch 16/100\n",
      "48/48 [==============================] - 0s 2ms/step - loss: 1.4191e-04 - mean_absolute_error: 0.0078 - val_loss: 0.0024 - val_mean_absolute_error: 0.0364\n",
      "Epoch 17/100\n",
      "48/48 [==============================] - 0s 2ms/step - loss: 1.4267e-04 - mean_absolute_error: 0.0078 - val_loss: 0.0024 - val_mean_absolute_error: 0.0362\n",
      "Epoch 18/100\n",
      "48/48 [==============================] - 0s 3ms/step - loss: 1.4493e-04 - mean_absolute_error: 0.0080 - val_loss: 0.0024 - val_mean_absolute_error: 0.0362\n",
      "Epoch 19/100\n",
      "48/48 [==============================] - 0s 2ms/step - loss: 1.4274e-04 - mean_absolute_error: 0.0079 - val_loss: 0.0024 - val_mean_absolute_error: 0.0362\n",
      "Epoch 20/100\n",
      "48/48 [==============================] - 0s 3ms/step - loss: 1.4259e-04 - mean_absolute_error: 0.0078 - val_loss: 0.0024 - val_mean_absolute_error: 0.0363\n",
      "Epoch 21/100\n",
      "48/48 [==============================] - 0s 2ms/step - loss: 1.4424e-04 - mean_absolute_error: 0.0080 - val_loss: 0.0024 - val_mean_absolute_error: 0.0364\n",
      "Epoch 22/100\n",
      "48/48 [==============================] - 0s 3ms/step - loss: 1.4142e-04 - mean_absolute_error: 0.0078 - val_loss: 0.0024 - val_mean_absolute_error: 0.0363\n",
      "Epoch 23/100\n",
      "48/48 [==============================] - 0s 3ms/step - loss: 1.3952e-04 - mean_absolute_error: 0.0077 - val_loss: 0.0024 - val_mean_absolute_error: 0.0361\n",
      "Epoch 24/100\n",
      "48/48 [==============================] - 0s 3ms/step - loss: 1.4207e-04 - mean_absolute_error: 0.0079 - val_loss: 0.0024 - val_mean_absolute_error: 0.0359\n",
      "Epoch 25/100\n",
      "48/48 [==============================] - 0s 3ms/step - loss: 1.4026e-04 - mean_absolute_error: 0.0078 - val_loss: 0.0024 - val_mean_absolute_error: 0.0361\n",
      "Epoch 26/100\n",
      "48/48 [==============================] - 0s 3ms/step - loss: 1.3862e-04 - mean_absolute_error: 0.0077 - val_loss: 0.0024 - val_mean_absolute_error: 0.0362\n",
      "Epoch 27/100\n",
      "48/48 [==============================] - 0s 3ms/step - loss: 1.4280e-04 - mean_absolute_error: 0.0079 - val_loss: 0.0024 - val_mean_absolute_error: 0.0361\n",
      "Epoch 28/100\n",
      "48/48 [==============================] - 0s 2ms/step - loss: 1.4087e-04 - mean_absolute_error: 0.0078 - val_loss: 0.0024 - val_mean_absolute_error: 0.0361\n",
      "Epoch 29/100\n",
      "48/48 [==============================] - 0s 2ms/step - loss: 1.3780e-04 - mean_absolute_error: 0.0077 - val_loss: 0.0024 - val_mean_absolute_error: 0.0359\n",
      "Epoch 30/100\n",
      "48/48 [==============================] - 0s 3ms/step - loss: 1.3927e-04 - mean_absolute_error: 0.0078 - val_loss: 0.0024 - val_mean_absolute_error: 0.0359\n",
      "Epoch 31/100\n",
      "48/48 [==============================] - 0s 3ms/step - loss: 1.3834e-04 - mean_absolute_error: 0.0077 - val_loss: 0.0024 - val_mean_absolute_error: 0.0359\n",
      "Epoch 32/100\n",
      "48/48 [==============================] - 0s 3ms/step - loss: 1.4054e-04 - mean_absolute_error: 0.0078 - val_loss: 0.0024 - val_mean_absolute_error: 0.0360\n",
      "Epoch 33/100\n",
      "48/48 [==============================] - 0s 2ms/step - loss: 1.4122e-04 - mean_absolute_error: 0.0078 - val_loss: 0.0024 - val_mean_absolute_error: 0.0358\n",
      "Epoch 34/100\n",
      "48/48 [==============================] - 0s 2ms/step - loss: 1.4021e-04 - mean_absolute_error: 0.0078 - val_loss: 0.0024 - val_mean_absolute_error: 0.0362\n",
      "Epoch 35/100\n",
      "48/48 [==============================] - 0s 2ms/step - loss: 1.4088e-04 - mean_absolute_error: 0.0079 - val_loss: 0.0023 - val_mean_absolute_error: 0.0358\n",
      "Epoch 36/100\n",
      "48/48 [==============================] - 0s 2ms/step - loss: 1.3906e-04 - mean_absolute_error: 0.0077 - val_loss: 0.0024 - val_mean_absolute_error: 0.0361\n",
      "Epoch 37/100\n",
      "48/48 [==============================] - 0s 2ms/step - loss: 1.4017e-04 - mean_absolute_error: 0.0078 - val_loss: 0.0023 - val_mean_absolute_error: 0.0358\n",
      "Epoch 38/100\n",
      "48/48 [==============================] - 0s 2ms/step - loss: 1.3824e-04 - mean_absolute_error: 0.0077 - val_loss: 0.0024 - val_mean_absolute_error: 0.0359\n",
      "Epoch 39/100\n",
      "48/48 [==============================] - 0s 2ms/step - loss: 1.3996e-04 - mean_absolute_error: 0.0078 - val_loss: 0.0023 - val_mean_absolute_error: 0.0359\n",
      "Epoch 40/100\n",
      "48/48 [==============================] - 0s 2ms/step - loss: 1.3795e-04 - mean_absolute_error: 0.0077 - val_loss: 0.0024 - val_mean_absolute_error: 0.0357\n",
      "Epoch 41/100\n",
      "48/48 [==============================] - 0s 2ms/step - loss: 1.5937e-04 - mean_absolute_error: 0.0086 - val_loss: 0.0023 - val_mean_absolute_error: 0.0358\n",
      "Epoch 42/100\n",
      "48/48 [==============================] - 0s 2ms/step - loss: 1.3849e-04 - mean_absolute_error: 0.0078 - val_loss: 0.0023 - val_mean_absolute_error: 0.0358\n",
      "Epoch 43/100\n",
      "48/48 [==============================] - 0s 3ms/step - loss: 1.3733e-04 - mean_absolute_error: 0.0077 - val_loss: 0.0024 - val_mean_absolute_error: 0.0357\n",
      "Epoch 44/100\n",
      "48/48 [==============================] - 0s 2ms/step - loss: 1.3868e-04 - mean_absolute_error: 0.0079 - val_loss: 0.0023 - val_mean_absolute_error: 0.0356\n",
      "Epoch 45/100\n"
     ]
    },
    {
     "name": "stdout",
     "output_type": "stream",
     "text": [
      "48/48 [==============================] - 0s 2ms/step - loss: 1.3734e-04 - mean_absolute_error: 0.0077 - val_loss: 0.0023 - val_mean_absolute_error: 0.0359\n",
      "Epoch 46/100\n",
      "48/48 [==============================] - 0s 2ms/step - loss: 1.3584e-04 - mean_absolute_error: 0.0077 - val_loss: 0.0023 - val_mean_absolute_error: 0.0356\n",
      "Epoch 47/100\n",
      "48/48 [==============================] - 0s 2ms/step - loss: 1.4283e-04 - mean_absolute_error: 0.0079 - val_loss: 0.0023 - val_mean_absolute_error: 0.0355\n",
      "Epoch 48/100\n",
      "48/48 [==============================] - 0s 2ms/step - loss: 1.3793e-04 - mean_absolute_error: 0.0077 - val_loss: 0.0023 - val_mean_absolute_error: 0.0357\n",
      "Epoch 49/100\n",
      "48/48 [==============================] - 0s 2ms/step - loss: 1.3677e-04 - mean_absolute_error: 0.0077 - val_loss: 0.0023 - val_mean_absolute_error: 0.0356\n",
      "Epoch 50/100\n",
      "48/48 [==============================] - 0s 3ms/step - loss: 1.3553e-04 - mean_absolute_error: 0.0077 - val_loss: 0.0023 - val_mean_absolute_error: 0.0356\n",
      "Epoch 51/100\n",
      "48/48 [==============================] - 0s 3ms/step - loss: 1.3730e-04 - mean_absolute_error: 0.0077 - val_loss: 0.0023 - val_mean_absolute_error: 0.0357\n",
      "Epoch 52/100\n",
      "48/48 [==============================] - 0s 3ms/step - loss: 1.4098e-04 - mean_absolute_error: 0.0081 - val_loss: 0.0023 - val_mean_absolute_error: 0.0354\n",
      "Epoch 53/100\n",
      "48/48 [==============================] - 0s 2ms/step - loss: 1.3994e-04 - mean_absolute_error: 0.0079 - val_loss: 0.0023 - val_mean_absolute_error: 0.0359\n",
      "Epoch 54/100\n",
      "48/48 [==============================] - 0s 2ms/step - loss: 1.3698e-04 - mean_absolute_error: 0.0077 - val_loss: 0.0023 - val_mean_absolute_error: 0.0358\n",
      "Epoch 55/100\n",
      "48/48 [==============================] - 0s 2ms/step - loss: 1.3703e-04 - mean_absolute_error: 0.0077 - val_loss: 0.0023 - val_mean_absolute_error: 0.0354\n",
      "Epoch 56/100\n",
      "48/48 [==============================] - 0s 2ms/step - loss: 1.3750e-04 - mean_absolute_error: 0.0078 - val_loss: 0.0023 - val_mean_absolute_error: 0.0356\n",
      "Epoch 57/100\n",
      "48/48 [==============================] - 0s 3ms/step - loss: 1.3758e-04 - mean_absolute_error: 0.0078 - val_loss: 0.0023 - val_mean_absolute_error: 0.0353\n",
      "Epoch 58/100\n",
      "48/48 [==============================] - 0s 3ms/step - loss: 1.3689e-04 - mean_absolute_error: 0.0077 - val_loss: 0.0023 - val_mean_absolute_error: 0.0354\n",
      "Epoch 59/100\n",
      "48/48 [==============================] - 0s 3ms/step - loss: 1.3700e-04 - mean_absolute_error: 0.0078 - val_loss: 0.0023 - val_mean_absolute_error: 0.0353\n",
      "Epoch 60/100\n",
      "48/48 [==============================] - 0s 2ms/step - loss: 1.3919e-04 - mean_absolute_error: 0.0079 - val_loss: 0.0023 - val_mean_absolute_error: 0.0355\n",
      "Epoch 61/100\n",
      "48/48 [==============================] - 0s 3ms/step - loss: 1.3675e-04 - mean_absolute_error: 0.0079 - val_loss: 0.0023 - val_mean_absolute_error: 0.0353\n",
      "Epoch 62/100\n",
      "48/48 [==============================] - 0s 2ms/step - loss: 1.3627e-04 - mean_absolute_error: 0.0076 - val_loss: 0.0023 - val_mean_absolute_error: 0.0354\n",
      "Epoch 63/100\n",
      "48/48 [==============================] - 0s 2ms/step - loss: 1.3751e-04 - mean_absolute_error: 0.0078 - val_loss: 0.0023 - val_mean_absolute_error: 0.0351\n",
      "Epoch 64/100\n",
      "48/48 [==============================] - 0s 2ms/step - loss: 1.3446e-04 - mean_absolute_error: 0.0076 - val_loss: 0.0023 - val_mean_absolute_error: 0.0353\n",
      "Epoch 65/100\n",
      "48/48 [==============================] - 0s 2ms/step - loss: 1.3355e-04 - mean_absolute_error: 0.0076 - val_loss: 0.0023 - val_mean_absolute_error: 0.0354\n",
      "Epoch 66/100\n",
      "48/48 [==============================] - 0s 2ms/step - loss: 1.3355e-04 - mean_absolute_error: 0.0075 - val_loss: 0.0023 - val_mean_absolute_error: 0.0353\n",
      "Epoch 67/100\n",
      "48/48 [==============================] - 0s 3ms/step - loss: 1.3262e-04 - mean_absolute_error: 0.0077 - val_loss: 0.0023 - val_mean_absolute_error: 0.0353\n",
      "Epoch 68/100\n",
      "48/48 [==============================] - 0s 3ms/step - loss: 1.3491e-04 - mean_absolute_error: 0.0077 - val_loss: 0.0023 - val_mean_absolute_error: 0.0350\n",
      "Epoch 69/100\n",
      "48/48 [==============================] - 0s 2ms/step - loss: 1.3114e-04 - mean_absolute_error: 0.0075 - val_loss: 0.0023 - val_mean_absolute_error: 0.0351\n",
      "Epoch 70/100\n",
      "48/48 [==============================] - 0s 2ms/step - loss: 1.3426e-04 - mean_absolute_error: 0.0076 - val_loss: 0.0023 - val_mean_absolute_error: 0.0349\n",
      "Epoch 71/100\n",
      "48/48 [==============================] - 0s 2ms/step - loss: 1.3969e-04 - mean_absolute_error: 0.0079 - val_loss: 0.0023 - val_mean_absolute_error: 0.0350\n",
      "Epoch 72/100\n",
      "48/48 [==============================] - 0s 3ms/step - loss: 1.3057e-04 - mean_absolute_error: 0.0074 - val_loss: 0.0022 - val_mean_absolute_error: 0.0350\n",
      "Epoch 73/100\n",
      "48/48 [==============================] - 0s 2ms/step - loss: 1.3409e-04 - mean_absolute_error: 0.0076 - val_loss: 0.0022 - val_mean_absolute_error: 0.0349\n",
      "Epoch 74/100\n",
      "48/48 [==============================] - 0s 3ms/step - loss: 1.2870e-04 - mean_absolute_error: 0.0074 - val_loss: 0.0022 - val_mean_absolute_error: 0.0350\n",
      "Epoch 75/100\n",
      "48/48 [==============================] - 0s 2ms/step - loss: 1.3080e-04 - mean_absolute_error: 0.0075 - val_loss: 0.0023 - val_mean_absolute_error: 0.0348\n",
      "Epoch 76/100\n",
      "48/48 [==============================] - 0s 2ms/step - loss: 1.3042e-04 - mean_absolute_error: 0.0074 - val_loss: 0.0023 - val_mean_absolute_error: 0.0353\n",
      "Epoch 77/100\n",
      "48/48 [==============================] - 0s 3ms/step - loss: 1.3330e-04 - mean_absolute_error: 0.0078 - val_loss: 0.0023 - val_mean_absolute_error: 0.0348\n",
      "Epoch 78/100\n",
      "48/48 [==============================] - 0s 4ms/step - loss: 1.3670e-04 - mean_absolute_error: 0.0077 - val_loss: 0.0023 - val_mean_absolute_error: 0.0355\n",
      "Epoch 79/100\n",
      "48/48 [==============================] - 0s 3ms/step - loss: 1.2981e-04 - mean_absolute_error: 0.0074 - val_loss: 0.0024 - val_mean_absolute_error: 0.0358\n",
      "Epoch 80/100\n",
      "48/48 [==============================] - 0s 2ms/step - loss: 1.7006e-04 - mean_absolute_error: 0.0092 - val_loss: 0.0022 - val_mean_absolute_error: 0.0345\n",
      "Epoch 81/100\n",
      "48/48 [==============================] - 0s 2ms/step - loss: 1.2976e-04 - mean_absolute_error: 0.0075 - val_loss: 0.0022 - val_mean_absolute_error: 0.0346\n",
      "Epoch 82/100\n",
      "48/48 [==============================] - 0s 2ms/step - loss: 1.3270e-04 - mean_absolute_error: 0.0075 - val_loss: 0.0022 - val_mean_absolute_error: 0.0347\n",
      "Epoch 83/100\n",
      "48/48 [==============================] - 0s 2ms/step - loss: 1.2921e-04 - mean_absolute_error: 0.0075 - val_loss: 0.0022 - val_mean_absolute_error: 0.0346\n",
      "Epoch 84/100\n",
      "48/48 [==============================] - 0s 2ms/step - loss: 1.3099e-04 - mean_absolute_error: 0.0075 - val_loss: 0.0022 - val_mean_absolute_error: 0.0344\n",
      "Epoch 85/100\n",
      "48/48 [==============================] - 0s 3ms/step - loss: 1.2755e-04 - mean_absolute_error: 0.0074 - val_loss: 0.0022 - val_mean_absolute_error: 0.0347\n",
      "Epoch 86/100\n",
      "48/48 [==============================] - 0s 3ms/step - loss: 1.2918e-04 - mean_absolute_error: 0.0074 - val_loss: 0.0022 - val_mean_absolute_error: 0.0345\n",
      "Epoch 87/100\n",
      "48/48 [==============================] - 0s 2ms/step - loss: 1.3274e-04 - mean_absolute_error: 0.0077 - val_loss: 0.0022 - val_mean_absolute_error: 0.0343\n",
      "Epoch 88/100\n",
      "48/48 [==============================] - 0s 3ms/step - loss: 1.2749e-04 - mean_absolute_error: 0.0073 - val_loss: 0.0022 - val_mean_absolute_error: 0.0343\n",
      "Epoch 89/100\n",
      "48/48 [==============================] - 0s 2ms/step - loss: 1.3633e-04 - mean_absolute_error: 0.0078 - val_loss: 0.0022 - val_mean_absolute_error: 0.0343\n",
      "Epoch 90/100\n",
      "48/48 [==============================] - 0s 2ms/step - loss: 1.3478e-04 - mean_absolute_error: 0.0077 - val_loss: 0.0022 - val_mean_absolute_error: 0.0344\n",
      "Epoch 91/100\n",
      "48/48 [==============================] - 0s 2ms/step - loss: 1.2931e-04 - mean_absolute_error: 0.0075 - val_loss: 0.0022 - val_mean_absolute_error: 0.0342\n",
      "Epoch 92/100\n",
      "48/48 [==============================] - 0s 3ms/step - loss: 1.2720e-04 - mean_absolute_error: 0.0074 - val_loss: 0.0022 - val_mean_absolute_error: 0.0341\n",
      "Epoch 93/100\n",
      "48/48 [==============================] - 0s 2ms/step - loss: 1.2576e-04 - mean_absolute_error: 0.0074 - val_loss: 0.0022 - val_mean_absolute_error: 0.0343\n"
     ]
    },
    {
     "name": "stdout",
     "output_type": "stream",
     "text": [
      "Epoch 94/100\n",
      "48/48 [==============================] - 0s 3ms/step - loss: 1.2654e-04 - mean_absolute_error: 0.0074 - val_loss: 0.0022 - val_mean_absolute_error: 0.0346\n",
      "Epoch 95/100\n",
      "48/48 [==============================] - 0s 3ms/step - loss: 1.2932e-04 - mean_absolute_error: 0.0075 - val_loss: 0.0022 - val_mean_absolute_error: 0.0341\n",
      "Epoch 96/100\n",
      "48/48 [==============================] - 0s 3ms/step - loss: 1.2839e-04 - mean_absolute_error: 0.0075 - val_loss: 0.0021 - val_mean_absolute_error: 0.0342\n",
      "Epoch 97/100\n",
      "48/48 [==============================] - 0s 3ms/step - loss: 1.2691e-04 - mean_absolute_error: 0.0073 - val_loss: 0.0021 - val_mean_absolute_error: 0.0341\n",
      "Epoch 98/100\n",
      "48/48 [==============================] - 0s 2ms/step - loss: 1.2627e-04 - mean_absolute_error: 0.0075 - val_loss: 0.0022 - val_mean_absolute_error: 0.0339\n",
      "Epoch 99/100\n",
      "48/48 [==============================] - 0s 2ms/step - loss: 1.2945e-04 - mean_absolute_error: 0.0077 - val_loss: 0.0021 - val_mean_absolute_error: 0.0340\n",
      "Epoch 100/100\n",
      "48/48 [==============================] - 0s 3ms/step - loss: 1.3130e-04 - mean_absolute_error: 0.0076 - val_loss: 0.0021 - val_mean_absolute_error: 0.0338\n"
     ]
    }
   ],
   "source": [
    "#instantiate and fit the model\n",
    "\n",
    "#model.reset_states()\n",
    "model = Sequential()\n",
    "model.add(LSTM(15, input_shape=(3, 1), activation='relu', return_sequences=True)) # 3 is the timesteps, 1 is the one from the reshape \n",
    "#model.add(Dropout(0.2))\n",
    "model.add(Flatten()) #converting multi-dimensional array into one dimensional flatten array\n",
    "model.add(Dense(1))\n",
    "model.compile(optimizer = 'adam', loss = 'mean_squared_error', metrics = ['mean_absolute_error'])\n",
    "print(model.summary())\n",
    "\n",
    "# fit the model\n",
    "#del history\n",
    "#set verbose=False if you don't want to see the output\n",
    "history = model.fit(train_x, y_train, epochs = 100, batch_size = 32,validation_data = (val_x, y_val))"
   ]
  },
  {
   "cell_type": "code",
   "execution_count": 50,
   "metadata": {},
   "outputs": [
    {
     "data": {
      "image/png": "[encoded data removed]",
      "text/plain": [
       "<Figure size 432x288 with 1 Axes>"
      ]
     },
     "metadata": {
      "needs_background": "light"
     },
     "output_type": "display_data"
    }
   ],
   "source": [
    "#plot the training and validation accuracy and loss at each epoch\n",
    "loss = history.history['loss']\n",
    "val_loss = history.history['val_loss']\n",
    "epochs = range(1, len(loss) + 1)\n",
    "plt.plot(epochs, loss, 'y', label='Training loss')\n",
    "plt.plot(epochs, val_loss, 'r', label='Validation loss')\n",
    "plt.title('Loss Curve')\n",
    "plt.xlabel('Epochs')\n",
    "plt.ylabel('Loss')\n",
    "plt.legend()\n",
    "plt.show()"
   ]
  },
  {
   "cell_type": "code",
   "execution_count": 40,
   "metadata": {},
   "outputs": [
    {
     "data": {
      "text/plain": [
       "((1507, 3), (500, 3))"
      ]
     },
     "execution_count": 40,
     "metadata": {},
     "output_type": "execute_result"
    }
   ],
   "source": [
    "x_train.shape, x_val.shape"
   ]
  },
  {
   "cell_type": "code",
   "execution_count": 184,
   "metadata": {},
   "outputs": [
    {
     "data": {
      "text/plain": [
       "(1507, 3)"
      ]
     },
     "execution_count": 184,
     "metadata": {},
     "output_type": "execute_result"
    }
   ],
   "source": []
  },
  {
   "cell_type": "markdown",
   "metadata": {
    "colab_type": "text",
    "id": "H5aWIT43vX27"
   },
   "source": [
    "**MAE: This means that the average difference between input and ouput for all 1507 datapoints is 0.002. Which is good.\n",
    "The value is for the days here so 1507 length of train set will be denominator. Which means, the difference between actual and prediced values is small that such a large denominator dividing the difference puts MAE in rage of 10^-3 i.e. 0.00xxx**\n",
    "\n",
    "**Same for the validation set. We will now make predictions and check how the model performs on the test set**"
   ]
  },
  {
   "cell_type": "markdown",
   "metadata": {},
   "source": [
    "### Making Predictions on Test set"
   ]
  },
  {
   "cell_type": "code",
   "execution_count": 51,
   "metadata": {},
   "outputs": [],
   "source": [
    "# reshape from [samples, timesteps] into [samples, timesteps, features]\n",
    "test_x = np.reshape(x_test, (x_test.shape[0],x_test.shape[1], 1)) #[samples, timesteps, features]"
   ]
  },
  {
   "cell_type": "code",
   "execution_count": 52,
   "metadata": {},
   "outputs": [
    {
     "name": "stdout",
     "output_type": "stream",
     "text": [
      "48/48 [==============================] - 0s 1ms/step\n",
      "16/16 [==============================] - 0s 1ms/step\n"
     ]
    }
   ],
   "source": [
    "# make predictions\n",
    "trainpredict = model.predict(train_x)\n",
    "testpredict = model.predict(test_x)"
   ]
  },
  {
   "cell_type": "code",
   "execution_count": 53,
   "metadata": {},
   "outputs": [
    {
     "data": {
      "text/plain": [
       "((501, 3, 1), (1507, 1))"
      ]
     },
     "execution_count": 53,
     "metadata": {},
     "output_type": "execute_result"
    }
   ],
   "source": [
    "test_x.shape, trainpredict.shape"
   ]
  },
  {
   "cell_type": "code",
   "execution_count": 54,
   "metadata": {},
   "outputs": [],
   "source": [
    "# rescale all the observations\n",
    "trainpredict = scaler.inverse_transform(trainpredict)\n",
    "testpredict = scaler.inverse_transform(testpredict)\n",
    "x_train1 = scaler.inverse_transform(x_train)\n",
    "y_train1 = scaler.inverse_transform(y_train)\n",
    "x_test1 = scaler.inverse_transform(x_test)\n",
    "y_test1 = scaler.inverse_transform(y_test)"
   ]
  },
  {
   "cell_type": "code",
   "execution_count": 63,
   "metadata": {},
   "outputs": [
    {
     "name": "stdout",
     "output_type": "stream",
     "text": [
      "Single variable LSTM MAE =  2.7273968755604026\n"
     ]
    }
   ],
   "source": [
    "# Evaluate the model\n",
    "print('Single variable LSTM MAE = ', mean_absolute_error(y_test1, testpredict))"
   ]
  },
  {
   "cell_type": "markdown",
   "metadata": {
    "colab_type": "text",
    "id": "PehVpGNAwc70"
   },
   "source": [
    "**Plot the prediction model for the number of test days and train days**"
   ]
  },
  {
   "cell_type": "code",
   "execution_count": 62,
   "metadata": {
    "colab": {
     "base_uri": "https://localhost:8080/",
     "height": 404
    },
    "colab_type": "code",
    "executionInfo": {
     "elapsed": 1034,
     "status": "ok",
     "timestamp": 1565977303541,
     "user": {
      "displayName": "Nupur Deshpande",
      "photoUrl": "",
      "userId": "13787757531456301957"
     },
     "user_tz": 240
    },
    "id": "cPa6q0vVKnX3",
    "outputId": "8d6e552a-fb37-411f-a417-998876057386"
   },
   "outputs": [
    {
     "data": {
      "image/png": "[encoded data removed]",
      "text/plain": [
       "<Figure size 720x432 with 1 Axes>"
      ]
     },
     "metadata": {
      "needs_background": "light"
     },
     "output_type": "display_data"
    }
   ],
   "source": [
    "plt.figure(figsize=(10,6))\n",
    "plt.plot(opentest, color='Cyan', label='Actual Test values')\n",
    "plt.plot(testpredict , color='Orange', label='Predicted values')\n",
    "plt.title('Actual Value vs Predicted')\n",
    "plt.xlabel('Date')\n",
    "plt.ylabel('Predicted Price')\n",
    "plt.legend()\n",
    "plt.show()\n"
   ]
  },
  {
   "cell_type": "markdown",
   "metadata": {
    "colab_type": "text",
    "id": "jlnOEFRAjjPM"
   },
   "source": [
    "### **Using more than one feature**\n",
    "\n",
    "\n",
    "**We will try LSTM with the best 5 features from the result of the xgboost deature selection. We can than compare the MAE's to check whether more features improves the model.**"
   ]
  },
  {
   "cell_type": "code",
   "execution_count": 68,
   "metadata": {},
   "outputs": [
    {
     "data": {
      "text/html": [
       "<div>\n",
       "<style scoped>\n",
       "    .dataframe tbody tr th:only-of-type {\n",
       "        vertical-align: middle;\n",
       "    }\n",
       "\n",
       "    .dataframe tbody tr th {\n",
       "        vertical-align: top;\n",
       "    }\n",
       "\n",
       "    .dataframe thead th {\n",
       "        text-align: right;\n",
       "    }\n",
       "</style>\n",
       "<table border=\"1\" class=\"dataframe\">\n",
       "  <thead>\n",
       "    <tr style=\"text-align: right;\">\n",
       "      <th></th>\n",
       "      <th>Open</th>\n",
       "      <th>High</th>\n",
       "      <th>Low</th>\n",
       "      <th>Close</th>\n",
       "      <th>12EMA</th>\n",
       "      <th>26EMA</th>\n",
       "      <th>MACD</th>\n",
       "      <th>EMA</th>\n",
       "      <th>MOMENTUM</th>\n",
       "      <th>ARIMA</th>\n",
       "    </tr>\n",
       "  </thead>\n",
       "  <tbody>\n",
       "    <tr>\n",
       "      <th>0</th>\n",
       "      <td>8.7945</td>\n",
       "      <td>8.974</td>\n",
       "      <td>8.7775</td>\n",
       "      <td>8.9515</td>\n",
       "      <td>8.951500</td>\n",
       "      <td>8.951500</td>\n",
       "      <td>0.000000</td>\n",
       "      <td>8.9515</td>\n",
       "      <td>-0.910485</td>\n",
       "      <td>77.313624</td>\n",
       "    </tr>\n",
       "    <tr>\n",
       "      <th>1</th>\n",
       "      <td>8.9605</td>\n",
       "      <td>9.025</td>\n",
       "      <td>8.8035</td>\n",
       "      <td>8.8755</td>\n",
       "      <td>8.910333</td>\n",
       "      <td>8.912038</td>\n",
       "      <td>-0.001705</td>\n",
       "      <td>8.8945</td>\n",
       "      <td>-0.911245</td>\n",
       "      <td>74.981736</td>\n",
       "    </tr>\n",
       "  </tbody>\n",
       "</table>\n",
       "</div>"
      ],
      "text/plain": [
       "     Open   High     Low   Close     12EMA     26EMA      MACD     EMA  \\\n",
       "0  8.7945  8.974  8.7775  8.9515  8.951500  8.951500  0.000000  8.9515   \n",
       "1  8.9605  9.025  8.8035  8.8755  8.910333  8.912038 -0.001705  8.8945   \n",
       "\n",
       "   MOMENTUM      ARIMA  \n",
       "0 -0.910485  77.313624  \n",
       "1 -0.911245  74.981736  "
      ]
     },
     "execution_count": 68,
     "metadata": {},
     "output_type": "execute_result"
    }
   ],
   "source": [
    "lstm_df.head(2)"
   ]
  },
  {
   "cell_type": "code",
   "execution_count": 69,
   "metadata": {
    "colab": {},
    "colab_type": "code",
    "id": "4sxE7ubqKuI6"
   },
   "outputs": [],
   "source": [
    "data = lstm_df[['Open','Close','High','Low', 'EMA', 'MOMENTUM']]"
   ]
  },
  {
   "cell_type": "code",
   "execution_count": 66,
   "metadata": {
    "colab": {
     "base_uri": "https://localhost:8080/",
     "height": 195
    },
    "colab_type": "code",
    "executionInfo": {
     "elapsed": 296,
     "status": "ok",
     "timestamp": 1565977308091,
     "user": {
      "displayName": "Nupur Deshpande",
      "photoUrl": "",
      "userId": "13787757531456301957"
     },
     "user_tz": 240
    },
    "id": "CMVCWkeJjrb5",
    "outputId": "16d65690-6c7f-4264-e12b-c8d9cda9dbfb"
   },
   "outputs": [
    {
     "data": {
      "text/html": [
       "<div>\n",
       "<style scoped>\n",
       "    .dataframe tbody tr th:only-of-type {\n",
       "        vertical-align: middle;\n",
       "    }\n",
       "\n",
       "    .dataframe tbody tr th {\n",
       "        vertical-align: top;\n",
       "    }\n",
       "\n",
       "    .dataframe thead th {\n",
       "        text-align: right;\n",
       "    }\n",
       "</style>\n",
       "<table border=\"1\" class=\"dataframe\">\n",
       "  <thead>\n",
       "    <tr style=\"text-align: right;\">\n",
       "      <th></th>\n",
       "      <th>Open</th>\n",
       "      <th>Close</th>\n",
       "      <th>High</th>\n",
       "      <th>Low</th>\n",
       "      <th>EMA</th>\n",
       "      <th>MOMENTUM</th>\n",
       "    </tr>\n",
       "  </thead>\n",
       "  <tbody>\n",
       "    <tr>\n",
       "      <th>0</th>\n",
       "      <td>8.7945</td>\n",
       "      <td>8.9515</td>\n",
       "      <td>8.9740</td>\n",
       "      <td>8.7775</td>\n",
       "      <td>8.951500</td>\n",
       "      <td>-0.910485</td>\n",
       "    </tr>\n",
       "    <tr>\n",
       "      <th>1</th>\n",
       "      <td>8.9605</td>\n",
       "      <td>8.8755</td>\n",
       "      <td>9.0250</td>\n",
       "      <td>8.8035</td>\n",
       "      <td>8.894500</td>\n",
       "      <td>-0.911245</td>\n",
       "    </tr>\n",
       "    <tr>\n",
       "      <th>2</th>\n",
       "      <td>8.7970</td>\n",
       "      <td>8.8805</td>\n",
       "      <td>8.9125</td>\n",
       "      <td>8.7025</td>\n",
       "      <td>8.884808</td>\n",
       "      <td>-0.911195</td>\n",
       "    </tr>\n",
       "    <tr>\n",
       "      <th>3</th>\n",
       "      <td>8.9035</td>\n",
       "      <td>9.1305</td>\n",
       "      <td>9.2325</td>\n",
       "      <td>8.8750</td>\n",
       "      <td>9.050650</td>\n",
       "      <td>-0.908695</td>\n",
       "    </tr>\n",
       "    <tr>\n",
       "      <th>4</th>\n",
       "      <td>9.1380</td>\n",
       "      <td>8.9280</td>\n",
       "      <td>9.2185</td>\n",
       "      <td>8.8500</td>\n",
       "      <td>8.968546</td>\n",
       "      <td>-0.910720</td>\n",
       "    </tr>\n",
       "  </tbody>\n",
       "</table>\n",
       "</div>"
      ],
      "text/plain": [
       "     Open   Close    High     Low       EMA  MOMENTUM\n",
       "0  8.7945  8.9515  8.9740  8.7775  8.951500 -0.910485\n",
       "1  8.9605  8.8755  9.0250  8.8035  8.894500 -0.911245\n",
       "2  8.7970  8.8805  8.9125  8.7025  8.884808 -0.911195\n",
       "3  8.9035  9.1305  9.2325  8.8750  9.050650 -0.908695\n",
       "4  9.1380  8.9280  9.2185  8.8500  8.968546 -0.910720"
      ]
     },
     "execution_count": 66,
     "metadata": {},
     "output_type": "execute_result"
    }
   ],
   "source": [
    "data.head()"
   ]
  },
  {
   "cell_type": "markdown",
   "metadata": {},
   "source": [
    "    "
   ]
  },
  {
   "cell_type": "markdown",
   "metadata": {
    "colab_type": "text",
    "id": "9Xw3oUy5ghHW"
   },
   "source": [
    "### Split dataset into train, test and validate sets"
   ]
  },
  {
   "cell_type": "code",
   "execution_count": 75,
   "metadata": {
    "colab": {},
    "colab_type": "code",
    "id": "ZoEiTOswgpvE"
   },
   "outputs": [],
   "source": [
    "#creating test, train and validate trains\n",
    "train, val, test = np.split(data, [int(.6*len(lstm_df)), int(.8*len(lstm_df))])"
   ]
  },
  {
   "cell_type": "code",
   "execution_count": 76,
   "metadata": {},
   "outputs": [
    {
     "data": {
      "text/plain": [
       "((1510, 6), (503, 6), (504, 6))"
      ]
     },
     "execution_count": 76,
     "metadata": {},
     "output_type": "execute_result"
    }
   ],
   "source": [
    "train.shape, validate.shape, test.shape"
   ]
  },
  {
   "cell_type": "markdown",
   "metadata": {},
   "source": [
    "    "
   ]
  },
  {
   "cell_type": "markdown",
   "metadata": {},
   "source": [
    "### Normalize the data"
   ]
  },
  {
   "cell_type": "code",
   "execution_count": 77,
   "metadata": {},
   "outputs": [],
   "source": [
    "#normalise using min-max scalar\n",
    "scaler = MinMaxScaler(feature_range = (0, 1))\n",
    "strain = scaler.fit_transform(train)\n",
    "sval = scaler.fit_transform(val)\n",
    "stest = scaler.fit_transform(test)"
   ]
  },
  {
   "cell_type": "code",
   "execution_count": 87,
   "metadata": {},
   "outputs": [],
   "source": [
    "# For train\n",
    "Xtrain = []\n",
    "Ytrain = []\n",
    "\n",
    "n_future = 1   # Number of days we want to look into the future based on the past days.\n",
    "n_past = 3\n",
    "\n",
    "#Reformat input data into a shape: (n_samples x timesteps x n_features)\n",
    "for i in range(n_past, len(strain) - n_future +1):\n",
    "    Xtrain.append(strain[i - n_past:i, 0:df.shape[1]])\n",
    "    Ytrain.append(strain[i + n_future - 1:i + n_future, 0])\n"
   ]
  },
  {
   "cell_type": "code",
   "execution_count": 89,
   "metadata": {},
   "outputs": [],
   "source": [
    "# For val\n",
    "Xval = []\n",
    "Yval = []\n",
    "\n",
    "n_future = 1   # Number of days we want to look into the future based on the past days.\n",
    "n_past = 3\n",
    "\n",
    "#Reformat input data into a shape: (n_samples x timesteps x n_features)\n",
    "for i in range(n_past, len(strain) - n_future +1):\n",
    "    Xval.append(strain[i - n_past:i, 0:df.shape[1]])\n",
    "    Yval.append(strain[i + n_future - 1:i + n_future, 0])"
   ]
  },
  {
   "cell_type": "code",
   "execution_count": 90,
   "metadata": {},
   "outputs": [],
   "source": [
    "# For train\n",
    "Xtest = []\n",
    "Ytest = []\n",
    "\n",
    "n_future = 1   # Number of days we want to look into the future based on the past days.\n",
    "n_past = 3\n",
    "\n",
    "#Reformat input data into a shape: (n_samples x timesteps x n_features)\n",
    "for i in range(n_past, len(strain) - n_future +1):\n",
    "    Xtest.append(strain[i - n_past:i, 0:df.shape[1]])\n",
    "    Ytest.append(strain[i + n_future - 1:i + n_future, 0])"
   ]
  },
  {
   "cell_type": "code",
   "execution_count": 91,
   "metadata": {},
   "outputs": [
    {
     "data": {
      "text/plain": [
       "((1507, 3, 6), (1507, 1))"
      ]
     },
     "execution_count": 91,
     "metadata": {},
     "output_type": "execute_result"
    }
   ],
   "source": [
    "# change type to array\n",
    "Xtrain, Ytrain = np.array(Xtrain), np.array(Ytrain)\n",
    "Xval, Yval = np.array(Xval), np.array(Yval)\n",
    "Xtest, Ytest = np.array(Xtest), np.array(Ytest)\n",
    "\n",
    "Xtrain.shape,Ytrain.shape\n"
   ]
  },
  {
   "cell_type": "code",
   "execution_count": 95,
   "metadata": {},
   "outputs": [],
   "source": [
    "# reshape from [samples, timesteps] into [samples, timesteps, features]\n",
    "train_X = np.reshape(Xtrain, (Xtrain.shape[0],Xtrain.shape[1], 6)) #[samples, timesteps, features]\n",
    "val_X = np.reshape(Xval, (Xval.shape[0],Xval.shape[1], 6))"
   ]
  },
  {
   "cell_type": "markdown",
   "metadata": {},
   "source": [
    "    "
   ]
  },
  {
   "cell_type": "markdown",
   "metadata": {},
   "source": [
    "### LSTM Model"
   ]
  },
  {
   "cell_type": "raw",
   "metadata": {},
   "source": [
    "# We will fit an ensemble of models to get re-prodicible results\n",
    "# Takes a while to run\n",
    "\n",
    "ensemble = []\n",
    "\n",
    "# 35 models\n",
    "for i in range(35):\n",
    "    \n",
    "    # define and fit the model\n",
    "    model.reset_states()\n",
    "    model = Sequential()\n",
    "    model.add(LSTM(30, input_shape=(3, 2), activation='relu')) # 3 is the timesteps, 2 is the one from the reshape \n",
    "    #model.add(Dropout(0.2))\n",
    "    model.add(Dense(1))\n",
    "    model.compile(loss='mean_squared_error', optimizer='adam')\n",
    "\n",
    "    # early stopping\n",
    "    es = EarlyStopping(monitor='loss', mode='min', verbose=0, patience=5)\n",
    "\n",
    "    # fit the model\n",
    "    history = model.fit(train_x, y_train, epochs=150, verbose=0, callbacks=[es], shuffle=False, validation_split=0.1)\n",
    "        \n",
    "    # store the models\n",
    "    ensemble.append(model)"
   ]
  },
  {
   "cell_type": "code",
   "execution_count": 98,
   "metadata": {},
   "outputs": [
    {
     "name": "stdout",
     "output_type": "stream",
     "text": [
      "Model: \"sequential_5\"\n",
      "_________________________________________________________________\n",
      " Layer (type)                Output Shape              Param #   \n",
      "=================================================================\n",
      " lstm_5 (LSTM)               (None, 3, 15)             1320      \n",
      "                                                                 \n",
      " flatten_4 (Flatten)         (None, 45)                0         \n",
      "                                                                 \n",
      " dense_5 (Dense)             (None, 1)                 46        \n",
      "                                                                 \n",
      "=================================================================\n",
      "Total params: 1,366\n",
      "Trainable params: 1,366\n",
      "Non-trainable params: 0\n",
      "_________________________________________________________________\n",
      "None\n",
      "Epoch 1/100\n",
      "48/48 [==============================] - 1s 7ms/step - loss: 0.1153 - mean_absolute_error: 0.2423 - val_loss: 0.0342 - val_mean_absolute_error: 0.1274\n",
      "Epoch 2/100\n",
      "48/48 [==============================] - 0s 3ms/step - loss: 0.0077 - mean_absolute_error: 0.0539 - val_loss: 3.9323e-04 - val_mean_absolute_error: 0.0139\n",
      "Epoch 3/100\n",
      "48/48 [==============================] - 0s 3ms/step - loss: 2.9215e-04 - mean_absolute_error: 0.0120 - val_loss: 1.9047e-04 - val_mean_absolute_error: 0.0099\n",
      "Epoch 4/100\n",
      "48/48 [==============================] - 0s 3ms/step - loss: 1.5810e-04 - mean_absolute_error: 0.0085 - val_loss: 1.3317e-04 - val_mean_absolute_error: 0.0075\n",
      "Epoch 5/100\n",
      "48/48 [==============================] - 0s 3ms/step - loss: 1.3222e-04 - mean_absolute_error: 0.0075 - val_loss: 1.2944e-04 - val_mean_absolute_error: 0.0073\n",
      "Epoch 6/100\n",
      "48/48 [==============================] - 0s 3ms/step - loss: 1.3121e-04 - mean_absolute_error: 0.0074 - val_loss: 1.2827e-04 - val_mean_absolute_error: 0.0073\n",
      "Epoch 7/100\n",
      "48/48 [==============================] - 0s 3ms/step - loss: 1.2920e-04 - mean_absolute_error: 0.0074 - val_loss: 1.3197e-04 - val_mean_absolute_error: 0.0076\n",
      "Epoch 8/100\n",
      "48/48 [==============================] - 0s 3ms/step - loss: 1.2994e-04 - mean_absolute_error: 0.0074 - val_loss: 1.3530e-04 - val_mean_absolute_error: 0.0079\n",
      "Epoch 9/100\n",
      "48/48 [==============================] - 0s 3ms/step - loss: 1.2852e-04 - mean_absolute_error: 0.0073 - val_loss: 1.2656e-04 - val_mean_absolute_error: 0.0072\n",
      "Epoch 10/100\n",
      "48/48 [==============================] - 0s 3ms/step - loss: 1.2748e-04 - mean_absolute_error: 0.0072 - val_loss: 1.2655e-04 - val_mean_absolute_error: 0.0073\n",
      "Epoch 11/100\n",
      "48/48 [==============================] - 0s 3ms/step - loss: 1.2650e-04 - mean_absolute_error: 0.0072 - val_loss: 1.2392e-04 - val_mean_absolute_error: 0.0071\n",
      "Epoch 12/100\n",
      "48/48 [==============================] - 0s 3ms/step - loss: 1.2555e-04 - mean_absolute_error: 0.0072 - val_loss: 1.2361e-04 - val_mean_absolute_error: 0.0071\n",
      "Epoch 13/100\n",
      "48/48 [==============================] - 0s 3ms/step - loss: 1.2551e-04 - mean_absolute_error: 0.0072 - val_loss: 1.2494e-04 - val_mean_absolute_error: 0.0072\n",
      "Epoch 14/100\n",
      "48/48 [==============================] - 0s 3ms/step - loss: 1.2497e-04 - mean_absolute_error: 0.0072 - val_loss: 1.3116e-04 - val_mean_absolute_error: 0.0077\n",
      "Epoch 15/100\n",
      "48/48 [==============================] - 0s 4ms/step - loss: 1.2297e-04 - mean_absolute_error: 0.0072 - val_loss: 1.2504e-04 - val_mean_absolute_error: 0.0073\n",
      "Epoch 16/100\n",
      "48/48 [==============================] - 0s 3ms/step - loss: 1.2304e-04 - mean_absolute_error: 0.0072 - val_loss: 1.1994e-04 - val_mean_absolute_error: 0.0070\n",
      "Epoch 17/100\n",
      "48/48 [==============================] - 0s 3ms/step - loss: 1.2155e-04 - mean_absolute_error: 0.0071 - val_loss: 1.1903e-04 - val_mean_absolute_error: 0.0069\n",
      "Epoch 18/100\n",
      "48/48 [==============================] - 0s 3ms/step - loss: 1.2096e-04 - mean_absolute_error: 0.0071 - val_loss: 1.2520e-04 - val_mean_absolute_error: 0.0071\n",
      "Epoch 19/100\n",
      "48/48 [==============================] - 0s 4ms/step - loss: 1.1919e-04 - mean_absolute_error: 0.0070 - val_loss: 1.2136e-04 - val_mean_absolute_error: 0.0071\n",
      "Epoch 20/100\n",
      "48/48 [==============================] - 0s 4ms/step - loss: 1.2178e-04 - mean_absolute_error: 0.0071 - val_loss: 1.1965e-04 - val_mean_absolute_error: 0.0070\n",
      "Epoch 21/100\n",
      "48/48 [==============================] - 0s 4ms/step - loss: 1.1829e-04 - mean_absolute_error: 0.0070 - val_loss: 1.1955e-04 - val_mean_absolute_error: 0.0070\n",
      "Epoch 22/100\n",
      "48/48 [==============================] - 0s 3ms/step - loss: 1.1841e-04 - mean_absolute_error: 0.0069 - val_loss: 1.1877e-04 - val_mean_absolute_error: 0.0070\n",
      "Epoch 23/100\n",
      "48/48 [==============================] - 0s 4ms/step - loss: 1.2953e-04 - mean_absolute_error: 0.0074 - val_loss: 1.1543e-04 - val_mean_absolute_error: 0.0069\n",
      "Epoch 24/100\n",
      "48/48 [==============================] - 0s 4ms/step - loss: 1.1674e-04 - mean_absolute_error: 0.0069 - val_loss: 1.2261e-04 - val_mean_absolute_error: 0.0073\n",
      "Epoch 25/100\n",
      "48/48 [==============================] - 0s 3ms/step - loss: 1.1690e-04 - mean_absolute_error: 0.0070 - val_loss: 1.1470e-04 - val_mean_absolute_error: 0.0069\n",
      "Epoch 26/100\n",
      "48/48 [==============================] - 0s 3ms/step - loss: 1.1622e-04 - mean_absolute_error: 0.0069 - val_loss: 1.1421e-04 - val_mean_absolute_error: 0.0069\n",
      "Epoch 27/100\n",
      "48/48 [==============================] - 0s 3ms/step - loss: 1.1629e-04 - mean_absolute_error: 0.0069 - val_loss: 1.1515e-04 - val_mean_absolute_error: 0.0069\n",
      "Epoch 28/100\n",
      "48/48 [==============================] - 0s 3ms/step - loss: 1.1658e-04 - mean_absolute_error: 0.0069 - val_loss: 1.1228e-04 - val_mean_absolute_error: 0.0068\n",
      "Epoch 29/100\n",
      "48/48 [==============================] - 0s 3ms/step - loss: 1.1838e-04 - mean_absolute_error: 0.0070 - val_loss: 1.1169e-04 - val_mean_absolute_error: 0.0067\n",
      "Epoch 30/100\n",
      "48/48 [==============================] - 0s 4ms/step - loss: 1.1513e-04 - mean_absolute_error: 0.0068 - val_loss: 1.1151e-04 - val_mean_absolute_error: 0.0066\n",
      "Epoch 31/100\n",
      "48/48 [==============================] - 0s 4ms/step - loss: 1.1620e-04 - mean_absolute_error: 0.0069 - val_loss: 1.1449e-04 - val_mean_absolute_error: 0.0068\n",
      "Epoch 32/100\n",
      "48/48 [==============================] - 0s 3ms/step - loss: 1.1438e-04 - mean_absolute_error: 0.0069 - val_loss: 1.1004e-04 - val_mean_absolute_error: 0.0066\n",
      "Epoch 33/100\n",
      "48/48 [==============================] - 0s 3ms/step - loss: 1.1426e-04 - mean_absolute_error: 0.0068 - val_loss: 1.1099e-04 - val_mean_absolute_error: 0.0066\n",
      "Epoch 34/100\n",
      "48/48 [==============================] - 0s 3ms/step - loss: 1.1287e-04 - mean_absolute_error: 0.0067 - val_loss: 1.1148e-04 - val_mean_absolute_error: 0.0068\n",
      "Epoch 35/100\n",
      "48/48 [==============================] - 0s 4ms/step - loss: 1.1573e-04 - mean_absolute_error: 0.0070 - val_loss: 1.1348e-04 - val_mean_absolute_error: 0.0070\n",
      "Epoch 36/100\n",
      "48/48 [==============================] - 0s 3ms/step - loss: 1.1076e-04 - mean_absolute_error: 0.0067 - val_loss: 1.1039e-04 - val_mean_absolute_error: 0.0067\n",
      "Epoch 37/100\n",
      "48/48 [==============================] - 0s 3ms/step - loss: 1.1439e-04 - mean_absolute_error: 0.0069 - val_loss: 1.1010e-04 - val_mean_absolute_error: 0.0068\n",
      "Epoch 38/100\n",
      "48/48 [==============================] - 0s 3ms/step - loss: 1.1136e-04 - mean_absolute_error: 0.0067 - val_loss: 1.1633e-04 - val_mean_absolute_error: 0.0070\n",
      "Epoch 39/100\n",
      "48/48 [==============================] - 0s 3ms/step - loss: 1.1173e-04 - mean_absolute_error: 0.0068 - val_loss: 1.1743e-04 - val_mean_absolute_error: 0.0073\n",
      "Epoch 40/100\n",
      "48/48 [==============================] - 0s 4ms/step - loss: 1.1411e-04 - mean_absolute_error: 0.0069 - val_loss: 1.1290e-04 - val_mean_absolute_error: 0.0067\n",
      "Epoch 41/100\n",
      "48/48 [==============================] - 0s 4ms/step - loss: 1.0900e-04 - mean_absolute_error: 0.0067 - val_loss: 1.1156e-04 - val_mean_absolute_error: 0.0068\n",
      "Epoch 42/100\n",
      "48/48 [==============================] - 0s 3ms/step - loss: 1.0850e-04 - mean_absolute_error: 0.0067 - val_loss: 1.0806e-04 - val_mean_absolute_error: 0.0067\n",
      "Epoch 43/100\n",
      "48/48 [==============================] - 0s 4ms/step - loss: 1.0720e-04 - mean_absolute_error: 0.0066 - val_loss: 1.0488e-04 - val_mean_absolute_error: 0.0065\n"
     ]
    },
    {
     "name": "stdout",
     "output_type": "stream",
     "text": [
      "Epoch 44/100\n",
      "48/48 [==============================] - 0s 3ms/step - loss: 1.0549e-04 - mean_absolute_error: 0.0065 - val_loss: 1.0700e-04 - val_mean_absolute_error: 0.0066\n",
      "Epoch 45/100\n",
      "48/48 [==============================] - 0s 3ms/step - loss: 1.0641e-04 - mean_absolute_error: 0.0065 - val_loss: 1.0800e-04 - val_mean_absolute_error: 0.0065\n",
      "Epoch 46/100\n",
      "48/48 [==============================] - 0s 3ms/step - loss: 1.1402e-04 - mean_absolute_error: 0.0069 - val_loss: 1.4251e-04 - val_mean_absolute_error: 0.0085\n",
      "Epoch 47/100\n",
      "48/48 [==============================] - 0s 3ms/step - loss: 1.0745e-04 - mean_absolute_error: 0.0067 - val_loss: 1.0417e-04 - val_mean_absolute_error: 0.0065\n",
      "Epoch 48/100\n",
      "48/48 [==============================] - 0s 3ms/step - loss: 1.0976e-04 - mean_absolute_error: 0.0067 - val_loss: 1.3046e-04 - val_mean_absolute_error: 0.0074\n",
      "Epoch 49/100\n",
      "48/48 [==============================] - 0s 3ms/step - loss: 1.1213e-04 - mean_absolute_error: 0.0068 - val_loss: 1.0203e-04 - val_mean_absolute_error: 0.0064\n",
      "Epoch 50/100\n",
      "48/48 [==============================] - 0s 3ms/step - loss: 1.0486e-04 - mean_absolute_error: 0.0067 - val_loss: 1.0845e-04 - val_mean_absolute_error: 0.0067\n",
      "Epoch 51/100\n",
      "48/48 [==============================] - 0s 3ms/step - loss: 1.0627e-04 - mean_absolute_error: 0.0066 - val_loss: 1.3071e-04 - val_mean_absolute_error: 0.0081\n",
      "Epoch 52/100\n",
      "48/48 [==============================] - 0s 3ms/step - loss: 1.0577e-04 - mean_absolute_error: 0.0067 - val_loss: 9.9397e-05 - val_mean_absolute_error: 0.0063\n",
      "Epoch 53/100\n",
      "48/48 [==============================] - 0s 3ms/step - loss: 1.0226e-04 - mean_absolute_error: 0.0064 - val_loss: 1.0696e-04 - val_mean_absolute_error: 0.0066\n",
      "Epoch 54/100\n",
      "48/48 [==============================] - 0s 3ms/step - loss: 1.0319e-04 - mean_absolute_error: 0.0066 - val_loss: 1.1537e-04 - val_mean_absolute_error: 0.0073\n",
      "Epoch 55/100\n",
      "48/48 [==============================] - 0s 3ms/step - loss: 1.0332e-04 - mean_absolute_error: 0.0066 - val_loss: 9.8509e-05 - val_mean_absolute_error: 0.0062\n",
      "Epoch 56/100\n",
      "48/48 [==============================] - 0s 3ms/step - loss: 1.0162e-04 - mean_absolute_error: 0.0065 - val_loss: 1.1239e-04 - val_mean_absolute_error: 0.0070\n",
      "Epoch 57/100\n",
      "48/48 [==============================] - 0s 3ms/step - loss: 1.0137e-04 - mean_absolute_error: 0.0063 - val_loss: 9.7462e-05 - val_mean_absolute_error: 0.0062\n",
      "Epoch 58/100\n",
      "48/48 [==============================] - 0s 3ms/step - loss: 1.0471e-04 - mean_absolute_error: 0.0065 - val_loss: 9.6097e-05 - val_mean_absolute_error: 0.0061\n",
      "Epoch 59/100\n",
      "48/48 [==============================] - 0s 3ms/step - loss: 9.7620e-05 - mean_absolute_error: 0.0062 - val_loss: 9.5548e-05 - val_mean_absolute_error: 0.0061\n",
      "Epoch 60/100\n",
      "48/48 [==============================] - 0s 3ms/step - loss: 9.9815e-05 - mean_absolute_error: 0.0063 - val_loss: 1.0872e-04 - val_mean_absolute_error: 0.0066\n",
      "Epoch 61/100\n",
      "48/48 [==============================] - 0s 3ms/step - loss: 1.0323e-04 - mean_absolute_error: 0.0065 - val_loss: 1.0853e-04 - val_mean_absolute_error: 0.0069\n",
      "Epoch 62/100\n",
      "48/48 [==============================] - 0s 3ms/step - loss: 1.0148e-04 - mean_absolute_error: 0.0065 - val_loss: 9.3358e-05 - val_mean_absolute_error: 0.0060\n",
      "Epoch 63/100\n",
      "48/48 [==============================] - 0s 3ms/step - loss: 9.9626e-05 - mean_absolute_error: 0.0064 - val_loss: 1.1450e-04 - val_mean_absolute_error: 0.0071\n",
      "Epoch 64/100\n",
      "48/48 [==============================] - 0s 3ms/step - loss: 9.7110e-05 - mean_absolute_error: 0.0063 - val_loss: 9.9972e-05 - val_mean_absolute_error: 0.0064\n",
      "Epoch 65/100\n",
      "48/48 [==============================] - 0s 3ms/step - loss: 9.7503e-05 - mean_absolute_error: 0.0062 - val_loss: 9.3115e-05 - val_mean_absolute_error: 0.0061\n",
      "Epoch 66/100\n",
      "48/48 [==============================] - 0s 3ms/step - loss: 9.8409e-05 - mean_absolute_error: 0.0062 - val_loss: 9.5754e-05 - val_mean_absolute_error: 0.0062\n",
      "Epoch 67/100\n",
      "48/48 [==============================] - 0s 3ms/step - loss: 1.0027e-04 - mean_absolute_error: 0.0065 - val_loss: 9.0941e-05 - val_mean_absolute_error: 0.0059\n",
      "Epoch 68/100\n",
      "48/48 [==============================] - 0s 3ms/step - loss: 9.8942e-05 - mean_absolute_error: 0.0064 - val_loss: 9.2477e-05 - val_mean_absolute_error: 0.0060\n",
      "Epoch 69/100\n",
      "48/48 [==============================] - 0s 3ms/step - loss: 9.4509e-05 - mean_absolute_error: 0.0061 - val_loss: 9.2539e-05 - val_mean_absolute_error: 0.0059\n",
      "Epoch 70/100\n",
      "48/48 [==============================] - 0s 3ms/step - loss: 1.0228e-04 - mean_absolute_error: 0.0065 - val_loss: 8.8782e-05 - val_mean_absolute_error: 0.0059\n",
      "Epoch 71/100\n",
      "48/48 [==============================] - 0s 3ms/step - loss: 9.4746e-05 - mean_absolute_error: 0.0062 - val_loss: 8.9695e-05 - val_mean_absolute_error: 0.0059\n",
      "Epoch 72/100\n",
      "48/48 [==============================] - 0s 3ms/step - loss: 9.1027e-05 - mean_absolute_error: 0.0060 - val_loss: 8.8159e-05 - val_mean_absolute_error: 0.0058\n",
      "Epoch 73/100\n",
      "48/48 [==============================] - 0s 3ms/step - loss: 9.0670e-05 - mean_absolute_error: 0.0060 - val_loss: 8.8688e-05 - val_mean_absolute_error: 0.0059\n",
      "Epoch 74/100\n",
      "48/48 [==============================] - 0s 3ms/step - loss: 8.8825e-05 - mean_absolute_error: 0.0059 - val_loss: 1.2316e-04 - val_mean_absolute_error: 0.0074\n",
      "Epoch 75/100\n",
      "48/48 [==============================] - 0s 3ms/step - loss: 1.2412e-04 - mean_absolute_error: 0.0077 - val_loss: 8.8106e-05 - val_mean_absolute_error: 0.0059\n",
      "Epoch 76/100\n",
      "48/48 [==============================] - 0s 3ms/step - loss: 8.8835e-05 - mean_absolute_error: 0.0060 - val_loss: 9.1283e-05 - val_mean_absolute_error: 0.0061\n",
      "Epoch 77/100\n",
      "48/48 [==============================] - 0s 3ms/step - loss: 9.1036e-05 - mean_absolute_error: 0.0061 - val_loss: 8.6260e-05 - val_mean_absolute_error: 0.0059\n",
      "Epoch 78/100\n",
      "48/48 [==============================] - 0s 3ms/step - loss: 9.2829e-05 - mean_absolute_error: 0.0061 - val_loss: 1.3475e-04 - val_mean_absolute_error: 0.0083\n",
      "Epoch 79/100\n",
      "48/48 [==============================] - 0s 3ms/step - loss: 9.2342e-05 - mean_absolute_error: 0.0062 - val_loss: 9.8737e-05 - val_mean_absolute_error: 0.0065\n",
      "Epoch 80/100\n",
      "48/48 [==============================] - 0s 3ms/step - loss: 9.9424e-05 - mean_absolute_error: 0.0065 - val_loss: 8.4951e-05 - val_mean_absolute_error: 0.0058\n",
      "Epoch 81/100\n",
      "48/48 [==============================] - 0s 3ms/step - loss: 1.0480e-04 - mean_absolute_error: 0.0067 - val_loss: 9.4267e-05 - val_mean_absolute_error: 0.0063\n",
      "Epoch 82/100\n",
      "48/48 [==============================] - 0s 3ms/step - loss: 9.0154e-05 - mean_absolute_error: 0.0061 - val_loss: 8.2124e-05 - val_mean_absolute_error: 0.0056\n",
      "Epoch 83/100\n",
      "48/48 [==============================] - 0s 3ms/step - loss: 8.5486e-05 - mean_absolute_error: 0.0057 - val_loss: 9.3045e-05 - val_mean_absolute_error: 0.0062\n",
      "Epoch 84/100\n",
      "48/48 [==============================] - 0s 3ms/step - loss: 8.5278e-05 - mean_absolute_error: 0.0058 - val_loss: 8.0930e-05 - val_mean_absolute_error: 0.0055\n",
      "Epoch 85/100\n",
      "48/48 [==============================] - 0s 3ms/step - loss: 8.3350e-05 - mean_absolute_error: 0.0057 - val_loss: 8.0510e-05 - val_mean_absolute_error: 0.0055\n",
      "Epoch 86/100\n",
      "48/48 [==============================] - 0s 3ms/step - loss: 8.5427e-05 - mean_absolute_error: 0.0058 - val_loss: 8.4379e-05 - val_mean_absolute_error: 0.0056\n",
      "Epoch 87/100\n",
      "48/48 [==============================] - 0s 3ms/step - loss: 8.6839e-05 - mean_absolute_error: 0.0059 - val_loss: 9.0129e-05 - val_mean_absolute_error: 0.0063\n",
      "Epoch 88/100\n",
      "48/48 [==============================] - 0s 3ms/step - loss: 8.1834e-05 - mean_absolute_error: 0.0057 - val_loss: 7.9202e-05 - val_mean_absolute_error: 0.0055\n",
      "Epoch 89/100\n",
      "48/48 [==============================] - 0s 3ms/step - loss: 8.0936e-05 - mean_absolute_error: 0.0056 - val_loss: 7.7778e-05 - val_mean_absolute_error: 0.0054\n",
      "Epoch 90/100\n",
      "48/48 [==============================] - 0s 3ms/step - loss: 7.9701e-05 - mean_absolute_error: 0.0056 - val_loss: 7.7530e-05 - val_mean_absolute_error: 0.0054\n",
      "Epoch 91/100\n"
     ]
    },
    {
     "name": "stdout",
     "output_type": "stream",
     "text": [
      "48/48 [==============================] - 0s 3ms/step - loss: 8.5860e-05 - mean_absolute_error: 0.0059 - val_loss: 8.9878e-05 - val_mean_absolute_error: 0.0065\n",
      "Epoch 92/100\n",
      "48/48 [==============================] - 0s 3ms/step - loss: 8.0922e-05 - mean_absolute_error: 0.0056 - val_loss: 7.5949e-05 - val_mean_absolute_error: 0.0053\n",
      "Epoch 93/100\n",
      "48/48 [==============================] - 0s 3ms/step - loss: 7.8785e-05 - mean_absolute_error: 0.0056 - val_loss: 7.5362e-05 - val_mean_absolute_error: 0.0052\n",
      "Epoch 94/100\n",
      "48/48 [==============================] - 0s 3ms/step - loss: 8.0366e-05 - mean_absolute_error: 0.0056 - val_loss: 1.0735e-04 - val_mean_absolute_error: 0.0069\n",
      "Epoch 95/100\n",
      "48/48 [==============================] - 0s 3ms/step - loss: 1.0632e-04 - mean_absolute_error: 0.0069 - val_loss: 9.1050e-05 - val_mean_absolute_error: 0.0060\n",
      "Epoch 96/100\n",
      "48/48 [==============================] - 0s 3ms/step - loss: 8.2194e-05 - mean_absolute_error: 0.0057 - val_loss: 1.0380e-04 - val_mean_absolute_error: 0.0071\n",
      "Epoch 97/100\n",
      "48/48 [==============================] - 0s 3ms/step - loss: 8.4561e-05 - mean_absolute_error: 0.0058 - val_loss: 7.5087e-05 - val_mean_absolute_error: 0.0054\n",
      "Epoch 98/100\n",
      "48/48 [==============================] - 0s 3ms/step - loss: 8.4647e-05 - mean_absolute_error: 0.0059 - val_loss: 9.5172e-05 - val_mean_absolute_error: 0.0066\n",
      "Epoch 99/100\n",
      "48/48 [==============================] - 0s 3ms/step - loss: 7.9259e-05 - mean_absolute_error: 0.0055 - val_loss: 7.1406e-05 - val_mean_absolute_error: 0.0051\n",
      "Epoch 100/100\n",
      "48/48 [==============================] - 0s 3ms/step - loss: 8.1186e-05 - mean_absolute_error: 0.0058 - val_loss: 8.7248e-05 - val_mean_absolute_error: 0.0060\n"
     ]
    }
   ],
   "source": [
    "#instantiate and fit the model\n",
    "\n",
    "model.reset_states()\n",
    "model = Sequential()\n",
    "model.add(LSTM(15, input_shape=(3, 6), activation='relu', return_sequences=True)) # 3 is the timesteps, 1 is the one from the reshape \n",
    "#model.add(Dropout(0.2))\n",
    "model.add(Flatten()) #converting multi-dimensional array into one dimensional flatten array\n",
    "model.add(Dense(1))\n",
    "model.compile(optimizer = 'adam', loss = 'mean_squared_error', metrics = ['mean_absolute_error'])\n",
    "print(model.summary())\n",
    "\n",
    "# fit the model\n",
    "#del history\n",
    "#set verbose=False if you don't want to see the output\n",
    "history = model.fit(train_X, Ytrain, epochs = 100, batch_size = 32,validation_data = (val_X, Yval))"
   ]
  },
  {
   "cell_type": "code",
   "execution_count": 99,
   "metadata": {},
   "outputs": [
    {
     "data": {
      "image/png": "[encoded data removed]",
      "text/plain": [
       "<Figure size 432x288 with 1 Axes>"
      ]
     },
     "metadata": {
      "needs_background": "light"
     },
     "output_type": "display_data"
    }
   ],
   "source": [
    "#plot the training and validation accuracy and loss at each epoch\n",
    "loss = history.history['loss']\n",
    "val_loss = history.history['val_loss']\n",
    "epochs = range(1, len(loss) + 1)\n",
    "plt.plot(epochs, loss, 'y', label='Training loss')\n",
    "plt.plot(epochs, val_loss, 'r', label='Validation loss')\n",
    "plt.title('Loss Curve')\n",
    "plt.xlabel('Epochs')\n",
    "plt.ylabel('Loss')\n",
    "plt.legend()\n",
    "plt.show()"
   ]
  },
  {
   "cell_type": "markdown",
   "metadata": {},
   "source": [
    "    "
   ]
  },
  {
   "cell_type": "markdown",
   "metadata": {
    "colab_type": "text",
    "id": "H5aWIT43vX27"
   },
   "source": [
    "**MAE: This means that the average difference between input and ouput for all 1507 datapoints is 0.005. Which is good.\n",
    "The value is for the days here so 1507 length of train set will be denominator. Which means, the difference between actual and prediced values is small that such a large denominator dividing the difference puts MAE in rage of 10^-3 i.e. 0.00xxx**\n",
    "\n",
    "**Same for the validation set. We will now make predictions and check how the model performs on the test set**"
   ]
  },
  {
   "cell_type": "markdown",
   "metadata": {},
   "source": [
    "### Making Predictions on Test set"
   ]
  },
  {
   "cell_type": "code",
   "execution_count": 100,
   "metadata": {},
   "outputs": [],
   "source": [
    "# reshape from [samples, timesteps] into [samples, timesteps, features]\n",
    "test_X = np.reshape(Xtest, (Xtest.shape[0],Xtest.shape[1], 6)) #[samples, timesteps, features]"
   ]
  },
  {
   "cell_type": "code",
   "execution_count": 101,
   "metadata": {},
   "outputs": [
    {
     "name": "stdout",
     "output_type": "stream",
     "text": [
      "48/48 [==============================] - 0s 1ms/step\n"
     ]
    }
   ],
   "source": [
    "# make predictions\n",
    "testpredict = model.predict(test_X)"
   ]
  },
  {
   "cell_type": "code",
   "execution_count": 103,
   "metadata": {},
   "outputs": [
    {
     "data": {
      "text/plain": [
       "((1507, 3, 6), (1507, 1))"
      ]
     },
     "execution_count": 103,
     "metadata": {},
     "output_type": "execute_result"
    }
   ],
   "source": [
    "test_X.shape, testpredict.shape"
   ]
  },
  {
   "cell_type": "code",
   "execution_count": 105,
   "metadata": {},
   "outputs": [
    {
     "data": {
      "text/plain": [
       "array([[0.00476338],\n",
       "       [0.00617997],\n",
       "       [0.0068562 ],\n",
       "       ...,\n",
       "       [0.9686061 ],\n",
       "       [0.972387  ],\n",
       "       [0.9665477 ]], dtype=float32)"
      ]
     },
     "execution_count": 105,
     "metadata": {},
     "output_type": "execute_result"
    }
   ],
   "source": [
    "testpredict"
   ]
  },
  {
   "cell_type": "code",
   "execution_count": 109,
   "metadata": {},
   "outputs": [
    {
     "data": {
      "text/plain": [
       "array([ 82.57625,  82.72517,  82.79625, ..., 183.89973, 184.2972 ,\n",
       "       183.68335], dtype=float32)"
      ]
     },
     "execution_count": 109,
     "metadata": {},
     "output_type": "execute_result"
    }
   ],
   "source": [
    "# rescale all the observations\n",
    "test_prediction_copies = np.repeat(testpredict, 6, axis=-1)\n",
    "testpred = scaler.inverse_transform(test_prediction_copies)[:,0]\n",
    "testpred"
   ]
  },
  {
   "cell_type": "markdown",
   "metadata": {
    "colab_type": "text",
    "id": "PehVpGNAwc70"
   },
   "source": [
    "**Plot the prediction model for the number of test days and train days**"
   ]
  },
  {
   "cell_type": "code",
   "execution_count": 112,
   "metadata": {
    "colab": {
     "base_uri": "https://localhost:8080/",
     "height": 404
    },
    "colab_type": "code",
    "executionInfo": {
     "elapsed": 1034,
     "status": "ok",
     "timestamp": 1565977303541,
     "user": {
      "displayName": "Nupur Deshpande",
      "photoUrl": "",
      "userId": "13787757531456301957"
     },
     "user_tz": 240
    },
    "id": "cPa6q0vVKnX3",
    "outputId": "8d6e552a-fb37-411f-a417-998876057386"
   },
   "outputs": [
    {
     "data": {
      "image/png": "[encoded data removed]",
      "text/plain": [
       "<Figure size 720x432 with 1 Axes>"
      ]
     },
     "metadata": {
      "needs_background": "light"
     },
     "output_type": "display_data"
    }
   ],
   "source": [
    "plt.figure(figsize=(10,6))\n",
    "plt.plot(opentest, color='Cyan', label='Actual Test values')\n",
    "plt.plot(testpred , color='Orange', label='Predicted values')\n",
    "plt.title('Actual Value vs Predicted')\n",
    "plt.xlabel('Date')\n",
    "plt.ylabel('Predicted Price')\n",
    "plt.legend()\n",
    "plt.show()\n"
   ]
  },
  {
   "cell_type": "markdown",
   "metadata": {
    "colab_type": "text",
    "id": "jlnOEFRAjjPM"
   },
   "source": [
    "### **Using more than one feature**\n",
    "\n",
    "\n",
    "**We will try LSTM with the best 5 features from the result of the xgboost deature selection. We can than compare the MAE's to check whether more features improves the model.**"
   ]
  },
  {
   "cell_type": "code",
   "execution_count": 68,
   "metadata": {},
   "outputs": [
    {
     "data": {
      "text/html": [
       "<div>\n",
       "<style scoped>\n",
       "    .dataframe tbody tr th:only-of-type {\n",
       "        vertical-align: middle;\n",
       "    }\n",
       "\n",
       "    .dataframe tbody tr th {\n",
       "        vertical-align: top;\n",
       "    }\n",
       "\n",
       "    .dataframe thead th {\n",
       "        text-align: right;\n",
       "    }\n",
       "</style>\n",
       "<table border=\"1\" class=\"dataframe\">\n",
       "  <thead>\n",
       "    <tr style=\"text-align: right;\">\n",
       "      <th></th>\n",
       "      <th>Open</th>\n",
       "      <th>High</th>\n",
       "      <th>Low</th>\n",
       "      <th>Close</th>\n",
       "      <th>12EMA</th>\n",
       "      <th>26EMA</th>\n",
       "      <th>MACD</th>\n",
       "      <th>EMA</th>\n",
       "      <th>MOMENTUM</th>\n",
       "      <th>ARIMA</th>\n",
       "    </tr>\n",
       "  </thead>\n",
       "  <tbody>\n",
       "    <tr>\n",
       "      <th>0</th>\n",
       "      <td>8.7945</td>\n",
       "      <td>8.974</td>\n",
       "      <td>8.7775</td>\n",
       "      <td>8.9515</td>\n",
       "      <td>8.951500</td>\n",
       "      <td>8.951500</td>\n",
       "      <td>0.000000</td>\n",
       "      <td>8.9515</td>\n",
       "      <td>-0.910485</td>\n",
       "      <td>77.313624</td>\n",
       "    </tr>\n",
       "    <tr>\n",
       "      <th>1</th>\n",
       "      <td>8.9605</td>\n",
       "      <td>9.025</td>\n",
       "      <td>8.8035</td>\n",
       "      <td>8.8755</td>\n",
       "      <td>8.910333</td>\n",
       "      <td>8.912038</td>\n",
       "      <td>-0.001705</td>\n",
       "      <td>8.8945</td>\n",
       "      <td>-0.911245</td>\n",
       "      <td>74.981736</td>\n",
       "    </tr>\n",
       "  </tbody>\n",
       "</table>\n",
       "</div>"
      ],
      "text/plain": [
       "     Open   High     Low   Close     12EMA     26EMA      MACD     EMA  \\\n",
       "0  8.7945  8.974  8.7775  8.9515  8.951500  8.951500  0.000000  8.9515   \n",
       "1  8.9605  9.025  8.8035  8.8755  8.910333  8.912038 -0.001705  8.8945   \n",
       "\n",
       "   MOMENTUM      ARIMA  \n",
       "0 -0.910485  77.313624  \n",
       "1 -0.911245  74.981736  "
      ]
     },
     "execution_count": 68,
     "metadata": {},
     "output_type": "execute_result"
    }
   ],
   "source": [
    "lstm_df.head(2)"
   ]
  },
  {
   "cell_type": "code",
   "execution_count": 69,
   "metadata": {
    "colab": {},
    "colab_type": "code",
    "id": "4sxE7ubqKuI6"
   },
   "outputs": [],
   "source": [
    "data = lstm_df[['Open','Close','High','Low', 'EMA', 'MOMENTUM']]"
   ]
  },
  {
   "cell_type": "code",
   "execution_count": 66,
   "metadata": {
    "colab": {
     "base_uri": "https://localhost:8080/",
     "height": 195
    },
    "colab_type": "code",
    "executionInfo": {
     "elapsed": 296,
     "status": "ok",
     "timestamp": 1565977308091,
     "user": {
      "displayName": "Nupur Deshpande",
      "photoUrl": "",
      "userId": "13787757531456301957"
     },
     "user_tz": 240
    },
    "id": "CMVCWkeJjrb5",
    "outputId": "16d65690-6c7f-4264-e12b-c8d9cda9dbfb"
   },
   "outputs": [
    {
     "data": {
      "text/html": [
       "<div>\n",
       "<style scoped>\n",
       "    .dataframe tbody tr th:only-of-type {\n",
       "        vertical-align: middle;\n",
       "    }\n",
       "\n",
       "    .dataframe tbody tr th {\n",
       "        vertical-align: top;\n",
       "    }\n",
       "\n",
       "    .dataframe thead th {\n",
       "        text-align: right;\n",
       "    }\n",
       "</style>\n",
       "<table border=\"1\" class=\"dataframe\">\n",
       "  <thead>\n",
       "    <tr style=\"text-align: right;\">\n",
       "      <th></th>\n",
       "      <th>Open</th>\n",
       "      <th>Close</th>\n",
       "      <th>High</th>\n",
       "      <th>Low</th>\n",
       "      <th>EMA</th>\n",
       "      <th>MOMENTUM</th>\n",
       "    </tr>\n",
       "  </thead>\n",
       "  <tbody>\n",
       "    <tr>\n",
       "      <th>0</th>\n",
       "      <td>8.7945</td>\n",
       "      <td>8.9515</td>\n",
       "      <td>8.9740</td>\n",
       "      <td>8.7775</td>\n",
       "      <td>8.951500</td>\n",
       "      <td>-0.910485</td>\n",
       "    </tr>\n",
       "    <tr>\n",
       "      <th>1</th>\n",
       "      <td>8.9605</td>\n",
       "      <td>8.8755</td>\n",
       "      <td>9.0250</td>\n",
       "      <td>8.8035</td>\n",
       "      <td>8.894500</td>\n",
       "      <td>-0.911245</td>\n",
       "    </tr>\n",
       "    <tr>\n",
       "      <th>2</th>\n",
       "      <td>8.7970</td>\n",
       "      <td>8.8805</td>\n",
       "      <td>8.9125</td>\n",
       "      <td>8.7025</td>\n",
       "      <td>8.884808</td>\n",
       "      <td>-0.911195</td>\n",
       "    </tr>\n",
       "    <tr>\n",
       "      <th>3</th>\n",
       "      <td>8.9035</td>\n",
       "      <td>9.1305</td>\n",
       "      <td>9.2325</td>\n",
       "      <td>8.8750</td>\n",
       "      <td>9.050650</td>\n",
       "      <td>-0.908695</td>\n",
       "    </tr>\n",
       "    <tr>\n",
       "      <th>4</th>\n",
       "      <td>9.1380</td>\n",
       "      <td>8.9280</td>\n",
       "      <td>9.2185</td>\n",
       "      <td>8.8500</td>\n",
       "      <td>8.968546</td>\n",
       "      <td>-0.910720</td>\n",
       "    </tr>\n",
       "  </tbody>\n",
       "</table>\n",
       "</div>"
      ],
      "text/plain": [
       "     Open   Close    High     Low       EMA  MOMENTUM\n",
       "0  8.7945  8.9515  8.9740  8.7775  8.951500 -0.910485\n",
       "1  8.9605  8.8755  9.0250  8.8035  8.894500 -0.911245\n",
       "2  8.7970  8.8805  8.9125  8.7025  8.884808 -0.911195\n",
       "3  8.9035  9.1305  9.2325  8.8750  9.050650 -0.908695\n",
       "4  9.1380  8.9280  9.2185  8.8500  8.968546 -0.910720"
      ]
     },
     "execution_count": 66,
     "metadata": {},
     "output_type": "execute_result"
    }
   ],
   "source": [
    "data.head()"
   ]
  },
  {
   "cell_type": "markdown",
   "metadata": {},
   "source": [
    "    "
   ]
  },
  {
   "cell_type": "markdown",
   "metadata": {
    "colab_type": "text",
    "id": "9Xw3oUy5ghHW"
   },
   "source": [
    "### Split dataset into train, test and validate sets"
   ]
  },
  {
   "cell_type": "code",
   "execution_count": 75,
   "metadata": {
    "colab": {},
    "colab_type": "code",
    "id": "ZoEiTOswgpvE"
   },
   "outputs": [],
   "source": [
    "#creating test, train and validate trains\n",
    "train, val, test = np.split(data, [int(.6*len(lstm_df)), int(.8*len(lstm_df))])"
   ]
  },
  {
   "cell_type": "code",
   "execution_count": 76,
   "metadata": {},
   "outputs": [
    {
     "data": {
      "text/plain": [
       "((1510, 6), (503, 6), (504, 6))"
      ]
     },
     "execution_count": 76,
     "metadata": {},
     "output_type": "execute_result"
    }
   ],
   "source": [
    "train.shape, validate.shape, test.shape"
   ]
  },
  {
   "cell_type": "markdown",
   "metadata": {},
   "source": [
    "    "
   ]
  },
  {
   "cell_type": "markdown",
   "metadata": {},
   "source": [
    "### Normalize the data"
   ]
  },
  {
   "cell_type": "code",
   "execution_count": 77,
   "metadata": {},
   "outputs": [],
   "source": [
    "#normalise using min-max scalar\n",
    "scaler = MinMaxScaler(feature_range = (0, 1))\n",
    "strain = scaler.fit_transform(train)\n",
    "sval = scaler.fit_transform(val)\n",
    "stest = scaler.fit_transform(test)"
   ]
  },
  {
   "cell_type": "code",
   "execution_count": 87,
   "metadata": {},
   "outputs": [],
   "source": [
    "# For train\n",
    "Xtrain = []\n",
    "Ytrain = []\n",
    "\n",
    "n_future = 1   # Number of days we want to look into the future based on the past days.\n",
    "n_past = 3\n",
    "\n",
    "#Reformat input data into a shape: (n_samples x timesteps x n_features)\n",
    "for i in range(n_past, len(strain) - n_future +1):\n",
    "    Xtrain.append(strain[i - n_past:i, 0:df.shape[1]])\n",
    "    Ytrain.append(strain[i + n_future - 1:i + n_future, 0])\n"
   ]
  },
  {
   "cell_type": "code",
   "execution_count": 89,
   "metadata": {},
   "outputs": [],
   "source": [
    "# For val\n",
    "Xval = []\n",
    "Yval = []\n",
    "\n",
    "n_future = 1   # Number of days we want to look into the future based on the past days.\n",
    "n_past = 3\n",
    "\n",
    "#Reformat input data into a shape: (n_samples x timesteps x n_features)\n",
    "for i in range(n_past, len(strain) - n_future +1):\n",
    "    Xval.append(strain[i - n_past:i, 0:df.shape[1]])\n",
    "    Yval.append(strain[i + n_future - 1:i + n_future, 0])"
   ]
  },
  {
   "cell_type": "code",
   "execution_count": 90,
   "metadata": {},
   "outputs": [],
   "source": [
    "# For train\n",
    "Xtest = []\n",
    "Ytest = []\n",
    "\n",
    "n_future = 1   # Number of days we want to look into the future based on the past days.\n",
    "n_past = 3\n",
    "\n",
    "#Reformat input data into a shape: (n_samples x timesteps x n_features)\n",
    "for i in range(n_past, len(strain) - n_future +1):\n",
    "    Xtest.append(strain[i - n_past:i, 0:df.shape[1]])\n",
    "    Ytest.append(strain[i + n_future - 1:i + n_future, 0])"
   ]
  },
  {
   "cell_type": "code",
   "execution_count": 91,
   "metadata": {},
   "outputs": [
    {
     "data": {
      "text/plain": [
       "((1507, 3, 6), (1507, 1))"
      ]
     },
     "execution_count": 91,
     "metadata": {},
     "output_type": "execute_result"
    }
   ],
   "source": [
    "# change type to array\n",
    "Xtrain, Ytrain = np.array(Xtrain), np.array(Ytrain)\n",
    "Xval, Yval = np.array(Xval), np.array(Yval)\n",
    "Xtest, Ytest = np.array(Xtest), np.array(Ytest)\n",
    "\n",
    "Xtrain.shape,Ytrain.shape\n"
   ]
  },
  {
   "cell_type": "code",
   "execution_count": 95,
   "metadata": {},
   "outputs": [],
   "source": [
    "# reshape from [samples, timesteps] into [samples, timesteps, features]\n",
    "train_X = np.reshape(Xtrain, (Xtrain.shape[0],Xtrain.shape[1], 6)) #[samples, timesteps, features]\n",
    "val_X = np.reshape(Xval, (Xval.shape[0],Xval.shape[1], 6))"
   ]
  },
  {
   "cell_type": "markdown",
   "metadata": {},
   "source": [
    "    "
   ]
  },
  {
   "cell_type": "markdown",
   "metadata": {},
   "source": [
    "### LSTM Model"
   ]
  },
  {
   "cell_type": "raw",
   "metadata": {},
   "source": [
    "# We will fit an ensemble of models to get re-prodicible results\n",
    "# Takes a while to run\n",
    "\n",
    "ensemble = []\n",
    "\n",
    "# 35 models\n",
    "for i in range(35):\n",
    "    \n",
    "    # define and fit the model\n",
    "    model.reset_states()\n",
    "    model = Sequential()\n",
    "    model.add(LSTM(30, input_shape=(3, 2), activation='relu')) # 3 is the timesteps, 2 is the one from the reshape \n",
    "    #model.add(Dropout(0.2))\n",
    "    model.add(Dense(1))\n",
    "    model.compile(loss='mean_squared_error', optimizer='adam')\n",
    "\n",
    "    # early stopping\n",
    "    es = EarlyStopping(monitor='loss', mode='min', verbose=0, patience=5)\n",
    "\n",
    "    # fit the model\n",
    "    history = model.fit(train_x, y_train, epochs=150, verbose=0, callbacks=[es], shuffle=False, validation_split=0.1)\n",
    "        \n",
    "    # store the models\n",
    "    ensemble.append(model)"
   ]
  },
  {
   "cell_type": "code",
   "execution_count": 118,
   "metadata": {},
   "outputs": [
    {
     "name": "stdout",
     "output_type": "stream",
     "text": [
      "Model: \"sequential_7\"\n",
      "_________________________________________________________________\n",
      " Layer (type)                Output Shape              Param #   \n",
      "=================================================================\n",
      " lstm_7 (LSTM)               (None, 3, 15)             1320      \n",
      "                                                                 \n",
      " flatten_6 (Flatten)         (None, 45)                0         \n",
      "                                                                 \n",
      " dense_7 (Dense)             (None, 1)                 46        \n",
      "                                                                 \n",
      "=================================================================\n",
      "Total params: 1,366\n",
      "Trainable params: 1,366\n",
      "Non-trainable params: 0\n",
      "_________________________________________________________________\n",
      "None\n",
      "Epoch 1/100\n",
      "48/48 [==============================] - 1s 7ms/step - loss: 0.0440 - mean_absolute_error: 0.1390 - val_loss: 0.0027 - val_mean_absolute_error: 0.0442\n",
      "Epoch 2/100\n",
      "48/48 [==============================] - 0s 3ms/step - loss: 0.0017 - mean_absolute_error: 0.0341 - val_loss: 3.4538e-04 - val_mean_absolute_error: 0.0150\n",
      "Epoch 3/100\n",
      "48/48 [==============================] - 0s 3ms/step - loss: 2.0514e-04 - mean_absolute_error: 0.0103 - val_loss: 1.6244e-04 - val_mean_absolute_error: 0.0087\n",
      "Epoch 4/100\n",
      "48/48 [==============================] - 0s 3ms/step - loss: 1.5301e-04 - mean_absolute_error: 0.0082 - val_loss: 1.4500e-04 - val_mean_absolute_error: 0.0078\n",
      "Epoch 5/100\n",
      "48/48 [==============================] - 0s 4ms/step - loss: 1.4152e-04 - mean_absolute_error: 0.0078 - val_loss: 1.3736e-04 - val_mean_absolute_error: 0.0077\n",
      "Epoch 6/100\n",
      "48/48 [==============================] - 0s 3ms/step - loss: 1.4857e-04 - mean_absolute_error: 0.0080 - val_loss: 1.3218e-04 - val_mean_absolute_error: 0.0074\n",
      "Epoch 7/100\n",
      "48/48 [==============================] - 0s 3ms/step - loss: 1.3082e-04 - mean_absolute_error: 0.0073 - val_loss: 1.2808e-04 - val_mean_absolute_error: 0.0072\n",
      "Epoch 8/100\n",
      "48/48 [==============================] - 0s 3ms/step - loss: 1.2793e-04 - mean_absolute_error: 0.0073 - val_loss: 1.2812e-04 - val_mean_absolute_error: 0.0073\n",
      "Epoch 9/100\n",
      "48/48 [==============================] - 0s 3ms/step - loss: 1.2765e-04 - mean_absolute_error: 0.0073 - val_loss: 1.2636e-04 - val_mean_absolute_error: 0.0072\n",
      "Epoch 10/100\n",
      "48/48 [==============================] - 0s 3ms/step - loss: 1.2562e-04 - mean_absolute_error: 0.0071 - val_loss: 1.2867e-04 - val_mean_absolute_error: 0.0072\n",
      "Epoch 11/100\n",
      "48/48 [==============================] - 0s 3ms/step - loss: 1.2560e-04 - mean_absolute_error: 0.0071 - val_loss: 1.2701e-04 - val_mean_absolute_error: 0.0072\n",
      "Epoch 12/100\n",
      "48/48 [==============================] - 0s 3ms/step - loss: 1.2538e-04 - mean_absolute_error: 0.0071 - val_loss: 1.2491e-04 - val_mean_absolute_error: 0.0071\n",
      "Epoch 13/100\n",
      "48/48 [==============================] - 0s 3ms/step - loss: 1.2555e-04 - mean_absolute_error: 0.0071 - val_loss: 1.2767e-04 - val_mean_absolute_error: 0.0071\n",
      "Epoch 14/100\n",
      "48/48 [==============================] - 0s 4ms/step - loss: 1.2425e-04 - mean_absolute_error: 0.0070 - val_loss: 1.2687e-04 - val_mean_absolute_error: 0.0072\n",
      "Epoch 15/100\n",
      "48/48 [==============================] - 0s 4ms/step - loss: 1.2553e-04 - mean_absolute_error: 0.0071 - val_loss: 1.2334e-04 - val_mean_absolute_error: 0.0070\n",
      "Epoch 16/100\n",
      "48/48 [==============================] - 0s 3ms/step - loss: 1.2339e-04 - mean_absolute_error: 0.0070 - val_loss: 1.2135e-04 - val_mean_absolute_error: 0.0069\n",
      "Epoch 17/100\n",
      "48/48 [==============================] - 0s 3ms/step - loss: 1.2278e-04 - mean_absolute_error: 0.0069 - val_loss: 1.2101e-04 - val_mean_absolute_error: 0.0069\n",
      "Epoch 18/100\n",
      "48/48 [==============================] - 0s 3ms/step - loss: 1.2319e-04 - mean_absolute_error: 0.0070 - val_loss: 1.2015e-04 - val_mean_absolute_error: 0.0069\n",
      "Epoch 19/100\n",
      "48/48 [==============================] - 0s 3ms/step - loss: 1.2286e-04 - mean_absolute_error: 0.0069 - val_loss: 1.2190e-04 - val_mean_absolute_error: 0.0070\n",
      "Epoch 20/100\n",
      "48/48 [==============================] - 0s 3ms/step - loss: 1.2198e-04 - mean_absolute_error: 0.0069 - val_loss: 1.2187e-04 - val_mean_absolute_error: 0.0070\n",
      "Epoch 21/100\n",
      "48/48 [==============================] - 0s 3ms/step - loss: 1.2309e-04 - mean_absolute_error: 0.0070 - val_loss: 1.2100e-04 - val_mean_absolute_error: 0.0070\n",
      "Epoch 22/100\n",
      "48/48 [==============================] - 0s 3ms/step - loss: 1.2365e-04 - mean_absolute_error: 0.0069 - val_loss: 1.2735e-04 - val_mean_absolute_error: 0.0073\n",
      "Epoch 23/100\n",
      "48/48 [==============================] - 0s 3ms/step - loss: 1.2066e-04 - mean_absolute_error: 0.0069 - val_loss: 1.1848e-04 - val_mean_absolute_error: 0.0068\n",
      "Epoch 24/100\n",
      "48/48 [==============================] - 0s 3ms/step - loss: 1.1911e-04 - mean_absolute_error: 0.0068 - val_loss: 1.4635e-04 - val_mean_absolute_error: 0.0079\n",
      "Epoch 25/100\n",
      "48/48 [==============================] - 0s 4ms/step - loss: 1.3715e-04 - mean_absolute_error: 0.0076 - val_loss: 1.2800e-04 - val_mean_absolute_error: 0.0073\n",
      "Epoch 26/100\n",
      "48/48 [==============================] - 0s 3ms/step - loss: 1.2202e-04 - mean_absolute_error: 0.0069 - val_loss: 1.3065e-04 - val_mean_absolute_error: 0.0073\n",
      "Epoch 27/100\n",
      "48/48 [==============================] - 0s 3ms/step - loss: 1.2090e-04 - mean_absolute_error: 0.0069 - val_loss: 1.2199e-04 - val_mean_absolute_error: 0.0069\n",
      "Epoch 28/100\n",
      "48/48 [==============================] - 0s 3ms/step - loss: 1.2653e-04 - mean_absolute_error: 0.0071 - val_loss: 1.2419e-04 - val_mean_absolute_error: 0.0074\n",
      "Epoch 29/100\n",
      "48/48 [==============================] - 0s 3ms/step - loss: 1.2119e-04 - mean_absolute_error: 0.0070 - val_loss: 1.1730e-04 - val_mean_absolute_error: 0.0068\n",
      "Epoch 30/100\n",
      "48/48 [==============================] - 0s 3ms/step - loss: 1.1993e-04 - mean_absolute_error: 0.0069 - val_loss: 1.1751e-04 - val_mean_absolute_error: 0.0068\n",
      "Epoch 31/100\n",
      "48/48 [==============================] - 0s 3ms/step - loss: 1.1919e-04 - mean_absolute_error: 0.0068 - val_loss: 1.2661e-04 - val_mean_absolute_error: 0.0072\n",
      "Epoch 32/100\n",
      "48/48 [==============================] - 0s 3ms/step - loss: 1.1932e-04 - mean_absolute_error: 0.0069 - val_loss: 1.1600e-04 - val_mean_absolute_error: 0.0067\n",
      "Epoch 33/100\n",
      "48/48 [==============================] - 0s 3ms/step - loss: 1.1933e-04 - mean_absolute_error: 0.0070 - val_loss: 1.1770e-04 - val_mean_absolute_error: 0.0067\n",
      "Epoch 34/100\n",
      "48/48 [==============================] - 0s 3ms/step - loss: 1.1935e-04 - mean_absolute_error: 0.0068 - val_loss: 1.1505e-04 - val_mean_absolute_error: 0.0067\n",
      "Epoch 35/100\n",
      "48/48 [==============================] - 0s 3ms/step - loss: 1.2073e-04 - mean_absolute_error: 0.0069 - val_loss: 1.2032e-04 - val_mean_absolute_error: 0.0069\n",
      "Epoch 36/100\n",
      "48/48 [==============================] - 0s 3ms/step - loss: 1.2098e-04 - mean_absolute_error: 0.0070 - val_loss: 1.3206e-04 - val_mean_absolute_error: 0.0075\n",
      "Epoch 37/100\n",
      "48/48 [==============================] - 0s 3ms/step - loss: 1.1690e-04 - mean_absolute_error: 0.0068 - val_loss: 1.1418e-04 - val_mean_absolute_error: 0.0067\n",
      "Epoch 38/100\n",
      "48/48 [==============================] - 0s 3ms/step - loss: 1.1695e-04 - mean_absolute_error: 0.0067 - val_loss: 1.3208e-04 - val_mean_absolute_error: 0.0077\n",
      "Epoch 39/100\n",
      "48/48 [==============================] - 0s 3ms/step - loss: 1.2136e-04 - mean_absolute_error: 0.0070 - val_loss: 1.1370e-04 - val_mean_absolute_error: 0.0066\n",
      "Epoch 40/100\n",
      "48/48 [==============================] - 0s 3ms/step - loss: 1.1519e-04 - mean_absolute_error: 0.0066 - val_loss: 1.2334e-04 - val_mean_absolute_error: 0.0073\n",
      "Epoch 41/100\n",
      "48/48 [==============================] - 0s 3ms/step - loss: 1.1873e-04 - mean_absolute_error: 0.0068 - val_loss: 1.1618e-04 - val_mean_absolute_error: 0.0068\n",
      "Epoch 42/100\n",
      "48/48 [==============================] - 0s 3ms/step - loss: 1.1516e-04 - mean_absolute_error: 0.0067 - val_loss: 1.1723e-04 - val_mean_absolute_error: 0.0068\n",
      "Epoch 43/100\n",
      "48/48 [==============================] - 0s 3ms/step - loss: 1.1662e-04 - mean_absolute_error: 0.0068 - val_loss: 1.2819e-04 - val_mean_absolute_error: 0.0075\n"
     ]
    },
    {
     "name": "stdout",
     "output_type": "stream",
     "text": [
      "Epoch 44/100\n",
      "48/48 [==============================] - 0s 3ms/step - loss: 1.1685e-04 - mean_absolute_error: 0.0068 - val_loss: 1.1375e-04 - val_mean_absolute_error: 0.0066\n",
      "Epoch 45/100\n",
      "48/48 [==============================] - 0s 3ms/step - loss: 1.1565e-04 - mean_absolute_error: 0.0067 - val_loss: 1.1781e-04 - val_mean_absolute_error: 0.0068\n",
      "Epoch 46/100\n",
      "48/48 [==============================] - 0s 3ms/step - loss: 1.1420e-04 - mean_absolute_error: 0.0067 - val_loss: 1.1228e-04 - val_mean_absolute_error: 0.0065\n",
      "Epoch 47/100\n",
      "48/48 [==============================] - 0s 3ms/step - loss: 1.1690e-04 - mean_absolute_error: 0.0068 - val_loss: 1.2962e-04 - val_mean_absolute_error: 0.0074\n",
      "Epoch 48/100\n",
      "48/48 [==============================] - 0s 3ms/step - loss: 1.1780e-04 - mean_absolute_error: 0.0069 - val_loss: 1.1033e-04 - val_mean_absolute_error: 0.0065\n",
      "Epoch 49/100\n",
      "48/48 [==============================] - 0s 3ms/step - loss: 1.1490e-04 - mean_absolute_error: 0.0067 - val_loss: 1.1700e-04 - val_mean_absolute_error: 0.0068\n",
      "Epoch 50/100\n",
      "48/48 [==============================] - 0s 3ms/step - loss: 1.1243e-04 - mean_absolute_error: 0.0066 - val_loss: 1.0933e-04 - val_mean_absolute_error: 0.0064\n",
      "Epoch 51/100\n",
      "48/48 [==============================] - 0s 3ms/step - loss: 1.1188e-04 - mean_absolute_error: 0.0065 - val_loss: 1.0882e-04 - val_mean_absolute_error: 0.0064\n",
      "Epoch 52/100\n",
      "48/48 [==============================] - 0s 3ms/step - loss: 1.1495e-04 - mean_absolute_error: 0.0067 - val_loss: 1.0905e-04 - val_mean_absolute_error: 0.0064\n",
      "Epoch 53/100\n",
      "48/48 [==============================] - 0s 3ms/step - loss: 1.1700e-04 - mean_absolute_error: 0.0068 - val_loss: 1.1626e-04 - val_mean_absolute_error: 0.0067\n",
      "Epoch 54/100\n",
      "48/48 [==============================] - 0s 3ms/step - loss: 1.1768e-04 - mean_absolute_error: 0.0067 - val_loss: 1.2875e-04 - val_mean_absolute_error: 0.0074\n",
      "Epoch 55/100\n",
      "48/48 [==============================] - 0s 4ms/step - loss: 1.1553e-04 - mean_absolute_error: 0.0068 - val_loss: 1.1194e-04 - val_mean_absolute_error: 0.0065\n",
      "Epoch 56/100\n",
      "48/48 [==============================] - 0s 3ms/step - loss: 1.1923e-04 - mean_absolute_error: 0.0070 - val_loss: 1.2912e-04 - val_mean_absolute_error: 0.0074\n",
      "Epoch 57/100\n",
      "48/48 [==============================] - 0s 3ms/step - loss: 1.2080e-04 - mean_absolute_error: 0.0071 - val_loss: 1.0696e-04 - val_mean_absolute_error: 0.0064\n",
      "Epoch 58/100\n",
      "48/48 [==============================] - 0s 3ms/step - loss: 1.1188e-04 - mean_absolute_error: 0.0067 - val_loss: 1.0738e-04 - val_mean_absolute_error: 0.0064\n",
      "Epoch 59/100\n",
      "48/48 [==============================] - 0s 3ms/step - loss: 1.1405e-04 - mean_absolute_error: 0.0066 - val_loss: 1.0834e-04 - val_mean_absolute_error: 0.0066\n",
      "Epoch 60/100\n",
      "48/48 [==============================] - 0s 4ms/step - loss: 1.0751e-04 - mean_absolute_error: 0.0064 - val_loss: 1.0851e-04 - val_mean_absolute_error: 0.0064\n",
      "Epoch 61/100\n",
      "48/48 [==============================] - 0s 4ms/step - loss: 1.0866e-04 - mean_absolute_error: 0.0064 - val_loss: 1.0942e-04 - val_mean_absolute_error: 0.0065\n",
      "Epoch 62/100\n",
      "48/48 [==============================] - 0s 4ms/step - loss: 1.1088e-04 - mean_absolute_error: 0.0066 - val_loss: 1.0692e-04 - val_mean_absolute_error: 0.0064\n",
      "Epoch 63/100\n",
      "48/48 [==============================] - 0s 4ms/step - loss: 1.0791e-04 - mean_absolute_error: 0.0065 - val_loss: 1.0688e-04 - val_mean_absolute_error: 0.0064\n",
      "Epoch 64/100\n",
      "48/48 [==============================] - 0s 4ms/step - loss: 1.0919e-04 - mean_absolute_error: 0.0065 - val_loss: 1.0424e-04 - val_mean_absolute_error: 0.0063\n",
      "Epoch 65/100\n",
      "48/48 [==============================] - 0s 4ms/step - loss: 1.0790e-04 - mean_absolute_error: 0.0065 - val_loss: 1.0473e-04 - val_mean_absolute_error: 0.0064\n",
      "Epoch 66/100\n",
      "48/48 [==============================] - 0s 5ms/step - loss: 1.0676e-04 - mean_absolute_error: 0.0064 - val_loss: 1.3185e-04 - val_mean_absolute_error: 0.0075\n",
      "Epoch 67/100\n",
      "48/48 [==============================] - 0s 5ms/step - loss: 1.1634e-04 - mean_absolute_error: 0.0069 - val_loss: 1.1015e-04 - val_mean_absolute_error: 0.0065\n",
      "Epoch 68/100\n",
      "48/48 [==============================] - 0s 3ms/step - loss: 1.0899e-04 - mean_absolute_error: 0.0065 - val_loss: 1.2007e-04 - val_mean_absolute_error: 0.0074\n",
      "Epoch 69/100\n",
      "48/48 [==============================] - 0s 4ms/step - loss: 1.1253e-04 - mean_absolute_error: 0.0068 - val_loss: 1.1699e-04 - val_mean_absolute_error: 0.0069\n",
      "Epoch 70/100\n",
      "48/48 [==============================] - 0s 4ms/step - loss: 1.0130e-04 - mean_absolute_error: 0.0062 - val_loss: 1.0141e-04 - val_mean_absolute_error: 0.0062\n",
      "Epoch 71/100\n",
      "48/48 [==============================] - 0s 4ms/step - loss: 1.1035e-04 - mean_absolute_error: 0.0066 - val_loss: 1.0066e-04 - val_mean_absolute_error: 0.0062\n",
      "Epoch 72/100\n",
      "48/48 [==============================] - 0s 4ms/step - loss: 1.0475e-04 - mean_absolute_error: 0.0064 - val_loss: 1.0574e-04 - val_mean_absolute_error: 0.0064\n",
      "Epoch 73/100\n",
      "48/48 [==============================] - 0s 3ms/step - loss: 1.0899e-04 - mean_absolute_error: 0.0066 - val_loss: 1.5275e-04 - val_mean_absolute_error: 0.0085\n",
      "Epoch 74/100\n",
      "48/48 [==============================] - 0s 3ms/step - loss: 1.2071e-04 - mean_absolute_error: 0.0072 - val_loss: 9.9321e-05 - val_mean_absolute_error: 0.0061\n",
      "Epoch 75/100\n",
      "48/48 [==============================] - 0s 3ms/step - loss: 1.0781e-04 - mean_absolute_error: 0.0066 - val_loss: 1.0444e-04 - val_mean_absolute_error: 0.0064\n",
      "Epoch 76/100\n",
      "48/48 [==============================] - 0s 3ms/step - loss: 1.0122e-04 - mean_absolute_error: 0.0062 - val_loss: 1.0024e-04 - val_mean_absolute_error: 0.0063\n",
      "Epoch 77/100\n",
      "48/48 [==============================] - 0s 3ms/step - loss: 1.0887e-04 - mean_absolute_error: 0.0067 - val_loss: 1.0520e-04 - val_mean_absolute_error: 0.0064\n",
      "Epoch 78/100\n",
      "48/48 [==============================] - 0s 3ms/step - loss: 1.0453e-04 - mean_absolute_error: 0.0065 - val_loss: 9.9973e-05 - val_mean_absolute_error: 0.0063\n",
      "Epoch 79/100\n",
      "48/48 [==============================] - 0s 3ms/step - loss: 1.0276e-04 - mean_absolute_error: 0.0063 - val_loss: 9.9021e-05 - val_mean_absolute_error: 0.0062\n",
      "Epoch 80/100\n",
      "48/48 [==============================] - 0s 3ms/step - loss: 1.0119e-04 - mean_absolute_error: 0.0063 - val_loss: 9.5880e-05 - val_mean_absolute_error: 0.0060\n",
      "Epoch 81/100\n",
      "48/48 [==============================] - 0s 4ms/step - loss: 1.0865e-04 - mean_absolute_error: 0.0067 - val_loss: 1.3652e-04 - val_mean_absolute_error: 0.0077\n",
      "Epoch 82/100\n",
      "48/48 [==============================] - 0s 3ms/step - loss: 1.0509e-04 - mean_absolute_error: 0.0066 - val_loss: 1.1741e-04 - val_mean_absolute_error: 0.0073\n",
      "Epoch 83/100\n",
      "48/48 [==============================] - 0s 3ms/step - loss: 1.0737e-04 - mean_absolute_error: 0.0066 - val_loss: 9.4545e-05 - val_mean_absolute_error: 0.0060\n",
      "Epoch 84/100\n",
      "48/48 [==============================] - 0s 3ms/step - loss: 1.0144e-04 - mean_absolute_error: 0.0064 - val_loss: 1.1157e-04 - val_mean_absolute_error: 0.0069\n",
      "Epoch 85/100\n",
      "48/48 [==============================] - 0s 3ms/step - loss: 1.0346e-04 - mean_absolute_error: 0.0064 - val_loss: 1.1920e-04 - val_mean_absolute_error: 0.0072\n",
      "Epoch 86/100\n",
      "48/48 [==============================] - 0s 3ms/step - loss: 1.0139e-04 - mean_absolute_error: 0.0065 - val_loss: 1.0234e-04 - val_mean_absolute_error: 0.0065\n",
      "Epoch 87/100\n",
      "48/48 [==============================] - 0s 3ms/step - loss: 9.8168e-05 - mean_absolute_error: 0.0062 - val_loss: 9.5273e-05 - val_mean_absolute_error: 0.0060\n",
      "Epoch 88/100\n",
      "48/48 [==============================] - 0s 3ms/step - loss: 1.0051e-04 - mean_absolute_error: 0.0062 - val_loss: 1.1177e-04 - val_mean_absolute_error: 0.0069\n",
      "Epoch 89/100\n",
      "48/48 [==============================] - 0s 3ms/step - loss: 1.0001e-04 - mean_absolute_error: 0.0062 - val_loss: 1.0007e-04 - val_mean_absolute_error: 0.0063\n",
      "Epoch 90/100\n",
      "48/48 [==============================] - 0s 3ms/step - loss: 9.7345e-05 - mean_absolute_error: 0.0061 - val_loss: 9.8469e-05 - val_mean_absolute_error: 0.0063\n",
      "Epoch 91/100\n"
     ]
    },
    {
     "name": "stdout",
     "output_type": "stream",
     "text": [
      "48/48 [==============================] - 0s 3ms/step - loss: 9.4490e-05 - mean_absolute_error: 0.0061 - val_loss: 9.1701e-05 - val_mean_absolute_error: 0.0059\n",
      "Epoch 92/100\n",
      "48/48 [==============================] - 0s 3ms/step - loss: 9.4265e-05 - mean_absolute_error: 0.0060 - val_loss: 9.0153e-05 - val_mean_absolute_error: 0.0058\n",
      "Epoch 93/100\n",
      "48/48 [==============================] - 0s 3ms/step - loss: 1.1327e-04 - mean_absolute_error: 0.0070 - val_loss: 9.1453e-05 - val_mean_absolute_error: 0.0059\n",
      "Epoch 94/100\n",
      "48/48 [==============================] - 0s 3ms/step - loss: 9.6882e-05 - mean_absolute_error: 0.0061 - val_loss: 1.0883e-04 - val_mean_absolute_error: 0.0071\n",
      "Epoch 95/100\n",
      "48/48 [==============================] - 0s 3ms/step - loss: 9.2911e-05 - mean_absolute_error: 0.0059 - val_loss: 8.8647e-05 - val_mean_absolute_error: 0.0057\n",
      "Epoch 96/100\n",
      "48/48 [==============================] - 0s 3ms/step - loss: 9.2721e-05 - mean_absolute_error: 0.0060 - val_loss: 8.8853e-05 - val_mean_absolute_error: 0.0058\n",
      "Epoch 97/100\n",
      "48/48 [==============================] - 0s 3ms/step - loss: 1.0036e-04 - mean_absolute_error: 0.0065 - val_loss: 8.8124e-05 - val_mean_absolute_error: 0.0058\n",
      "Epoch 98/100\n",
      "48/48 [==============================] - 0s 3ms/step - loss: 9.3507e-05 - mean_absolute_error: 0.0060 - val_loss: 8.7269e-05 - val_mean_absolute_error: 0.0057\n",
      "Epoch 99/100\n",
      "48/48 [==============================] - 0s 3ms/step - loss: 9.0136e-05 - mean_absolute_error: 0.0058 - val_loss: 8.7068e-05 - val_mean_absolute_error: 0.0057\n",
      "Epoch 100/100\n",
      "48/48 [==============================] - 0s 3ms/step - loss: 9.3784e-05 - mean_absolute_error: 0.0061 - val_loss: 9.7135e-05 - val_mean_absolute_error: 0.0064\n"
     ]
    }
   ],
   "source": [
    "#instantiate and fit the model\n",
    "\n",
    "model.reset_states()\n",
    "model = Sequential()\n",
    "model.add(LSTM(15, input_shape=(3, 6), activation='relu', return_sequences=True)) # 3 is the timesteps, 1 is the one from the reshape \n",
    "#model.add(Dropout(0.2))\n",
    "model.add(Flatten()) #converting multi-dimensional array into one dimensional flatten array\n",
    "model.add(Dense(1))\n",
    "model.compile(optimizer = 'adam', loss = 'mean_squared_error', metrics = ['mean_absolute_error'])\n",
    "print(model.summary())\n",
    "\n",
    "# fit the model\n",
    "#del history\n",
    "#set verbose=False if you don't want to see the output\n",
    "history = model.fit(train_X, Ytrain, epochs = 100, batch_size = 32,validation_data = (val_X, Yval))"
   ]
  },
  {
   "cell_type": "code",
   "execution_count": 99,
   "metadata": {},
   "outputs": [
    {
     "data": {
      "image/png": "[encoded data removed]",
      "text/plain": [
       "<Figure size 432x288 with 1 Axes>"
      ]
     },
     "metadata": {
      "needs_background": "light"
     },
     "output_type": "display_data"
    }
   ],
   "source": [
    "#plot the training and validation accuracy and loss at each epoch\n",
    "loss = history.history['loss']\n",
    "val_loss = history.history['val_loss']\n",
    "epochs = range(1, len(loss) + 1)\n",
    "plt.plot(epochs, loss, 'y', label='Training loss')\n",
    "plt.plot(epochs, val_loss, 'r', label='Validation loss')\n",
    "plt.title('Loss Curve')\n",
    "plt.xlabel('Epochs')\n",
    "plt.ylabel('Loss')\n",
    "plt.legend()\n",
    "plt.show()"
   ]
  },
  {
   "cell_type": "markdown",
   "metadata": {},
   "source": [
    "    "
   ]
  },
  {
   "cell_type": "markdown",
   "metadata": {
    "colab_type": "text",
    "id": "H5aWIT43vX27"
   },
   "source": [
    "**MAE: This means that the average difference between input and ouput for all 1507 datapoints is 0.005. Which is good.\n",
    "The value is for the days here so 1507 length of train set will be denominator. Which means, the difference between actual and prediced values is small that such a large denominator dividing the difference puts MAE in rage of 10^-3 i.e. 0.00xxx**\n",
    "\n",
    "**Same for the validation set. We will now make predictions and check how the model performs on the test set**"
   ]
  },
  {
   "cell_type": "markdown",
   "metadata": {},
   "source": [
    "### Making Predictions on Test set"
   ]
  },
  {
   "cell_type": "code",
   "execution_count": 100,
   "metadata": {},
   "outputs": [],
   "source": [
    "# reshape from [samples, timesteps] into [samples, timesteps, features]\n",
    "test_X = np.reshape(Xtest, (Xtest.shape[0],Xtest.shape[1], 6)) #[samples, timesteps, features]"
   ]
  },
  {
   "cell_type": "code",
   "execution_count": 101,
   "metadata": {},
   "outputs": [
    {
     "name": "stdout",
     "output_type": "stream",
     "text": [
      "48/48 [==============================] - 0s 1ms/step\n"
     ]
    }
   ],
   "source": [
    "# make predictions\n",
    "testpredict = model.predict(test_X)"
   ]
  },
  {
   "cell_type": "code",
   "execution_count": 103,
   "metadata": {},
   "outputs": [
    {
     "data": {
      "text/plain": [
       "((1507, 3, 6), (1507, 1))"
      ]
     },
     "execution_count": 103,
     "metadata": {},
     "output_type": "execute_result"
    }
   ],
   "source": [
    "test_X.shape, testpredict.shape"
   ]
  },
  {
   "cell_type": "code",
   "execution_count": 105,
   "metadata": {},
   "outputs": [
    {
     "data": {
      "text/plain": [
       "array([[0.00476338],\n",
       "       [0.00617997],\n",
       "       [0.0068562 ],\n",
       "       ...,\n",
       "       [0.9686061 ],\n",
       "       [0.972387  ],\n",
       "       [0.9665477 ]], dtype=float32)"
      ]
     },
     "execution_count": 105,
     "metadata": {},
     "output_type": "execute_result"
    }
   ],
   "source": [
    "testpredict"
   ]
  },
  {
   "cell_type": "code",
   "execution_count": 109,
   "metadata": {},
   "outputs": [
    {
     "data": {
      "text/plain": [
       "array([ 82.57625,  82.72517,  82.79625, ..., 183.89973, 184.2972 ,\n",
       "       183.68335], dtype=float32)"
      ]
     },
     "execution_count": 109,
     "metadata": {},
     "output_type": "execute_result"
    }
   ],
   "source": [
    "# rescale all the observations\n",
    "test_prediction_copies = np.repeat(testpredict, 6, axis=-1)\n",
    "testpred = scaler.inverse_transform(test_prediction_copies)[:,0]\n",
    "testpred"
   ]
  },
  {
   "cell_type": "code",
   "execution_count": 114,
   "metadata": {},
   "outputs": [
    {
     "name": "stdout",
     "output_type": "stream",
     "text": [
      "Multi variable LSTM MAE =  114.75333023597811\n"
     ]
    }
   ],
   "source": [
    "# Evaluate the model\n",
    "print('Multi variable LSTM MAE = ', mean_absolute_error(Ytest, testpred))"
   ]
  },
  {
   "cell_type": "markdown",
   "metadata": {
    "colab_type": "text",
    "id": "PehVpGNAwc70"
   },
   "source": [
    "**Plot the prediction model for the number of test days and train days**"
   ]
  },
  {
   "cell_type": "code",
   "execution_count": 116,
   "metadata": {},
   "outputs": [
    {
     "data": {
      "text/plain": [
       "(1507,)"
      ]
     },
     "execution_count": 116,
     "metadata": {},
     "output_type": "execute_result"
    }
   ],
   "source": [
    "testpred.shape"
   ]
  },
  {
   "cell_type": "code",
   "execution_count": 113,
   "metadata": {
    "colab": {
     "base_uri": "https://localhost:8080/",
     "height": 404
    },
    "colab_type": "code",
    "executionInfo": {
     "elapsed": 1034,
     "status": "ok",
     "timestamp": 1565977303541,
     "user": {
      "displayName": "Nupur Deshpande",
      "photoUrl": "",
      "userId": "13787757531456301957"
     },
     "user_tz": 240
    },
    "id": "cPa6q0vVKnX3",
    "outputId": "8d6e552a-fb37-411f-a417-998876057386"
   },
   "outputs": [
    {
     "data": {
      "image/png": "[encoded data removed]",
      "text/plain": [
       "<Figure size 720x432 with 1 Axes>"
      ]
     },
     "metadata": {
      "needs_background": "light"
     },
     "output_type": "display_data"
    }
   ],
   "source": [
    "plt.figure(figsize=(10,6))\n",
    "plt.plot(Ytest, color='Cyan', label='Actual Test values')\n",
    "plt.plot(testpredict , color='Orange', label='Predicted values')\n",
    "plt.title('Actual Value vs Predicted')\n",
    "plt.xlabel('Date')\n",
    "plt.ylabel('Predicted Price')\n",
    "plt.legend()\n",
    "plt.show()\n"
   ]
  },
  {
   "cell_type": "markdown",
   "metadata": {
    "colab_type": "text",
    "id": "jlnOEFRAjjPM"
   },
   "source": [
    "### **Using more than one feature**\n",
    "\n",
    "\n",
    "**We will try LSTM with the best 5 features from the result of the xgboost deature selection. We can than compare the MAE's to check whether more features improves the model.**"
   ]
  },
  {
   "cell_type": "code",
   "execution_count": 68,
   "metadata": {},
   "outputs": [
    {
     "data": {
      "text/html": [
       "<div>\n",
       "<style scoped>\n",
       "    .dataframe tbody tr th:only-of-type {\n",
       "        vertical-align: middle;\n",
       "    }\n",
       "\n",
       "    .dataframe tbody tr th {\n",
       "        vertical-align: top;\n",
       "    }\n",
       "\n",
       "    .dataframe thead th {\n",
       "        text-align: right;\n",
       "    }\n",
       "</style>\n",
       "<table border=\"1\" class=\"dataframe\">\n",
       "  <thead>\n",
       "    <tr style=\"text-align: right;\">\n",
       "      <th></th>\n",
       "      <th>Open</th>\n",
       "      <th>High</th>\n",
       "      <th>Low</th>\n",
       "      <th>Close</th>\n",
       "      <th>12EMA</th>\n",
       "      <th>26EMA</th>\n",
       "      <th>MACD</th>\n",
       "      <th>EMA</th>\n",
       "      <th>MOMENTUM</th>\n",
       "      <th>ARIMA</th>\n",
       "    </tr>\n",
       "  </thead>\n",
       "  <tbody>\n",
       "    <tr>\n",
       "      <th>0</th>\n",
       "      <td>8.7945</td>\n",
       "      <td>8.974</td>\n",
       "      <td>8.7775</td>\n",
       "      <td>8.9515</td>\n",
       "      <td>8.951500</td>\n",
       "      <td>8.951500</td>\n",
       "      <td>0.000000</td>\n",
       "      <td>8.9515</td>\n",
       "      <td>-0.910485</td>\n",
       "      <td>77.313624</td>\n",
       "    </tr>\n",
       "    <tr>\n",
       "      <th>1</th>\n",
       "      <td>8.9605</td>\n",
       "      <td>9.025</td>\n",
       "      <td>8.8035</td>\n",
       "      <td>8.8755</td>\n",
       "      <td>8.910333</td>\n",
       "      <td>8.912038</td>\n",
       "      <td>-0.001705</td>\n",
       "      <td>8.8945</td>\n",
       "      <td>-0.911245</td>\n",
       "      <td>74.981736</td>\n",
       "    </tr>\n",
       "  </tbody>\n",
       "</table>\n",
       "</div>"
      ],
      "text/plain": [
       "     Open   High     Low   Close     12EMA     26EMA      MACD     EMA  \\\n",
       "0  8.7945  8.974  8.7775  8.9515  8.951500  8.951500  0.000000  8.9515   \n",
       "1  8.9605  9.025  8.8035  8.8755  8.910333  8.912038 -0.001705  8.8945   \n",
       "\n",
       "   MOMENTUM      ARIMA  \n",
       "0 -0.910485  77.313624  \n",
       "1 -0.911245  74.981736  "
      ]
     },
     "execution_count": 68,
     "metadata": {},
     "output_type": "execute_result"
    }
   ],
   "source": [
    "lstm_df.head(2)"
   ]
  },
  {
   "cell_type": "code",
   "execution_count": 69,
   "metadata": {
    "colab": {},
    "colab_type": "code",
    "id": "4sxE7ubqKuI6"
   },
   "outputs": [],
   "source": [
    "data = lstm_df[['Open','Close','High','Low', 'EMA', 'MOMENTUM']]"
   ]
  },
  {
   "cell_type": "code",
   "execution_count": 66,
   "metadata": {
    "colab": {
     "base_uri": "https://localhost:8080/",
     "height": 195
    },
    "colab_type": "code",
    "executionInfo": {
     "elapsed": 296,
     "status": "ok",
     "timestamp": 1565977308091,
     "user": {
      "displayName": "Nupur Deshpande",
      "photoUrl": "",
      "userId": "13787757531456301957"
     },
     "user_tz": 240
    },
    "id": "CMVCWkeJjrb5",
    "outputId": "16d65690-6c7f-4264-e12b-c8d9cda9dbfb"
   },
   "outputs": [
    {
     "data": {
      "text/html": [
       "<div>\n",
       "<style scoped>\n",
       "    .dataframe tbody tr th:only-of-type {\n",
       "        vertical-align: middle;\n",
       "    }\n",
       "\n",
       "    .dataframe tbody tr th {\n",
       "        vertical-align: top;\n",
       "    }\n",
       "\n",
       "    .dataframe thead th {\n",
       "        text-align: right;\n",
       "    }\n",
       "</style>\n",
       "<table border=\"1\" class=\"dataframe\">\n",
       "  <thead>\n",
       "    <tr style=\"text-align: right;\">\n",
       "      <th></th>\n",
       "      <th>Open</th>\n",
       "      <th>Close</th>\n",
       "      <th>High</th>\n",
       "      <th>Low</th>\n",
       "      <th>EMA</th>\n",
       "      <th>MOMENTUM</th>\n",
       "    </tr>\n",
       "  </thead>\n",
       "  <tbody>\n",
       "    <tr>\n",
       "      <th>0</th>\n",
       "      <td>8.7945</td>\n",
       "      <td>8.9515</td>\n",
       "      <td>8.9740</td>\n",
       "      <td>8.7775</td>\n",
       "      <td>8.951500</td>\n",
       "      <td>-0.910485</td>\n",
       "    </tr>\n",
       "    <tr>\n",
       "      <th>1</th>\n",
       "      <td>8.9605</td>\n",
       "      <td>8.8755</td>\n",
       "      <td>9.0250</td>\n",
       "      <td>8.8035</td>\n",
       "      <td>8.894500</td>\n",
       "      <td>-0.911245</td>\n",
       "    </tr>\n",
       "    <tr>\n",
       "      <th>2</th>\n",
       "      <td>8.7970</td>\n",
       "      <td>8.8805</td>\n",
       "      <td>8.9125</td>\n",
       "      <td>8.7025</td>\n",
       "      <td>8.884808</td>\n",
       "      <td>-0.911195</td>\n",
       "    </tr>\n",
       "    <tr>\n",
       "      <th>3</th>\n",
       "      <td>8.9035</td>\n",
       "      <td>9.1305</td>\n",
       "      <td>9.2325</td>\n",
       "      <td>8.8750</td>\n",
       "      <td>9.050650</td>\n",
       "      <td>-0.908695</td>\n",
       "    </tr>\n",
       "    <tr>\n",
       "      <th>4</th>\n",
       "      <td>9.1380</td>\n",
       "      <td>8.9280</td>\n",
       "      <td>9.2185</td>\n",
       "      <td>8.8500</td>\n",
       "      <td>8.968546</td>\n",
       "      <td>-0.910720</td>\n",
       "    </tr>\n",
       "  </tbody>\n",
       "</table>\n",
       "</div>"
      ],
      "text/plain": [
       "     Open   Close    High     Low       EMA  MOMENTUM\n",
       "0  8.7945  8.9515  8.9740  8.7775  8.951500 -0.910485\n",
       "1  8.9605  8.8755  9.0250  8.8035  8.894500 -0.911245\n",
       "2  8.7970  8.8805  8.9125  8.7025  8.884808 -0.911195\n",
       "3  8.9035  9.1305  9.2325  8.8750  9.050650 -0.908695\n",
       "4  9.1380  8.9280  9.2185  8.8500  8.968546 -0.910720"
      ]
     },
     "execution_count": 66,
     "metadata": {},
     "output_type": "execute_result"
    }
   ],
   "source": [
    "data.head()"
   ]
  },
  {
   "cell_type": "markdown",
   "metadata": {},
   "source": [
    "    "
   ]
  },
  {
   "cell_type": "markdown",
   "metadata": {
    "colab_type": "text",
    "id": "9Xw3oUy5ghHW"
   },
   "source": [
    "### Split dataset into train, test and validate sets"
   ]
  },
  {
   "cell_type": "code",
   "execution_count": 75,
   "metadata": {
    "colab": {},
    "colab_type": "code",
    "id": "ZoEiTOswgpvE"
   },
   "outputs": [],
   "source": [
    "#creating test, train and validate trains\n",
    "train, val, test = np.split(data, [int(.6*len(lstm_df)), int(.8*len(lstm_df))])"
   ]
  },
  {
   "cell_type": "code",
   "execution_count": 76,
   "metadata": {},
   "outputs": [
    {
     "data": {
      "text/plain": [
       "((1510, 6), (503, 6), (504, 6))"
      ]
     },
     "execution_count": 76,
     "metadata": {},
     "output_type": "execute_result"
    }
   ],
   "source": [
    "train.shape, validate.shape, test.shape"
   ]
  },
  {
   "cell_type": "markdown",
   "metadata": {},
   "source": [
    "    "
   ]
  },
  {
   "cell_type": "markdown",
   "metadata": {},
   "source": [
    "### Normalize the data"
   ]
  },
  {
   "cell_type": "code",
   "execution_count": 77,
   "metadata": {},
   "outputs": [],
   "source": [
    "#normalise using min-max scalar\n",
    "scaler = MinMaxScaler(feature_range = (0, 1))\n",
    "strain = scaler.fit_transform(train)\n",
    "sval = scaler.fit_transform(val)\n",
    "stest = scaler.fit_transform(test)"
   ]
  },
  {
   "cell_type": "code",
   "execution_count": 87,
   "metadata": {},
   "outputs": [],
   "source": [
    "# For train\n",
    "Xtrain = []\n",
    "Ytrain = []\n",
    "\n",
    "n_future = 1   # Number of days we want to look into the future based on the past days.\n",
    "n_past = 3\n",
    "\n",
    "#Reformat input data into a shape: (n_samples x timesteps x n_features)\n",
    "for i in range(n_past, len(strain) - n_future +1):\n",
    "    Xtrain.append(strain[i - n_past:i, 0:df.shape[1]])\n",
    "    Ytrain.append(strain[i + n_future - 1:i + n_future, 0])\n"
   ]
  },
  {
   "cell_type": "code",
   "execution_count": 89,
   "metadata": {},
   "outputs": [],
   "source": [
    "# For val\n",
    "Xval = []\n",
    "Yval = []\n",
    "\n",
    "n_future = 1   # Number of days we want to look into the future based on the past days.\n",
    "n_past = 3\n",
    "\n",
    "#Reformat input data into a shape: (n_samples x timesteps x n_features)\n",
    "for i in range(n_past, len(strain) - n_future +1):\n",
    "    Xval.append(strain[i - n_past:i, 0:df.shape[1]])\n",
    "    Yval.append(strain[i + n_future - 1:i + n_future, 0])"
   ]
  },
  {
   "cell_type": "code",
   "execution_count": 90,
   "metadata": {},
   "outputs": [],
   "source": [
    "# For train\n",
    "Xtest = []\n",
    "Ytest = []\n",
    "\n",
    "n_future = 1   # Number of days we want to look into the future based on the past days.\n",
    "n_past = 3\n",
    "\n",
    "#Reformat input data into a shape: (n_samples x timesteps x n_features)\n",
    "for i in range(n_past, len(strain) - n_future +1):\n",
    "    Xtest.append(strain[i - n_past:i, 0:df.shape[1]])\n",
    "    Ytest.append(strain[i + n_future - 1:i + n_future, 0])"
   ]
  },
  {
   "cell_type": "code",
   "execution_count": 91,
   "metadata": {},
   "outputs": [
    {
     "data": {
      "text/plain": [
       "((1507, 3, 6), (1507, 1))"
      ]
     },
     "execution_count": 91,
     "metadata": {},
     "output_type": "execute_result"
    }
   ],
   "source": [
    "# change type to array\n",
    "Xtrain, Ytrain = np.array(Xtrain), np.array(Ytrain)\n",
    "Xval, Yval = np.array(Xval), np.array(Yval)\n",
    "Xtest, Ytest = np.array(Xtest), np.array(Ytest)\n",
    "\n",
    "Xtrain.shape,Ytrain.shape\n"
   ]
  },
  {
   "cell_type": "code",
   "execution_count": 95,
   "metadata": {},
   "outputs": [],
   "source": [
    "# reshape from [samples, timesteps] into [samples, timesteps, features]\n",
    "train_X = np.reshape(Xtrain, (Xtrain.shape[0],Xtrain.shape[1], 6)) #[samples, timesteps, features]\n",
    "val_X = np.reshape(Xval, (Xval.shape[0],Xval.shape[1], 6))"
   ]
  },
  {
   "cell_type": "markdown",
   "metadata": {},
   "source": [
    "    "
   ]
  },
  {
   "cell_type": "markdown",
   "metadata": {},
   "source": [
    "### LSTM Model"
   ]
  },
  {
   "cell_type": "raw",
   "metadata": {},
   "source": [
    "# We will fit an ensemble of models to get re-prodicible results\n",
    "# Takes a while to run\n",
    "\n",
    "ensemble = []\n",
    "\n",
    "# 35 models\n",
    "for i in range(35):\n",
    "    \n",
    "    # define and fit the model\n",
    "    model.reset_states()\n",
    "    model = Sequential()\n",
    "    model.add(LSTM(30, input_shape=(3, 2), activation='relu')) # 3 is the timesteps, 2 is the one from the reshape \n",
    "    #model.add(Dropout(0.2))\n",
    "    model.add(Dense(1))\n",
    "    model.compile(loss='mean_squared_error', optimizer='adam')\n",
    "\n",
    "    # early stopping\n",
    "    es = EarlyStopping(monitor='loss', mode='min', verbose=0, patience=5)\n",
    "\n",
    "    # fit the model\n",
    "    history = model.fit(train_x, y_train, epochs=150, verbose=0, callbacks=[es], shuffle=False, validation_split=0.1)\n",
    "        \n",
    "    # store the models\n",
    "    ensemble.append(model)"
   ]
  },
  {
   "cell_type": "code",
   "execution_count": 98,
   "metadata": {},
   "outputs": [
    {
     "name": "stdout",
     "output_type": "stream",
     "text": [
      "Model: \"sequential_5\"\n",
      "_________________________________________________________________\n",
      " Layer (type)                Output Shape              Param #   \n",
      "=================================================================\n",
      " lstm_5 (LSTM)               (None, 3, 15)             1320      \n",
      "                                                                 \n",
      " flatten_4 (Flatten)         (None, 45)                0         \n",
      "                                                                 \n",
      " dense_5 (Dense)             (None, 1)                 46        \n",
      "                                                                 \n",
      "=================================================================\n",
      "Total params: 1,366\n",
      "Trainable params: 1,366\n",
      "Non-trainable params: 0\n",
      "_________________________________________________________________\n",
      "None\n",
      "Epoch 1/100\n",
      "48/48 [==============================] - 1s 7ms/step - loss: 0.1153 - mean_absolute_error: 0.2423 - val_loss: 0.0342 - val_mean_absolute_error: 0.1274\n",
      "Epoch 2/100\n",
      "48/48 [==============================] - 0s 3ms/step - loss: 0.0077 - mean_absolute_error: 0.0539 - val_loss: 3.9323e-04 - val_mean_absolute_error: 0.0139\n",
      "Epoch 3/100\n",
      "48/48 [==============================] - 0s 3ms/step - loss: 2.9215e-04 - mean_absolute_error: 0.0120 - val_loss: 1.9047e-04 - val_mean_absolute_error: 0.0099\n",
      "Epoch 4/100\n",
      "48/48 [==============================] - 0s 3ms/step - loss: 1.5810e-04 - mean_absolute_error: 0.0085 - val_loss: 1.3317e-04 - val_mean_absolute_error: 0.0075\n",
      "Epoch 5/100\n",
      "48/48 [==============================] - 0s 3ms/step - loss: 1.3222e-04 - mean_absolute_error: 0.0075 - val_loss: 1.2944e-04 - val_mean_absolute_error: 0.0073\n",
      "Epoch 6/100\n",
      "48/48 [==============================] - 0s 3ms/step - loss: 1.3121e-04 - mean_absolute_error: 0.0074 - val_loss: 1.2827e-04 - val_mean_absolute_error: 0.0073\n",
      "Epoch 7/100\n",
      "48/48 [==============================] - 0s 3ms/step - loss: 1.2920e-04 - mean_absolute_error: 0.0074 - val_loss: 1.3197e-04 - val_mean_absolute_error: 0.0076\n",
      "Epoch 8/100\n",
      "48/48 [==============================] - 0s 3ms/step - loss: 1.2994e-04 - mean_absolute_error: 0.0074 - val_loss: 1.3530e-04 - val_mean_absolute_error: 0.0079\n",
      "Epoch 9/100\n",
      "48/48 [==============================] - 0s 3ms/step - loss: 1.2852e-04 - mean_absolute_error: 0.0073 - val_loss: 1.2656e-04 - val_mean_absolute_error: 0.0072\n",
      "Epoch 10/100\n",
      "48/48 [==============================] - 0s 3ms/step - loss: 1.2748e-04 - mean_absolute_error: 0.0072 - val_loss: 1.2655e-04 - val_mean_absolute_error: 0.0073\n",
      "Epoch 11/100\n",
      "48/48 [==============================] - 0s 3ms/step - loss: 1.2650e-04 - mean_absolute_error: 0.0072 - val_loss: 1.2392e-04 - val_mean_absolute_error: 0.0071\n",
      "Epoch 12/100\n",
      "48/48 [==============================] - 0s 3ms/step - loss: 1.2555e-04 - mean_absolute_error: 0.0072 - val_loss: 1.2361e-04 - val_mean_absolute_error: 0.0071\n",
      "Epoch 13/100\n",
      "48/48 [==============================] - 0s 3ms/step - loss: 1.2551e-04 - mean_absolute_error: 0.0072 - val_loss: 1.2494e-04 - val_mean_absolute_error: 0.0072\n",
      "Epoch 14/100\n",
      "48/48 [==============================] - 0s 3ms/step - loss: 1.2497e-04 - mean_absolute_error: 0.0072 - val_loss: 1.3116e-04 - val_mean_absolute_error: 0.0077\n",
      "Epoch 15/100\n",
      "48/48 [==============================] - 0s 4ms/step - loss: 1.2297e-04 - mean_absolute_error: 0.0072 - val_loss: 1.2504e-04 - val_mean_absolute_error: 0.0073\n",
      "Epoch 16/100\n",
      "48/48 [==============================] - 0s 3ms/step - loss: 1.2304e-04 - mean_absolute_error: 0.0072 - val_loss: 1.1994e-04 - val_mean_absolute_error: 0.0070\n",
      "Epoch 17/100\n",
      "48/48 [==============================] - 0s 3ms/step - loss: 1.2155e-04 - mean_absolute_error: 0.0071 - val_loss: 1.1903e-04 - val_mean_absolute_error: 0.0069\n",
      "Epoch 18/100\n",
      "48/48 [==============================] - 0s 3ms/step - loss: 1.2096e-04 - mean_absolute_error: 0.0071 - val_loss: 1.2520e-04 - val_mean_absolute_error: 0.0071\n",
      "Epoch 19/100\n",
      "48/48 [==============================] - 0s 4ms/step - loss: 1.1919e-04 - mean_absolute_error: 0.0070 - val_loss: 1.2136e-04 - val_mean_absolute_error: 0.0071\n",
      "Epoch 20/100\n",
      "48/48 [==============================] - 0s 4ms/step - loss: 1.2178e-04 - mean_absolute_error: 0.0071 - val_loss: 1.1965e-04 - val_mean_absolute_error: 0.0070\n",
      "Epoch 21/100\n",
      "48/48 [==============================] - 0s 4ms/step - loss: 1.1829e-04 - mean_absolute_error: 0.0070 - val_loss: 1.1955e-04 - val_mean_absolute_error: 0.0070\n",
      "Epoch 22/100\n",
      "48/48 [==============================] - 0s 3ms/step - loss: 1.1841e-04 - mean_absolute_error: 0.0069 - val_loss: 1.1877e-04 - val_mean_absolute_error: 0.0070\n",
      "Epoch 23/100\n",
      "48/48 [==============================] - 0s 4ms/step - loss: 1.2953e-04 - mean_absolute_error: 0.0074 - val_loss: 1.1543e-04 - val_mean_absolute_error: 0.0069\n",
      "Epoch 24/100\n",
      "48/48 [==============================] - 0s 4ms/step - loss: 1.1674e-04 - mean_absolute_error: 0.0069 - val_loss: 1.2261e-04 - val_mean_absolute_error: 0.0073\n",
      "Epoch 25/100\n",
      "48/48 [==============================] - 0s 3ms/step - loss: 1.1690e-04 - mean_absolute_error: 0.0070 - val_loss: 1.1470e-04 - val_mean_absolute_error: 0.0069\n",
      "Epoch 26/100\n",
      "48/48 [==============================] - 0s 3ms/step - loss: 1.1622e-04 - mean_absolute_error: 0.0069 - val_loss: 1.1421e-04 - val_mean_absolute_error: 0.0069\n",
      "Epoch 27/100\n",
      "48/48 [==============================] - 0s 3ms/step - loss: 1.1629e-04 - mean_absolute_error: 0.0069 - val_loss: 1.1515e-04 - val_mean_absolute_error: 0.0069\n",
      "Epoch 28/100\n",
      "48/48 [==============================] - 0s 3ms/step - loss: 1.1658e-04 - mean_absolute_error: 0.0069 - val_loss: 1.1228e-04 - val_mean_absolute_error: 0.0068\n",
      "Epoch 29/100\n",
      "48/48 [==============================] - 0s 3ms/step - loss: 1.1838e-04 - mean_absolute_error: 0.0070 - val_loss: 1.1169e-04 - val_mean_absolute_error: 0.0067\n",
      "Epoch 30/100\n",
      "48/48 [==============================] - 0s 4ms/step - loss: 1.1513e-04 - mean_absolute_error: 0.0068 - val_loss: 1.1151e-04 - val_mean_absolute_error: 0.0066\n",
      "Epoch 31/100\n",
      "48/48 [==============================] - 0s 4ms/step - loss: 1.1620e-04 - mean_absolute_error: 0.0069 - val_loss: 1.1449e-04 - val_mean_absolute_error: 0.0068\n",
      "Epoch 32/100\n",
      "48/48 [==============================] - 0s 3ms/step - loss: 1.1438e-04 - mean_absolute_error: 0.0069 - val_loss: 1.1004e-04 - val_mean_absolute_error: 0.0066\n",
      "Epoch 33/100\n",
      "48/48 [==============================] - 0s 3ms/step - loss: 1.1426e-04 - mean_absolute_error: 0.0068 - val_loss: 1.1099e-04 - val_mean_absolute_error: 0.0066\n",
      "Epoch 34/100\n",
      "48/48 [==============================] - 0s 3ms/step - loss: 1.1287e-04 - mean_absolute_error: 0.0067 - val_loss: 1.1148e-04 - val_mean_absolute_error: 0.0068\n",
      "Epoch 35/100\n",
      "48/48 [==============================] - 0s 4ms/step - loss: 1.1573e-04 - mean_absolute_error: 0.0070 - val_loss: 1.1348e-04 - val_mean_absolute_error: 0.0070\n",
      "Epoch 36/100\n",
      "48/48 [==============================] - 0s 3ms/step - loss: 1.1076e-04 - mean_absolute_error: 0.0067 - val_loss: 1.1039e-04 - val_mean_absolute_error: 0.0067\n",
      "Epoch 37/100\n",
      "48/48 [==============================] - 0s 3ms/step - loss: 1.1439e-04 - mean_absolute_error: 0.0069 - val_loss: 1.1010e-04 - val_mean_absolute_error: 0.0068\n",
      "Epoch 38/100\n",
      "48/48 [==============================] - 0s 3ms/step - loss: 1.1136e-04 - mean_absolute_error: 0.0067 - val_loss: 1.1633e-04 - val_mean_absolute_error: 0.0070\n",
      "Epoch 39/100\n",
      "48/48 [==============================] - 0s 3ms/step - loss: 1.1173e-04 - mean_absolute_error: 0.0068 - val_loss: 1.1743e-04 - val_mean_absolute_error: 0.0073\n",
      "Epoch 40/100\n",
      "48/48 [==============================] - 0s 4ms/step - loss: 1.1411e-04 - mean_absolute_error: 0.0069 - val_loss: 1.1290e-04 - val_mean_absolute_error: 0.0067\n",
      "Epoch 41/100\n",
      "48/48 [==============================] - 0s 4ms/step - loss: 1.0900e-04 - mean_absolute_error: 0.0067 - val_loss: 1.1156e-04 - val_mean_absolute_error: 0.0068\n",
      "Epoch 42/100\n",
      "48/48 [==============================] - 0s 3ms/step - loss: 1.0850e-04 - mean_absolute_error: 0.0067 - val_loss: 1.0806e-04 - val_mean_absolute_error: 0.0067\n",
      "Epoch 43/100\n",
      "48/48 [==============================] - 0s 4ms/step - loss: 1.0720e-04 - mean_absolute_error: 0.0066 - val_loss: 1.0488e-04 - val_mean_absolute_error: 0.0065\n"
     ]
    },
    {
     "name": "stdout",
     "output_type": "stream",
     "text": [
      "Epoch 44/100\n",
      "48/48 [==============================] - 0s 3ms/step - loss: 1.0549e-04 - mean_absolute_error: 0.0065 - val_loss: 1.0700e-04 - val_mean_absolute_error: 0.0066\n",
      "Epoch 45/100\n",
      "48/48 [==============================] - 0s 3ms/step - loss: 1.0641e-04 - mean_absolute_error: 0.0065 - val_loss: 1.0800e-04 - val_mean_absolute_error: 0.0065\n",
      "Epoch 46/100\n",
      "48/48 [==============================] - 0s 3ms/step - loss: 1.1402e-04 - mean_absolute_error: 0.0069 - val_loss: 1.4251e-04 - val_mean_absolute_error: 0.0085\n",
      "Epoch 47/100\n",
      "48/48 [==============================] - 0s 3ms/step - loss: 1.0745e-04 - mean_absolute_error: 0.0067 - val_loss: 1.0417e-04 - val_mean_absolute_error: 0.0065\n",
      "Epoch 48/100\n",
      "48/48 [==============================] - 0s 3ms/step - loss: 1.0976e-04 - mean_absolute_error: 0.0067 - val_loss: 1.3046e-04 - val_mean_absolute_error: 0.0074\n",
      "Epoch 49/100\n",
      "48/48 [==============================] - 0s 3ms/step - loss: 1.1213e-04 - mean_absolute_error: 0.0068 - val_loss: 1.0203e-04 - val_mean_absolute_error: 0.0064\n",
      "Epoch 50/100\n",
      "48/48 [==============================] - 0s 3ms/step - loss: 1.0486e-04 - mean_absolute_error: 0.0067 - val_loss: 1.0845e-04 - val_mean_absolute_error: 0.0067\n",
      "Epoch 51/100\n",
      "48/48 [==============================] - 0s 3ms/step - loss: 1.0627e-04 - mean_absolute_error: 0.0066 - val_loss: 1.3071e-04 - val_mean_absolute_error: 0.0081\n",
      "Epoch 52/100\n",
      "48/48 [==============================] - 0s 3ms/step - loss: 1.0577e-04 - mean_absolute_error: 0.0067 - val_loss: 9.9397e-05 - val_mean_absolute_error: 0.0063\n",
      "Epoch 53/100\n",
      "48/48 [==============================] - 0s 3ms/step - loss: 1.0226e-04 - mean_absolute_error: 0.0064 - val_loss: 1.0696e-04 - val_mean_absolute_error: 0.0066\n",
      "Epoch 54/100\n",
      "48/48 [==============================] - 0s 3ms/step - loss: 1.0319e-04 - mean_absolute_error: 0.0066 - val_loss: 1.1537e-04 - val_mean_absolute_error: 0.0073\n",
      "Epoch 55/100\n",
      "48/48 [==============================] - 0s 3ms/step - loss: 1.0332e-04 - mean_absolute_error: 0.0066 - val_loss: 9.8509e-05 - val_mean_absolute_error: 0.0062\n",
      "Epoch 56/100\n",
      "48/48 [==============================] - 0s 3ms/step - loss: 1.0162e-04 - mean_absolute_error: 0.0065 - val_loss: 1.1239e-04 - val_mean_absolute_error: 0.0070\n",
      "Epoch 57/100\n",
      "48/48 [==============================] - 0s 3ms/step - loss: 1.0137e-04 - mean_absolute_error: 0.0063 - val_loss: 9.7462e-05 - val_mean_absolute_error: 0.0062\n",
      "Epoch 58/100\n",
      "48/48 [==============================] - 0s 3ms/step - loss: 1.0471e-04 - mean_absolute_error: 0.0065 - val_loss: 9.6097e-05 - val_mean_absolute_error: 0.0061\n",
      "Epoch 59/100\n",
      "48/48 [==============================] - 0s 3ms/step - loss: 9.7620e-05 - mean_absolute_error: 0.0062 - val_loss: 9.5548e-05 - val_mean_absolute_error: 0.0061\n",
      "Epoch 60/100\n",
      "48/48 [==============================] - 0s 3ms/step - loss: 9.9815e-05 - mean_absolute_error: 0.0063 - val_loss: 1.0872e-04 - val_mean_absolute_error: 0.0066\n",
      "Epoch 61/100\n",
      "48/48 [==============================] - 0s 3ms/step - loss: 1.0323e-04 - mean_absolute_error: 0.0065 - val_loss: 1.0853e-04 - val_mean_absolute_error: 0.0069\n",
      "Epoch 62/100\n",
      "48/48 [==============================] - 0s 3ms/step - loss: 1.0148e-04 - mean_absolute_error: 0.0065 - val_loss: 9.3358e-05 - val_mean_absolute_error: 0.0060\n",
      "Epoch 63/100\n",
      "48/48 [==============================] - 0s 3ms/step - loss: 9.9626e-05 - mean_absolute_error: 0.0064 - val_loss: 1.1450e-04 - val_mean_absolute_error: 0.0071\n",
      "Epoch 64/100\n",
      "48/48 [==============================] - 0s 3ms/step - loss: 9.7110e-05 - mean_absolute_error: 0.0063 - val_loss: 9.9972e-05 - val_mean_absolute_error: 0.0064\n",
      "Epoch 65/100\n",
      "48/48 [==============================] - 0s 3ms/step - loss: 9.7503e-05 - mean_absolute_error: 0.0062 - val_loss: 9.3115e-05 - val_mean_absolute_error: 0.0061\n",
      "Epoch 66/100\n",
      "48/48 [==============================] - 0s 3ms/step - loss: 9.8409e-05 - mean_absolute_error: 0.0062 - val_loss: 9.5754e-05 - val_mean_absolute_error: 0.0062\n",
      "Epoch 67/100\n",
      "48/48 [==============================] - 0s 3ms/step - loss: 1.0027e-04 - mean_absolute_error: 0.0065 - val_loss: 9.0941e-05 - val_mean_absolute_error: 0.0059\n",
      "Epoch 68/100\n",
      "48/48 [==============================] - 0s 3ms/step - loss: 9.8942e-05 - mean_absolute_error: 0.0064 - val_loss: 9.2477e-05 - val_mean_absolute_error: 0.0060\n",
      "Epoch 69/100\n",
      "48/48 [==============================] - 0s 3ms/step - loss: 9.4509e-05 - mean_absolute_error: 0.0061 - val_loss: 9.2539e-05 - val_mean_absolute_error: 0.0059\n",
      "Epoch 70/100\n",
      "48/48 [==============================] - 0s 3ms/step - loss: 1.0228e-04 - mean_absolute_error: 0.0065 - val_loss: 8.8782e-05 - val_mean_absolute_error: 0.0059\n",
      "Epoch 71/100\n",
      "48/48 [==============================] - 0s 3ms/step - loss: 9.4746e-05 - mean_absolute_error: 0.0062 - val_loss: 8.9695e-05 - val_mean_absolute_error: 0.0059\n",
      "Epoch 72/100\n",
      "48/48 [==============================] - 0s 3ms/step - loss: 9.1027e-05 - mean_absolute_error: 0.0060 - val_loss: 8.8159e-05 - val_mean_absolute_error: 0.0058\n",
      "Epoch 73/100\n",
      "48/48 [==============================] - 0s 3ms/step - loss: 9.0670e-05 - mean_absolute_error: 0.0060 - val_loss: 8.8688e-05 - val_mean_absolute_error: 0.0059\n",
      "Epoch 74/100\n",
      "48/48 [==============================] - 0s 3ms/step - loss: 8.8825e-05 - mean_absolute_error: 0.0059 - val_loss: 1.2316e-04 - val_mean_absolute_error: 0.0074\n",
      "Epoch 75/100\n",
      "48/48 [==============================] - 0s 3ms/step - loss: 1.2412e-04 - mean_absolute_error: 0.0077 - val_loss: 8.8106e-05 - val_mean_absolute_error: 0.0059\n",
      "Epoch 76/100\n",
      "48/48 [==============================] - 0s 3ms/step - loss: 8.8835e-05 - mean_absolute_error: 0.0060 - val_loss: 9.1283e-05 - val_mean_absolute_error: 0.0061\n",
      "Epoch 77/100\n",
      "48/48 [==============================] - 0s 3ms/step - loss: 9.1036e-05 - mean_absolute_error: 0.0061 - val_loss: 8.6260e-05 - val_mean_absolute_error: 0.0059\n",
      "Epoch 78/100\n",
      "48/48 [==============================] - 0s 3ms/step - loss: 9.2829e-05 - mean_absolute_error: 0.0061 - val_loss: 1.3475e-04 - val_mean_absolute_error: 0.0083\n",
      "Epoch 79/100\n",
      "48/48 [==============================] - 0s 3ms/step - loss: 9.2342e-05 - mean_absolute_error: 0.0062 - val_loss: 9.8737e-05 - val_mean_absolute_error: 0.0065\n",
      "Epoch 80/100\n",
      "48/48 [==============================] - 0s 3ms/step - loss: 9.9424e-05 - mean_absolute_error: 0.0065 - val_loss: 8.4951e-05 - val_mean_absolute_error: 0.0058\n",
      "Epoch 81/100\n",
      "48/48 [==============================] - 0s 3ms/step - loss: 1.0480e-04 - mean_absolute_error: 0.0067 - val_loss: 9.4267e-05 - val_mean_absolute_error: 0.0063\n",
      "Epoch 82/100\n",
      "48/48 [==============================] - 0s 3ms/step - loss: 9.0154e-05 - mean_absolute_error: 0.0061 - val_loss: 8.2124e-05 - val_mean_absolute_error: 0.0056\n",
      "Epoch 83/100\n",
      "48/48 [==============================] - 0s 3ms/step - loss: 8.5486e-05 - mean_absolute_error: 0.0057 - val_loss: 9.3045e-05 - val_mean_absolute_error: 0.0062\n",
      "Epoch 84/100\n",
      "48/48 [==============================] - 0s 3ms/step - loss: 8.5278e-05 - mean_absolute_error: 0.0058 - val_loss: 8.0930e-05 - val_mean_absolute_error: 0.0055\n",
      "Epoch 85/100\n",
      "48/48 [==============================] - 0s 3ms/step - loss: 8.3350e-05 - mean_absolute_error: 0.0057 - val_loss: 8.0510e-05 - val_mean_absolute_error: 0.0055\n",
      "Epoch 86/100\n",
      "48/48 [==============================] - 0s 3ms/step - loss: 8.5427e-05 - mean_absolute_error: 0.0058 - val_loss: 8.4379e-05 - val_mean_absolute_error: 0.0056\n",
      "Epoch 87/100\n",
      "48/48 [==============================] - 0s 3ms/step - loss: 8.6839e-05 - mean_absolute_error: 0.0059 - val_loss: 9.0129e-05 - val_mean_absolute_error: 0.0063\n",
      "Epoch 88/100\n",
      "48/48 [==============================] - 0s 3ms/step - loss: 8.1834e-05 - mean_absolute_error: 0.0057 - val_loss: 7.9202e-05 - val_mean_absolute_error: 0.0055\n",
      "Epoch 89/100\n",
      "48/48 [==============================] - 0s 3ms/step - loss: 8.0936e-05 - mean_absolute_error: 0.0056 - val_loss: 7.7778e-05 - val_mean_absolute_error: 0.0054\n",
      "Epoch 90/100\n",
      "48/48 [==============================] - 0s 3ms/step - loss: 7.9701e-05 - mean_absolute_error: 0.0056 - val_loss: 7.7530e-05 - val_mean_absolute_error: 0.0054\n",
      "Epoch 91/100\n",
      "48/48 [==============================] - 0s 3ms/step - loss: 8.5860e-05 - mean_absolute_error: 0.0059 - val_loss: 8.9878e-05 - val_mean_absolute_error: 0.0065\n",
      "Epoch 92/100\n",
      "48/48 [==============================] - 0s 3ms/step - loss: 8.0922e-05 - mean_absolute_error: 0.0056 - val_loss: 7.5949e-05 - val_mean_absolute_error: 0.0053\n",
      "Epoch 93/100\n",
      "48/48 [==============================] - 0s 3ms/step - loss: 7.8785e-05 - mean_absolute_error: 0.0056 - val_loss: 7.5362e-05 - val_mean_absolute_error: 0.0052\n",
      "Epoch 94/100\n",
      "48/48 [==============================] - 0s 3ms/step - loss: 8.0366e-05 - mean_absolute_error: 0.0056 - val_loss: 1.0735e-04 - val_mean_absolute_error: 0.0069\n",
      "Epoch 95/100\n",
      "48/48 [==============================] - 0s 3ms/step - loss: 1.0632e-04 - mean_absolute_error: 0.0069 - val_loss: 9.1050e-05 - val_mean_absolute_error: 0.0060\n",
      "Epoch 96/100\n",
      "48/48 [==============================] - 0s 3ms/step - loss: 8.2194e-05 - mean_absolute_error: 0.0057 - val_loss: 1.0380e-04 - val_mean_absolute_error: 0.0071\n",
      "Epoch 97/100\n",
      "48/48 [==============================] - 0s 3ms/step - loss: 8.4561e-05 - mean_absolute_error: 0.0058 - val_loss: 7.5087e-05 - val_mean_absolute_error: 0.0054\n",
      "Epoch 98/100\n",
      "48/48 [==============================] - 0s 3ms/step - loss: 8.4647e-05 - mean_absolute_error: 0.0059 - val_loss: 9.5172e-05 - val_mean_absolute_error: 0.0066\n",
      "Epoch 99/100\n",
      "48/48 [==============================] - 0s 3ms/step - loss: 7.9259e-05 - mean_absolute_error: 0.0055 - val_loss: 7.1406e-05 - val_mean_absolute_error: 0.0051\n",
      "Epoch 100/100\n",
      "48/48 [==============================] - 0s 3ms/step - loss: 8.1186e-05 - mean_absolute_error: 0.0058 - val_loss: 8.7248e-05 - val_mean_absolute_error: 0.0060\n"
     ]
    }
   ],
   "source": [
    "#instantiate and fit the model\n",
    "\n",
    "model.reset_states()\n",
    "model = Sequential()\n",
    "model.add(LSTM(15, input_shape=(3, 6), activation='relu', return_sequences=True)) # 3 is the timesteps, 1 is the one from the reshape \n",
    "#model.add(Dropout(0.2))\n",
    "model.add(Flatten()) #converting multi-dimensional array into one dimensional flatten array\n",
    "model.add(Dense(1))\n",
    "model.compile(optimizer = 'adam', loss = 'mean_squared_error', metrics = ['mean_absolute_error'])\n",
    "print(model.summary())\n",
    "\n",
    "# fit the model\n",
    "#del history\n",
    "#set verbose=False if you don't want to see the output\n",
    "history = model.fit(train_X, Ytrain, epochs = 100, batch_size = 32,validation_data = (val_X, Yval))"
   ]
  },
  {
   "cell_type": "code",
   "execution_count": 99,
   "metadata": {},
   "outputs": [
    {
     "data": {
      "image/png": "[encoded data removed]",
      "text/plain": [
       "<Figure size 432x288 with 1 Axes>"
      ]
     },
     "metadata": {
      "needs_background": "light"
     },
     "output_type": "display_data"
    }
   ],
   "source": [
    "#plot the training and validation accuracy and loss at each epoch\n",
    "loss = history.history['loss']\n",
    "val_loss = history.history['val_loss']\n",
    "epochs = range(1, len(loss) + 1)\n",
    "plt.plot(epochs, loss, 'y', label='Training loss')\n",
    "plt.plot(epochs, val_loss, 'r', label='Validation loss')\n",
    "plt.title('Loss Curve')\n",
    "plt.xlabel('Epochs')\n",
    "plt.ylabel('Loss')\n",
    "plt.legend()\n",
    "plt.show()"
   ]
  },
  {
   "cell_type": "markdown",
   "metadata": {},
   "source": [
    "    "
   ]
  },
  {
   "cell_type": "markdown",
   "metadata": {
    "colab_type": "text",
    "id": "H5aWIT43vX27"
   },
   "source": [
    "**MAE: This means that the average difference between input and ouput for all 1507 datapoints is 0.005. Which is good.\n",
    "The value is for the days here so 1507 length of train set will be denominator. Which means, the difference between actual and prediced values is small that such a large denominator dividing the difference puts MAE in rage of 10^-3 i.e. 0.00xxx**\n",
    "\n",
    "**Same for the validation set. We will now make predictions and check how the model performs on the test set**"
   ]
  },
  {
   "cell_type": "markdown",
   "metadata": {},
   "source": [
    "### Making Predictions on Test set"
   ]
  },
  {
   "cell_type": "code",
   "execution_count": 100,
   "metadata": {},
   "outputs": [],
   "source": [
    "# reshape from [samples, timesteps] into [samples, timesteps, features]\n",
    "test_X = np.reshape(Xtest, (Xtest.shape[0],Xtest.shape[1], 6)) #[samples, timesteps, features]"
   ]
  },
  {
   "cell_type": "code",
   "execution_count": 101,
   "metadata": {},
   "outputs": [
    {
     "name": "stdout",
     "output_type": "stream",
     "text": [
      "48/48 [==============================] - 0s 1ms/step\n"
     ]
    }
   ],
   "source": [
    "# make predictions\n",
    "testpredict = model.predict(test_X)"
   ]
  },
  {
   "cell_type": "code",
   "execution_count": 103,
   "metadata": {},
   "outputs": [
    {
     "data": {
      "text/plain": [
       "((1507, 3, 6), (1507, 1))"
      ]
     },
     "execution_count": 103,
     "metadata": {},
     "output_type": "execute_result"
    }
   ],
   "source": [
    "test_X.shape, testpredict.shape"
   ]
  },
  {
   "cell_type": "code",
   "execution_count": 105,
   "metadata": {},
   "outputs": [
    {
     "data": {
      "text/plain": [
       "array([[0.00476338],\n",
       "       [0.00617997],\n",
       "       [0.0068562 ],\n",
       "       ...,\n",
       "       [0.9686061 ],\n",
       "       [0.972387  ],\n",
       "       [0.9665477 ]], dtype=float32)"
      ]
     },
     "execution_count": 105,
     "metadata": {},
     "output_type": "execute_result"
    }
   ],
   "source": [
    "testpredict"
   ]
  },
  {
   "cell_type": "code",
   "execution_count": 109,
   "metadata": {},
   "outputs": [
    {
     "data": {
      "text/plain": [
       "array([ 82.57625,  82.72517,  82.79625, ..., 183.89973, 184.2972 ,\n",
       "       183.68335], dtype=float32)"
      ]
     },
     "execution_count": 109,
     "metadata": {},
     "output_type": "execute_result"
    }
   ],
   "source": [
    "# rescale all the observations\n",
    "test_prediction_copies = np.repeat(testpredict, 6, axis=-1)\n",
    "testpred = scaler.inverse_transform(test_prediction_copies)[:,0]\n",
    "testpred"
   ]
  },
  {
   "cell_type": "code",
   "execution_count": 111,
   "metadata": {},
   "outputs": [
    {
     "name": "stdout",
     "output_type": "stream",
     "text": [
      "Single variable LSTM MAE =  114.75333023597811\n"
     ]
    }
   ],
   "source": [
    "# Evaluate the model\n",
    "print('Single variable LSTM MAE = ', mean_absolute_error(Ytest, testpred))"
   ]
  },
  {
   "cell_type": "code",
   "execution_count": null,
   "metadata": {},
   "outputs": [],
   "source": []
  },
  {
   "cell_type": "code",
   "execution_count": null,
   "metadata": {},
   "outputs": [],
   "source": []
  },
  {
   "cell_type": "code",
   "execution_count": null,
   "metadata": {},
   "outputs": [],
   "source": []
  },
  {
   "cell_type": "code",
   "execution_count": null,
   "metadata": {},
   "outputs": [],
   "source": []
  },
  {
   "cell_type": "code",
   "execution_count": 0,
   "metadata": {
    "colab": {},
    "colab_type": "code",
    "id": "IcdIP_gtw9DB"
   },
   "outputs": [],
   "source": [
    "# FUNCTION TO CREATE 1D DATA INTO TIME SERIES DATASET\n",
    "def new_dataset(dataset, step_size):\n",
    "\tdata_X, data_Y = [], []\n",
    "\tfor i in range(len(dataset)-step_size-1):\n",
    "\t\ta = dataset[i:(i+step_size), 0]\n",
    "\t\tdata_X.append(a)\n",
    "\t\tdata_Y.append(dataset[i + step_size, 0])\n",
    "\treturn np.array(data_X), np.array(data_Y)"
   ]
  },
  {
   "cell_type": "code",
   "execution_count": 0,
   "metadata": {
    "colab": {},
    "colab_type": "code",
    "id": "5ovu8nAJxFRb"
   },
   "outputs": [],
   "source": [
    "# IMPORTING IMPORTANT LIBRARIES\n",
    "from keras.models import Sequential\n",
    "from keras.layers import Dense, Activation\n",
    "from keras.layers import LSTM\n"
   ]
  },
  {
   "cell_type": "code",
   "execution_count": 0,
   "metadata": {
    "colab": {},
    "colab_type": "code",
    "id": "MR5ZH2cUxKpv"
   },
   "outputs": [],
   "source": [
    "# FOR REPRODUCIBILITY\n",
    "np.random.seed(7)"
   ]
  },
  {
   "cell_type": "code",
   "execution_count": 0,
   "metadata": {
    "colab": {},
    "colab_type": "code",
    "id": "HEBGkQJQxNrF"
   },
   "outputs": [],
   "source": [
    "# IMPORTING DATASET \n",
    "dataset = dataset.reindex(index = dataset.index[::-1])"
   ]
  },
  {
   "cell_type": "code",
   "execution_count": 0,
   "metadata": {
    "colab": {},
    "colab_type": "code",
    "id": "qjQJZJx-xQOY"
   },
   "outputs": [],
   "source": [
    "# CREATING OWN INDEX FOR FLEXIBILITY\n",
    "obs = np.arange(1, len(dataset) + 1, 1)"
   ]
  },
  {
   "cell_type": "code",
   "execution_count": 0,
   "metadata": {
    "colab": {},
    "colab_type": "code",
    "id": "LFjIZMzJxUFR"
   },
   "outputs": [],
   "source": [
    "# TAKING DIFFERENT INDICATORS FOR PREDICTION\n",
    "OHLC_avg = dataset.mean(axis = 1)\n",
    "HLC_avg = dataset[['High', 'Low', 'Close']].mean(axis = 1)\n",
    "close_val = dataset[['Close']]"
   ]
  },
  {
   "cell_type": "code",
   "execution_count": 75,
   "metadata": {
    "colab": {
     "base_uri": "https://localhost:8080/",
     "height": 283
    },
    "colab_type": "code",
    "executionInfo": {
     "elapsed": 1436,
     "status": "ok",
     "timestamp": 1565977315547,
     "user": {
      "displayName": "Nupur Deshpande",
      "photoUrl": "",
      "userId": "13787757531456301957"
     },
     "user_tz": 240
    },
    "id": "MduBu78PxXYX",
    "outputId": "775c954d-6d5b-490c-b07d-d04cde4f8cf1"
   },
   "outputs": [
    {
     "data": {
      "image/png": "[encoded data removed]",
      "text/plain": [
       "<Figure size 432x288 with 1 Axes>"
      ]
     },
     "metadata": {
      "tags": []
     },
     "output_type": "display_data"
    }
   ],
   "source": [
    "# PLOTTING All INDICATORS IN PLOT\n",
    "plt.plot(OHLC_avg, 'yellow', label = 'OHLC avg')\n",
    "plt.plot(close_val, 'blue', label = 'Closing price')\n",
    "plt.xlabel('Days')\n",
    "plt.ylabel('OHLC average')\n",
    "plt.show()\n"
   ]
  },
  {
   "cell_type": "code",
   "execution_count": 76,
   "metadata": {
    "colab": {
     "base_uri": "https://localhost:8080/",
     "height": 283
    },
    "colab_type": "code",
    "executionInfo": {
     "elapsed": 1108,
     "status": "ok",
     "timestamp": 1565977317476,
     "user": {
      "displayName": "Nupur Deshpande",
      "photoUrl": "",
      "userId": "13787757531456301957"
     },
     "user_tz": 240
    },
    "id": "dvM1ej2vxfHQ",
    "outputId": "848b5066-70bc-4894-d459-389bb90b6390"
   },
   "outputs": [
    {
     "data": {
      "image/png": "[encoded data removed]",
      "text/plain": [
       "<Figure size 432x288 with 1 Axes>"
      ]
     },
     "metadata": {
      "tags": []
     },
     "output_type": "display_data"
    }
   ],
   "source": [
    "plt.plot(HLC_avg, 'red', label = 'HLC avg')\n",
    "plt.xlabel('Days')\n",
    "plt.ylabel('HLC average')\n",
    "plt.show()\n"
   ]
  },
  {
   "cell_type": "code",
   "execution_count": 77,
   "metadata": {
    "colab": {
     "base_uri": "https://localhost:8080/",
     "height": 283
    },
    "colab_type": "code",
    "executionInfo": {
     "elapsed": 652,
     "status": "ok",
     "timestamp": 1565977318119,
     "user": {
      "displayName": "Nupur Deshpande",
      "photoUrl": "",
      "userId": "13787757531456301957"
     },
     "user_tz": 240
    },
    "id": "yRwx0FA8ycRW",
    "outputId": "25d80acc-f214-4607-fdf7-e261aa4cfb1d"
   },
   "outputs": [
    {
     "data": {
      "image/png": "[encoded data removed]",
      "text/plain": [
       "<Figure size 432x288 with 1 Axes>"
      ]
     },
     "metadata": {
      "tags": []
     },
     "output_type": "display_data"
    }
   ],
   "source": [
    "plt.plot(close_val, 'blue', label = 'Closing price')\n",
    "plt.xlabel('Days')\n",
    "plt.ylabel('Closing Values')\n",
    "plt.show()"
   ]
  },
  {
   "cell_type": "code",
   "execution_count": 0,
   "metadata": {
    "colab": {},
    "colab_type": "code",
    "id": "z8Dx3owPynMb"
   },
   "outputs": [],
   "source": [
    "# PREPARATION OF TIME SERIES DATASE\n",
    "OHLC_avg = np.reshape(OHLC_avg.values, (len(OHLC_avg),1)) \n",
    "scaler = MinMaxScaler(feature_range=(0, 1))\n",
    "OHLC_avg = scaler.fit_transform(OHLC_avg)"
   ]
  },
  {
   "cell_type": "code",
   "execution_count": 0,
   "metadata": {
    "colab": {},
    "colab_type": "code",
    "id": "9HAD1oZozwym"
   },
   "outputs": [],
   "source": [
    "# TRAIN-TEST SPLIT\n",
    "train_OHLC = int(len(OHLC_avg) * 0.75)\n",
    "test_OHLC = len(OHLC_avg) - train_OHLC\n",
    "train_OHLC, test_OHLC = OHLC_avg[0:train_OHLC,:], OHLC_avg[train_OHLC:len(OHLC_avg),:]"
   ]
  },
  {
   "cell_type": "code",
   "execution_count": 0,
   "metadata": {
    "colab": {},
    "colab_type": "code",
    "id": "Yet5xNOoz0x-"
   },
   "outputs": [],
   "source": [
    "# TIME-SERIES DATASET (FOR TIME T, VALUES FOR TIME T+1)\n",
    "trainX, trainY = new_dataset(train_OHLC, 1)\n",
    "testX, testY = new_dataset(test_OHLC, 1)"
   ]
  },
  {
   "cell_type": "code",
   "execution_count": 0,
   "metadata": {
    "colab": {},
    "colab_type": "code",
    "id": "FHbI5KDKz4W7"
   },
   "outputs": [],
   "source": [
    "# RESHAPING TRAIN AND TEST DATA\n",
    "trainX = np.reshape(trainX, (trainX.shape[0], 1, trainX.shape[1]))\n",
    "testX = np.reshape(testX, (testX.shape[0], 1, testX.shape[1]))\n",
    "step_size = 1\n"
   ]
  },
  {
   "cell_type": "code",
   "execution_count": 0,
   "metadata": {
    "colab": {},
    "colab_type": "code",
    "id": "ycBSKqy9z78c"
   },
   "outputs": [],
   "source": [
    "# LSTM MODEL\n",
    "model = Sequential()\n",
    "model.add(LSTM(32, input_shape=(1, step_size), return_sequences = True))\n",
    "model.add(LSTM(16))\n",
    "model.add(Dense(1))\n",
    "model.add(Activation('linear'))"
   ]
  },
  {
   "cell_type": "code",
   "execution_count": 83,
   "metadata": {
    "colab": {
     "base_uri": "https://localhost:8080/",
     "height": 1000
    },
    "colab_type": "code",
    "executionInfo": {
     "elapsed": 794197,
     "status": "ok",
     "timestamp": 1565978117682,
     "user": {
      "displayName": "Nupur Deshpande",
      "photoUrl": "",
      "userId": "13787757531456301957"
     },
     "user_tz": 240
    },
    "id": "eW5inyg0z_b1",
    "outputId": "788810cb-6ecb-4202-b77d-f017603f0db5"
   },
   "outputs": [
    {
     "name": "stdout",
     "output_type": "stream",
     "text": [
      "Epoch 1/50\n",
      " - 17s - loss: 0.0069 - mean_absolute_error: 0.0469\n",
      "Epoch 2/50\n",
      " - 16s - loss: 3.2351e-04 - mean_absolute_error: 0.0151\n",
      "Epoch 3/50\n",
      " - 16s - loss: 2.5536e-04 - mean_absolute_error: 0.0134\n",
      "Epoch 4/50\n",
      " - 16s - loss: 2.0761e-04 - mean_absolute_error: 0.0119\n",
      "Epoch 5/50\n",
      " - 16s - loss: 1.7103e-04 - mean_absolute_error: 0.0106\n",
      "Epoch 6/50\n",
      " - 16s - loss: 1.4206e-04 - mean_absolute_error: 0.0095\n",
      "Epoch 7/50\n",
      " - 16s - loss: 1.2193e-04 - mean_absolute_error: 0.0086\n",
      "Epoch 8/50\n",
      " - 16s - loss: 1.0676e-04 - mean_absolute_error: 0.0079\n",
      "Epoch 9/50\n",
      " - 16s - loss: 9.4709e-05 - mean_absolute_error: 0.0073\n",
      "Epoch 10/50\n",
      " - 16s - loss: 8.5842e-05 - mean_absolute_error: 0.0068\n",
      "Epoch 11/50\n",
      " - 16s - loss: 7.8493e-05 - mean_absolute_error: 0.0063\n",
      "Epoch 12/50\n",
      " - 16s - loss: 7.2784e-05 - mean_absolute_error: 0.0059\n",
      "Epoch 13/50\n",
      " - 16s - loss: 6.9067e-05 - mean_absolute_error: 0.0057\n",
      "Epoch 14/50\n",
      " - 16s - loss: 6.5934e-05 - mean_absolute_error: 0.0054\n",
      "Epoch 15/50\n",
      " - 16s - loss: 6.3742e-05 - mean_absolute_error: 0.0052\n",
      "Epoch 16/50\n",
      " - 16s - loss: 6.1641e-05 - mean_absolute_error: 0.0050\n",
      "Epoch 17/50\n",
      " - 16s - loss: 6.0256e-05 - mean_absolute_error: 0.0048\n",
      "Epoch 18/50\n",
      " - 16s - loss: 5.8790e-05 - mean_absolute_error: 0.0047\n",
      "Epoch 19/50\n",
      " - 16s - loss: 5.8635e-05 - mean_absolute_error: 0.0046\n",
      "Epoch 20/50\n",
      " - 16s - loss: 5.7532e-05 - mean_absolute_error: 0.0046\n",
      "Epoch 21/50\n",
      " - 16s - loss: 5.7646e-05 - mean_absolute_error: 0.0045\n",
      "Epoch 22/50\n",
      " - 16s - loss: 5.6888e-05 - mean_absolute_error: 0.0045\n",
      "Epoch 23/50\n",
      " - 16s - loss: 5.6290e-05 - mean_absolute_error: 0.0044\n",
      "Epoch 24/50\n",
      " - 16s - loss: 5.6468e-05 - mean_absolute_error: 0.0044\n",
      "Epoch 25/50\n",
      " - 16s - loss: 5.6016e-05 - mean_absolute_error: 0.0044\n",
      "Epoch 26/50\n",
      " - 16s - loss: 5.6304e-05 - mean_absolute_error: 0.0043\n",
      "Epoch 27/50\n",
      " - 16s - loss: 5.6393e-05 - mean_absolute_error: 0.0043\n",
      "Epoch 28/50\n",
      " - 16s - loss: 5.6047e-05 - mean_absolute_error: 0.0043\n",
      "Epoch 29/50\n",
      " - 16s - loss: 5.5954e-05 - mean_absolute_error: 0.0043\n",
      "Epoch 30/50\n",
      " - 16s - loss: 5.5951e-05 - mean_absolute_error: 0.0043\n",
      "Epoch 31/50\n",
      " - 16s - loss: 5.5833e-05 - mean_absolute_error: 0.0043\n",
      "Epoch 32/50\n",
      " - 16s - loss: 5.5562e-05 - mean_absolute_error: 0.0043\n",
      "Epoch 33/50\n",
      " - 16s - loss: 5.5405e-05 - mean_absolute_error: 0.0042\n",
      "Epoch 34/50\n",
      " - 16s - loss: 5.5316e-05 - mean_absolute_error: 0.0042\n",
      "Epoch 35/50\n",
      " - 16s - loss: 5.5298e-05 - mean_absolute_error: 0.0042\n",
      "Epoch 36/50\n",
      " - 16s - loss: 5.5540e-05 - mean_absolute_error: 0.0042\n",
      "Epoch 37/50\n",
      " - 16s - loss: 5.5571e-05 - mean_absolute_error: 0.0042\n",
      "Epoch 38/50\n",
      " - 16s - loss: 5.5888e-05 - mean_absolute_error: 0.0042\n",
      "Epoch 39/50\n",
      " - 16s - loss: 5.4770e-05 - mean_absolute_error: 0.0042\n",
      "Epoch 40/50\n",
      " - 16s - loss: 5.4992e-05 - mean_absolute_error: 0.0042\n",
      "Epoch 41/50\n",
      " - 16s - loss: 5.5870e-05 - mean_absolute_error: 0.0042\n",
      "Epoch 42/50\n",
      " - 16s - loss: 5.5852e-05 - mean_absolute_error: 0.0042\n",
      "Epoch 43/50\n",
      " - 16s - loss: 5.5567e-05 - mean_absolute_error: 0.0042\n",
      "Epoch 44/50\n",
      " - 16s - loss: 5.5679e-05 - mean_absolute_error: 0.0042\n",
      "Epoch 45/50\n",
      " - 16s - loss: 5.5616e-05 - mean_absolute_error: 0.0042\n",
      "Epoch 46/50\n",
      " - 16s - loss: 5.6006e-05 - mean_absolute_error: 0.0042\n",
      "Epoch 47/50\n",
      " - 16s - loss: 5.5492e-05 - mean_absolute_error: 0.0042\n",
      "Epoch 48/50\n",
      " - 16s - loss: 5.5145e-05 - mean_absolute_error: 0.0042\n",
      "Epoch 49/50\n",
      " - 16s - loss: 5.5507e-05 - mean_absolute_error: 0.0042\n",
      "Epoch 50/50\n",
      " - 16s - loss: 5.5681e-05 - mean_absolute_error: 0.0042\n"
     ]
    },
    {
     "data": {
      "text/plain": [
       "<keras.callbacks.History at 0x7f15880497b8>"
      ]
     },
     "execution_count": 83,
     "metadata": {
      "tags": []
     },
     "output_type": "execute_result"
    }
   ],
   "source": [
    "# MODEL COMPILING AND TRAINING\n",
    "model.compile(loss='mean_squared_error', optimizer='adagrad',metrics = ['mae']) # Try mae, adam, adagrad and compare!!!\n",
    "model.fit(trainX, trainY, epochs=50, batch_size=1, verbose=2)"
   ]
  },
  {
   "cell_type": "code",
   "execution_count": 87,
   "metadata": {
    "colab": {
     "base_uri": "https://localhost:8080/",
     "height": 50
    },
    "colab_type": "code",
    "executionInfo": {
     "elapsed": 898,
     "status": "ok",
     "timestamp": 1565978385230,
     "user": {
      "displayName": "Nupur Deshpande",
      "photoUrl": "",
      "userId": "13787757531456301957"
     },
     "user_tz": 240
    },
    "id": "1amjmgWGFICM",
    "outputId": "793002e6-54b1-413c-dde6-efffe6faac8d"
   },
   "outputs": [
    {
     "name": "stdout",
     "output_type": "stream",
     "text": [
      "565/565 [==============================] - 0s 250us/step\n",
      "Mean Absolute Error for Y: [9.329830344243025e-06, 0.0026545574847378034]\n"
     ]
    }
   ],
   "source": [
    "mae = model.evaluate(testX, testY, batch_size=16)\n",
    "print('Mean Absolute Error for Y:', mae)"
   ]
  },
  {
   "cell_type": "markdown",
   "metadata": {
    "colab_type": "text",
    "id": "yT3NCySy0y7g"
   },
   "source": [
    "**The mean absolute error is lower than the past model with one feature. The errror is almost 0.0026. So the training model should be pretty close to testing model.**"
   ]
  },
  {
   "cell_type": "code",
   "execution_count": 0,
   "metadata": {
    "colab": {},
    "colab_type": "code",
    "id": "6uYIJzE_0DxZ"
   },
   "outputs": [],
   "source": [
    "# PREDICTION\n",
    "trainPredict = model.predict(trainX)\n",
    "testPredict = model.predict(testX)"
   ]
  },
  {
   "cell_type": "code",
   "execution_count": 0,
   "metadata": {
    "colab": {},
    "colab_type": "code",
    "id": "ROLKJGIl2J_e"
   },
   "outputs": [],
   "source": [
    "# DE-NORMALIZING FOR PLOTTING\n",
    "trainPredict = scaler.inverse_transform(trainPredict)\n",
    "trainY = scaler.inverse_transform([trainY])\n",
    "testPredict = scaler.inverse_transform(testPredict)\n",
    "testY = scaler.inverse_transform([testY])"
   ]
  },
  {
   "cell_type": "code",
   "execution_count": 90,
   "metadata": {
    "colab": {
     "base_uri": "https://localhost:8080/",
     "height": 34
    },
    "colab_type": "code",
    "executionInfo": {
     "elapsed": 1425,
     "status": "ok",
     "timestamp": 1565978407619,
     "user": {
      "displayName": "Nupur Deshpande",
      "photoUrl": "",
      "userId": "13787757531456301957"
     },
     "user_tz": 240
    },
    "id": "R-s7kUbd2KNc",
    "outputId": "b0425c17-415a-41a9-a3c7-d3829358f8b9"
   },
   "outputs": [
    {
     "name": "stdout",
     "output_type": "stream",
     "text": [
      "Train : 14.47\n"
     ]
    }
   ],
   "source": [
    "# TRAINING rmse\n",
    "trainScore = math.sqrt(mean_squared_error(trainY[0], trainPredict[:,0]))\n",
    "print('Train : %.2f' % (trainScore))"
   ]
  },
  {
   "cell_type": "code",
   "execution_count": 91,
   "metadata": {
    "colab": {
     "base_uri": "https://localhost:8080/",
     "height": 34
    },
    "colab_type": "code",
    "executionInfo": {
     "elapsed": 484,
     "status": "ok",
     "timestamp": 1565978409272,
     "user": {
      "displayName": "Nupur Deshpande",
      "photoUrl": "",
      "userId": "13787757531456301957"
     },
     "user_tz": 240
    },
    "id": "PwM4dL-n2Sfr",
    "outputId": "8ff47f43-5a38-497a-8c43-3dd5a1a3d251"
   },
   "outputs": [
    {
     "name": "stdout",
     "output_type": "stream",
     "text": [
      "Test RMSE: 5.88\n"
     ]
    }
   ],
   "source": [
    "# TEST RMSE\n",
    "testScore = math.sqrt(mean_squared_error(testY[0], testPredict[:,0]))\n",
    "print('Test RMSE: %.2f' % (testScore))"
   ]
  },
  {
   "cell_type": "code",
   "execution_count": 0,
   "metadata": {
    "colab": {},
    "colab_type": "code",
    "id": "DwSzCAOg2Sui"
   },
   "outputs": [],
   "source": [
    "# CREATING SIMILAR DATASET TO PLOT TRAINING PREDICTIONS\n",
    "trainPredictPlot = np.empty_like(OHLC_avg)\n",
    "trainPredictPlot[:, :] = np.nan\n",
    "trainPredictPlot[step_size:len(trainPredict)+step_size, :] = trainPredict"
   ]
  },
  {
   "cell_type": "code",
   "execution_count": 0,
   "metadata": {
    "colab": {},
    "colab_type": "code",
    "id": "JNZkZbvS2S8A"
   },
   "outputs": [],
   "source": [
    "# CREATING SIMILAR DATASSET TO PLOT TEST PREDICTIONS\n",
    "testPredictPlot = np.empty_like(OHLC_avg)\n",
    "testPredictPlot[:, :] = np.nan\n",
    "testPredictPlot[len(trainPredict)+(step_size*2)+1:len(OHLC_avg)-1, :] = testPredict"
   ]
  },
  {
   "cell_type": "code",
   "execution_count": 94,
   "metadata": {
    "colab": {
     "base_uri": "https://localhost:8080/",
     "height": 283
    },
    "colab_type": "code",
    "executionInfo": {
     "elapsed": 1462,
     "status": "ok",
     "timestamp": 1565978414993,
     "user": {
      "displayName": "Nupur Deshpande",
      "photoUrl": "",
      "userId": "13787757531456301957"
     },
     "user_tz": 240
    },
    "id": "uMlLzjbO2KVv",
    "outputId": "73e936bf-4275-49e1-8a8c-6255c930cfb8"
   },
   "outputs": [
    {
     "data": {
      "image/png": "[encoded data removed]",
      "text/plain": [
       "<Figure size 432x288 with 1 Axes>"
      ]
     },
     "metadata": {
      "tags": []
     },
     "output_type": "display_data"
    }
   ],
   "source": [
    "# PLOT OF MAIN OHLC VALUES, TRAIN PREDICTIONS AND TEST PREDICTIONS\n",
    "plt.plot(trainPredictPlot, 'r', label = 'training set')\n",
    "plt.plot(testPredictPlot, 'b', label = 'predicted stock price/test set')\n",
    "plt.legend(loc = 'upper right')\n",
    "plt.xlabel('Time in Days')\n",
    "plt.ylabel('Trend of training and prediction data')\n",
    "plt.show()\n"
   ]
  },
  {
   "cell_type": "markdown",
   "metadata": {
    "colab_type": "text",
    "id": "zHx-W08B2wps"
   },
   "source": [
    "**We trained our data for the first 1700 or so days and then tested for the rest. The prediction plot has kept up with the pattern how ever not to my satisfaction.**"
   ]
  },
  {
   "cell_type": "code",
   "execution_count": 95,
   "metadata": {
    "colab": {
     "base_uri": "https://localhost:8080/",
     "height": 50
    },
    "colab_type": "code",
    "executionInfo": {
     "elapsed": 1560,
     "status": "ok",
     "timestamp": 1565978422972,
     "user": {
      "displayName": "Nupur Deshpande",
      "photoUrl": "",
      "userId": "13787757531456301957"
     },
     "user_tz": 240
    },
    "id": "C5SQ_pi82KS5",
    "outputId": "053cd7ec-42f0-452d-cc86-768e0a88531c"
   },
   "outputs": [
    {
     "name": "stdout",
     "output_type": "stream",
     "text": [
      "Last Day Value: 139.6865234375\n",
      "Next Day Value: 138.06378173828125\n"
     ]
    }
   ],
   "source": [
    "# PREDICT FUTURE VALUES\n",
    "last_val = testPredict[-1]\n",
    "last_val_scaled = last_val/last_val\n",
    "next_val = model.predict(np.reshape(last_val_scaled, (1,1,1)))\n",
    "print(\"Last Day Value:\", np.asscalar(last_val))\n",
    "print(\"Next Day Value:\", np.asscalar(last_val*next_val))\n",
    "# print np.append(last_val, next_val)\n"
   ]
  },
  {
   "cell_type": "markdown",
   "metadata": {
    "colab_type": "text",
    "id": "IXmqKOhv5k_4"
   },
   "source": [
    "**The value  was found  relying on OHLC values. As the days increase the value is decreasing or rather stabilizing. However this is a wrong way of going about since amazon prices are still booming not decreasing.**\n",
    "\n",
    "**Next notebook I'll focus on NOT overfitting the model and trying to get more data. Also I'll perform hyperparameter tuning and then try to PREDICT the STOCK PRICE MOVEMENT instead of the prices** "
   ]
  },
  {
   "cell_type": "markdown",
   "metadata": {
    "colab_type": "text",
    "id": "j4UZTgxim3s7"
   },
   "source": [
    "  Code Ref for LSTM:\n",
    "  \n",
    "  https://github.com/LiamConnell/deep-algotrading\n",
    "  \n",
    "  https://keras.io/getting-started/sequential-model-guide/"
   ]
  },
  {
   "cell_type": "markdown",
   "metadata": {
    "colab_type": "text",
    "id": "bWkl-qKK8p4s"
   },
   "source": [
    "**IN THE NEXT NOTEBOOK I AM GOING TO FOCUS MORE ON NORMALIZATION WITH HYPERPARAMTER TUNING AND LESS ON FEATURE EXTRACTION. THE REASON FOR THIS IS IT LOOKS LIKE A LSTM ESPECIALLY ON KERAS DOESN'T DO A GREAT JOB AT PREDICTING DAY TO DAY VALUES.**"
   ]
  },
  {
   "cell_type": "markdown",
   "metadata": {
    "colab_type": "text",
    "id": "uYzRzdkT1xbz"
   },
   "source": [
    "**CONCLUSION FOR THIS NOTEBOOK:**\n",
    "\n",
    "**1. FEATURES**:\n",
    "\n",
    "**Focused on feature engineering and made a total of 19 features. Most of them were based on momentum and moving avaerage and EMA. Even Bollinger Bands were calculated**\n",
    "\n",
    "**2. ARIMA MODEL**\n",
    "\n",
    "**Got a great ARIMA model with less differemce AIC and BIC and P values close to the coefficient**\n",
    "\n",
    "**3. FOURIER TRANSFORM MODEL**\n",
    "\n",
    "**We got great predictions with Fourier Transform very close to the actual values**\n",
    "\n",
    "**4. FEATURE ENGINEERING WITH XGBOOST**\n",
    "\n",
    "**Refer to feature extraction graph where features are highest by their closeness to their Closing values. As predicted EMA is pretty high in this feature.** \n",
    "\n",
    "**5. LSTM MODEL WITH ONE FEATURE** \n",
    "\n",
    "**LSTM model with one feature did NOT give us the predictions we wanted.**\n",
    "\n",
    "**6. LSTM MODEL WITH MULTIPLE FEATURES**\n",
    "\n",
    "**LSTM model with multiple features again did not give us predictions we wanted.**\n",
    "\n",
    "**I have come to the conclusion that LSTMs are not great at predicting Stock Prices when you just input stock price directly but rather better at predicting stock price movement over a long period of time.With the help of these movements we can calclate the price.**\n",
    "\n",
    "**For this reason  I will use a larger dataset in the next notebook that can be observed for longer time and then predict stock price movement**\n",
    " \n"
   ]
  }
 ],
 "metadata": {
  "accelerator": "GPU",
  "colab": {
   "collapsed_sections": [],
   "name": "Notebook 1: Stock Market Models-ARIMA, Fourier, Feature Extraction, LSTM.ipynb",
   "provenance": [],
   "version": "0.3.2"
  },
  "kernelspec": {
   "display_name": "Python 3 (ipykernel)",
   "language": "python",
   "name": "python3"
  },
  "language_info": {
   "codemirror_mode": {
    "name": "ipython",
    "version": 3
   },
   "file_extension": ".py",
   "mimetype": "text/x-python",
   "name": "python",
   "nbconvert_exporter": "python",
   "pygments_lexer": "ipython3",
   "version": "3.9.12"
  }
 },
 "nbformat": 4,
 "nbformat_minor": 1
}
